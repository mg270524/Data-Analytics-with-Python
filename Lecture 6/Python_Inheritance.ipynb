{
 "cells": [
  {
   "cell_type": "markdown",
   "id": "0337a538-bf34-4b56-856b-0042d10ef133",
   "metadata": {},
   "source": [
    "# Inheritance in Python"
   ]
  },
  {
   "cell_type": "markdown",
   "id": "db2d5f3e-b2ae-4a40-bc56-cbd03c7b67fe",
   "metadata": {},
   "source": [
    "* Inheritance is one of the cornerstones of object-oriented programming (OOP), enabling a class to inherit properties and behaviors from another class. "
   ]
  },
  {
   "cell_type": "markdown",
   "id": "9764eb1a-12dc-4bb1-9331-8ebdc7d3420a",
   "metadata": {},
   "source": [
    "* Inheritance allows us to define a class that inherits all the methods and attributes from another class. Conventionally denotes the new class as **child class**, and the one that it inherits from is called the **parent class or superclass.**  "
   ]
  },
  {
   "cell_type": "markdown",
   "id": "3c049236-f99b-40c6-b3b5-ee26ddd1f8ee",
   "metadata": {},
   "source": [
    "* If we refer back to the definition of class structure, we can see the structure for basic inheritance is  \n",
    "\n",
    "    **class ChildClassName(ParentClassName)** \n",
    "\n",
    "    which means the ChildClassName can access all the  attributes and methods from the ParentClassName. "
   ]
  },
  {
   "cell_type": "markdown",
   "id": "ebc163bb-c949-4ada-88e9-08fcaa49d339",
   "metadata": {},
   "source": [
    "* Inheritance builds a relationship between the child and parent classes. Usually, the parent class is a general type while the child class is a specific type."
   ]
  },
  {
   "cell_type": "markdown",
   "id": "7f8cd0c1-4a7b-44df-8726-b8db7941f12f",
   "metadata": {},
   "source": [
    "* **Single Inheritance:** \n",
    "\n",
    "    Single inheritance is the simplest type of inheritance, in which a single child class originated from a single parent class. Because of its open nature, it is also known as Single Inheritance."
   ]
  },
  {
   "cell_type": "markdown",
   "id": "01d77a0f-ec77-4470-87ff-57b58c89e8a3",
   "metadata": {},
   "source": [
    "* **Hierarchical/Multi Inheritance:**\n",
    "\n",
    "    Hierarchical Inheritance or multi inheritance is the right opposite of multiple inheritance. Hierarchical inheritance is a type of inheritance in which multiple classes inherit properties and methods from the same parent class."
   ]
  },
  {
   "cell_type": "markdown",
   "id": "85ae1527-8dad-4ac5-88f3-4017f7c711cc",
   "metadata": {},
   "source": [
    "* **Multilevel Inheritance:**\n",
    "    \n",
    "    Multilevel inheritance is a type of inheritance where a class inherits from another class, which itself inherits from a base class. This forms a chain of inheritance, with the topmost class being the ultimate parent and the bottommost class being the ultimate child."
   ]
  },
  {
   "cell_type": "code",
   "execution_count": 1,
   "id": "1f1f8496",
   "metadata": {
    "tags": []
   },
   "outputs": [],
   "source": [
    "# Base class\n",
    "class ICT_Employee:\n",
    "    bonus = 1.04\n",
    "    def __init__(self, firstname,middlename, lastname, salary):\n",
    "        self.firstname = firstname\n",
    "        self.middlename = middlename\n",
    "        self.lastname = lastname\n",
    "        self.salary = salary\n",
    "        if self.middlename is None:\n",
    "            self.email=self.firstname[0]+'.'+self.lastname+'@ictmumbai.edu.in'\n",
    "        else:    \n",
    "            self.email=self.firstname[0]+self.middlename[0]+'.'+self.lastname+'@ictmumbai.edu.in'\n",
    "\n",
    "    def display_info(self):\n",
    "        return f\"Name: {self.firstname}  {self.middlename} {self.lastname} , Email: {self.email}\"\n",
    "    \n",
    "    def fullname(self):\n",
    "        return f'{self.firstname} {self.middlename} {self.lastname}'\n",
    "        \n",
    "    def Raise_Salary(self):\n",
    "        self.salary = self.salary*self.bonus\n",
    " \n",
    "\n",
    "# 1st Derived class\n",
    "class Staff(ICT_Employee):\n",
    " \n",
    "    def __init__(self, firstname, middlename, lastname,salary, department):\n",
    "        super().__init__(firstname,middlename,  lastname,salary)\n",
    "        self.department = department\n",
    "\n",
    "# 2nd Derived class\n",
    "class Professor(ICT_Employee):\n",
    "    #bonus = 1.10\n",
    "    def __init__(self, firstname, middlename, lastname,salary, phdstudents):\n",
    "        super().__init__(firstname,middlename,  lastname,salary)\n",
    "        if phdstudents is None:\n",
    "            self.phdstudents=[]\n",
    "        else:\n",
    "            self.phdstudents=phdstudents\n",
    "    def add_phdstudent(self,student):\n",
    "        if student not in self.phdstudents:\n",
    "            self.phdstudents.append(student)\n",
    "    \n",
    "    def get_students(self):\n",
    "        for stu in self.phdstudents:\n",
    "            print(stu.fullname())"
   ]
  },
  {
   "cell_type": "code",
   "execution_count": 2,
   "id": "9e4e8772-5bc0-427d-b524-fb2238ae79bd",
   "metadata": {
    "tags": []
   },
   "outputs": [
    {
     "data": {
      "text/plain": [
       "'Name: Ria  Sen Gupta , Email: RS.Gupta@ictmumbai.edu.in'"
      ]
     },
     "execution_count": 2,
     "metadata": {},
     "output_type": "execute_result"
    }
   ],
   "source": [
    "emp1 = ICT_Employee('Ria','Sen','Gupta',100000)\n",
    "emp1.display_info()"
   ]
  },
  {
   "cell_type": "code",
   "execution_count": 4,
   "id": "43c862d8-8ba7-4cb6-8412-140cafa314d3",
   "metadata": {
    "tags": []
   },
   "outputs": [
    {
     "data": {
      "text/plain": [
       "'Name: Yash  None Patel , Email: Y.Patel@ictmumbai.edu.in'"
      ]
     },
     "execution_count": 4,
     "metadata": {},
     "output_type": "execute_result"
    }
   ],
   "source": [
    "emp2 = ICT_Employee('Yash',None, 'Patel',105000)\n",
    "emp2.display_info()\n"
   ]
  },
  {
   "cell_type": "code",
   "execution_count": 5,
   "id": "308b600d",
   "metadata": {
    "tags": []
   },
   "outputs": [
    {
     "data": {
      "text/plain": [
       "105000"
      ]
     },
     "execution_count": 5,
     "metadata": {},
     "output_type": "execute_result"
    }
   ],
   "source": [
    "emp1.Raise_Salary()\n",
    "emp2.salary"
   ]
  },
  {
   "cell_type": "code",
   "execution_count": 6,
   "id": "d64727d2-42ed-438f-b798-4ed8fbda23ce",
   "metadata": {
    "tags": []
   },
   "outputs": [
    {
     "data": {
      "text/plain": [
       "104000.0"
      ]
     },
     "execution_count": 6,
     "metadata": {},
     "output_type": "execute_result"
    }
   ],
   "source": [
    "emp1.salary"
   ]
  },
  {
   "cell_type": "code",
   "execution_count": 51,
   "id": "2dcfc2f1",
   "metadata": {
    "tags": []
   },
   "outputs": [
    {
     "data": {
      "text/plain": [
       "('RS.Gupta@ictmumbai.edu.in', 'Y.Patel@ictmumbai.edu.in')"
      ]
     },
     "execution_count": 51,
     "metadata": {},
     "output_type": "execute_result"
    }
   ],
   "source": [
    "emp1.email, emp2.email\n"
   ]
  },
  {
   "cell_type": "code",
   "execution_count": 52,
   "id": "624f385a",
   "metadata": {
    "tags": []
   },
   "outputs": [
    {
     "data": {
      "text/plain": [
       "'Name: Somu  Sundaram Jain , Email: SS.Jain@ictmumbai.edu.in'"
      ]
     },
     "execution_count": 52,
     "metadata": {},
     "output_type": "execute_result"
    }
   ],
   "source": [
    "staff1 = Staff('Somu','Sundaram', 'Jain',120000,'Academic')\n",
    "staff1.display_info()"
   ]
  },
  {
   "cell_type": "code",
   "execution_count": 33,
   "id": "b133c08d",
   "metadata": {
    "tags": []
   },
   "outputs": [
    {
     "data": {
      "text/plain": [
       "124800.0"
      ]
     },
     "execution_count": 33,
     "metadata": {},
     "output_type": "execute_result"
    }
   ],
   "source": [
    "staff1.Raise_Salary()\n",
    "staff1.salary"
   ]
  },
  {
   "cell_type": "code",
   "execution_count": 34,
   "id": "cff40303",
   "metadata": {
    "tags": []
   },
   "outputs": [
    {
     "data": {
      "text/plain": [
       "108160.0"
      ]
     },
     "execution_count": 34,
     "metadata": {},
     "output_type": "execute_result"
    }
   ],
   "source": [
    "emp1.Raise_Salary()\n",
    "emp1.salary"
   ]
  },
  {
   "cell_type": "code",
   "execution_count": 35,
   "id": "a5e3fea6",
   "metadata": {
    "tags": []
   },
   "outputs": [
    {
     "name": "stdout",
     "output_type": "stream",
     "text": [
      "Ria Sen Gupta\n"
     ]
    }
   ],
   "source": [
    "print(emp1.fullname())"
   ]
  },
  {
   "cell_type": "code",
   "execution_count": 53,
   "id": "c2dc2833",
   "metadata": {
    "tags": []
   },
   "outputs": [],
   "source": [
    "prof1=Professor('Rob',None, 'Beezer',125000,None)\n",
    "prof1.fullname()\n",
    "prof1.add_phdstudent(staff1)"
   ]
  },
  {
   "cell_type": "code",
   "execution_count": 54,
   "id": "b0b40bc1",
   "metadata": {
    "tags": []
   },
   "outputs": [
    {
     "data": {
      "text/plain": [
       "'R.Beezer@ictmumbai.edu.in'"
      ]
     },
     "execution_count": 54,
     "metadata": {},
     "output_type": "execute_result"
    }
   ],
   "source": [
    "prof1.get_students()\n",
    "prof1.email"
   ]
  },
  {
   "cell_type": "code",
   "execution_count": 55,
   "id": "a0682131",
   "metadata": {
    "tags": []
   },
   "outputs": [
    {
     "data": {
      "text/plain": [
       "'Somu Sundaram Jain'"
      ]
     },
     "execution_count": 55,
     "metadata": {},
     "output_type": "execute_result"
    }
   ],
   "source": [
    "staff1.fullname()"
   ]
  },
  {
   "cell_type": "markdown",
   "id": "e33ad047-126e-48d8-bb1b-3986c35232ae",
   "metadata": {},
   "source": [
    "**Remark:** \n",
    "\n",
    "Super() is a built-in function that allows you to call methods of a parent class from a subclass. By using super(), you can easily access and override methods that are already defined in a parent class, allowing you to add functionality without duplicating code."
   ]
  },
  {
   "cell_type": "code",
   "execution_count": 7,
   "id": "4d4bce4a",
   "metadata": {
    "tags": []
   },
   "outputs": [
    {
     "name": "stdout",
     "output_type": "stream",
     "text": [
      "Help on class Professor in module __main__:\n",
      "\n",
      "class Professor(ICT_Employee)\n",
      " |  Professor(firstname, middlename, lastname, salary, phdstudents)\n",
      " |  \n",
      " |  Method resolution order:\n",
      " |      Professor\n",
      " |      ICT_Employee\n",
      " |      builtins.object\n",
      " |  \n",
      " |  Methods defined here:\n",
      " |  \n",
      " |  __init__(self, firstname, middlename, lastname, salary, phdstudents)\n",
      " |      Initialize self.  See help(type(self)) for accurate signature.\n",
      " |  \n",
      " |  add_phdstudent(self, student)\n",
      " |  \n",
      " |  get_students(self)\n",
      " |  \n",
      " |  ----------------------------------------------------------------------\n",
      " |  Methods inherited from ICT_Employee:\n",
      " |  \n",
      " |  Raise_Salary(self)\n",
      " |  \n",
      " |  display_info(self)\n",
      " |  \n",
      " |  fullname(self)\n",
      " |  \n",
      " |  ----------------------------------------------------------------------\n",
      " |  Data descriptors inherited from ICT_Employee:\n",
      " |  \n",
      " |  __dict__\n",
      " |      dictionary for instance variables (if defined)\n",
      " |  \n",
      " |  __weakref__\n",
      " |      list of weak references to the object (if defined)\n",
      " |  \n",
      " |  ----------------------------------------------------------------------\n",
      " |  Data and other attributes inherited from ICT_Employee:\n",
      " |  \n",
      " |  bonus = 1.04\n",
      "\n"
     ]
    }
   ],
   "source": [
    "## To check the classes from Professor class inherits\n",
    "help(Professor) "
   ]
  },
  {
   "cell_type": "code",
   "execution_count": null,
   "id": "8a726f34",
   "metadata": {},
   "outputs": [],
   "source": [
    "       \n",
    "# Derived class\n",
    "class Professor(ICT_Employee):\n",
    "    def __init__(self, name, salary, department):\n",
    "        super().__init__(name, salary)\n",
    "        self.department = department\n",
    "\n",
    "    def display_info(self):\n",
    "        super().display_info()\n",
    "        print(f\"Department: {self.department}\")\n",
    "\n",
    "# Another Derived class\n",
    "class Staff(ICT_Employee):\n",
    "    def __init__(self, name, salary, department):\n",
    "        super().__init__(name, salary)\n",
    "        self.department = department\n",
    "\n",
    "    def display_info(self):\n",
    "        super().display_info()\n",
    "        print(f\"Department: {self.department}\")"
   ]
  },
  {
   "cell_type": "code",
   "execution_count": 116,
   "id": "ca9e9d07",
   "metadata": {},
   "outputs": [],
   "source": [
    "class Inverstment:\n",
    "    \n",
    "    def __init__(self, principal):\n",
    "        self.principal = principal \n",
    "\n",
    "class Bank_Deposit(Inverstment):\n",
    "    \n",
    "    def __init__(self, principal,interest_rate,years):\n",
    "        super().__init__(principal)\n",
    "        self.interest_rate = interest_rate\n",
    "        self.years = years\n",
    "        \n",
    "    def Return(self):\n",
    "        self.interest =self.principal*self.interest_rate*self.years/100\n",
    "        return self.principal+self.interest"
   ]
  },
  {
   "cell_type": "code",
   "execution_count": 117,
   "id": "c9211407",
   "metadata": {},
   "outputs": [
    {
     "data": {
      "text/plain": [
       "56250.0"
      ]
     },
     "execution_count": 117,
     "metadata": {},
     "output_type": "execute_result"
    }
   ],
   "source": [
    "P1 = Bank_Deposit(50000,2.5,5)\n",
    "P1.Return()"
   ]
  },
  {
   "cell_type": "code",
   "execution_count": 118,
   "id": "4a706eb3",
   "metadata": {},
   "outputs": [
    {
     "name": "stdout",
     "output_type": "stream",
     "text": [
      "Help on class Bank_Deposit in module __main__:\n",
      "\n",
      "class Bank_Deposit(Inverstment)\n",
      " |  Bank_Deposit(principal, interest_rate, years)\n",
      " |  \n",
      " |  Method resolution order:\n",
      " |      Bank_Deposit\n",
      " |      Inverstment\n",
      " |      builtins.object\n",
      " |  \n",
      " |  Methods defined here:\n",
      " |  \n",
      " |  Return(self)\n",
      " |  \n",
      " |  __init__(self, principal, interest_rate, years)\n",
      " |      Initialize self.  See help(type(self)) for accurate signature.\n",
      " |  \n",
      " |  ----------------------------------------------------------------------\n",
      " |  Data descriptors inherited from Inverstment:\n",
      " |  \n",
      " |  __dict__\n",
      " |      dictionary for instance variables (if defined)\n",
      " |  \n",
      " |  __weakref__\n",
      " |      list of weak references to the object (if defined)\n",
      "\n"
     ]
    }
   ],
   "source": [
    "help(Bank_Deposit)"
   ]
  },
  {
   "cell_type": "code",
   "execution_count": 119,
   "id": "985325d1",
   "metadata": {},
   "outputs": [
    {
     "name": "stdout",
     "output_type": "stream",
     "text": [
      "Bisection Root: 1.521380\n",
      "Newton-Raphson Root: 1.521380\n",
      "Secant Root: 1.521380\n"
     ]
    }
   ],
   "source": []
  },
  {
   "cell_type": "code",
   "execution_count": 8,
   "id": "695fdc8b",
   "metadata": {
    "tags": []
   },
   "outputs": [
    {
     "name": "stdout",
     "output_type": "stream",
     "text": [
      "Make: Audi, Model: 2023 \n",
      "Permit ID: SUV, Permit Term: Automatic\n",
      "The utility of the Car is : Tours-Travels\n",
      "The transmission of the Car is : 5 Years\n",
      "Make: Audi, Model: 2023 \n",
      "Permit ID: SUV, Permit Term: Automatic\n",
      "The utility of the Car is : Tours-Travels\n",
      "The transmission of the Car is : 5 Years\n"
     ]
    }
   ],
   "source": [
    "# Multiple inheritance\n",
    "\n",
    "# Parent Class - 1\n",
    "class Vehicle:\n",
    "    def __init__(self, make, model):\n",
    "        self.make = make\n",
    "        self.model = model\n",
    "\n",
    "    def show_details(self):\n",
    "        print(f\"Make: {self.make}, Model: {self.model} \")\n",
    "\n",
    "# Parent Class - 2\n",
    "class RentedVehicle:\n",
    "    def __init__(self, permit_id, permit_term):\n",
    "        self.permit_id = permit_id\n",
    "        self.permit_term = permit_term\n",
    "\n",
    "    def show_rent_details(self):\n",
    "        print(f\"Permit ID: {self.permit_id}, Permit Term: {self.permit_term}\")\n",
    "  \n",
    "# Child class -3\n",
    "class Car(Vehicle, RentedVehicle):\n",
    "    def __init__(self, make, model, permit_id, permit_term, utility, transmission):\n",
    "        Vehicle.__init__(self,make, model)\n",
    "        RentedVehicle.__init__(self, permit_id, permit_term)\n",
    "        self.utility = utility\n",
    "        self.transmission = transmission\n",
    "\n",
    "    def show_car_details(self):\n",
    "        super().show_details()\n",
    "        super().show_rent_details()\n",
    "        print(f\"The utility of the Car is : {self.utility}\")\n",
    "        print(f\"The transmission of the Car is : {self.transmission}\")\n",
    "\n",
    "\n",
    "car1 = Car(\"Audi\", 2023, \"SUV\", \"Automatic\", \"Tours-Travels\", \"5 Years\")\n",
    "car1.show_car_details()\n",
    "\n",
    "car2 = Car(\"Toyota\", 2020, \"SUV\", \"Petrol\", \"Private\", \"10 Years\")\n",
    "car1.show_car_details()"
   ]
  },
  {
   "cell_type": "code",
   "execution_count": 2,
   "id": "9cd7872d-af2c-48b5-aa8f-01a573229f31",
   "metadata": {
    "tags": []
   },
   "outputs": [
    {
     "name": "stdout",
     "output_type": "stream",
     "text": [
      "Model : Dominar, Price : 450000 and Mileage : 40a\n",
      "CC : 500  and Tyres : 2\n",
      "Model : Safari, Price : 2500000 and Mileage : 25a\n",
      "CC : 2000  and Tyres : 4\n",
      "4 star\n",
      "5 star\n"
     ]
    }
   ],
   "source": [
    "# Hybrid Inheritance\n",
    "class vehicle:\n",
    "    \n",
    "    def __init__(self,model,mileage,price):\n",
    "        self.price = price\n",
    "        self.mileage = mileage\n",
    "        self.model = model\n",
    "        \n",
    "    def show_details(self):\n",
    "        print(f'Model : {self.model}, Price : {self.price} and Mileage : {self.mileage}a')\n",
    "    \n",
    "                \n",
    "class bike(vehicle):\n",
    "    \n",
    "    # Inherit Properties and Override\n",
    "    def __init__(self,model,mileage,price,tyre,cc):\n",
    "        super().__init__(model,mileage,price)\n",
    "        self.cc = cc\n",
    "        self.tyre = tyre\n",
    "    \n",
    "    # Inherit Behavior and Override\n",
    "    def show_details(self):\n",
    "        super().show_details()\n",
    "        print(f'CC : {self.cc}  and Tyres : {self.tyre}')\n",
    "      \n",
    "    # Method of Derived Class\n",
    "    def rating(self):\n",
    "        print('4 star')\n",
    "        \n",
    "\n",
    "class car(bike,vehicle):\n",
    "    \n",
    "    def rating(self):\n",
    "        print('5 star')\n",
    "\n",
    "bajaj = bike(\"Dominar\",40,450000,2,500)\n",
    "tata = car(\"Safari\",25,2500000,4,2000)\n",
    "\n",
    "bajaj.show_details()\n",
    "tata.show_details()\n",
    "\n",
    "bajaj.rating()\n",
    "tata.rating()\n",
    " \n",
    "\n"
   ]
  },
  {
   "cell_type": "markdown",
   "id": "3ca5b400-f42d-4b27-a1c1-9de82cd00fce",
   "metadata": {},
   "source": [
    "### `isinstance` and `issubclass` builtin functions"
   ]
  },
  {
   "cell_type": "code",
   "execution_count": 4,
   "id": "79424cd3-c22b-4f17-a590-15f0d0cac23d",
   "metadata": {
    "tags": []
   },
   "outputs": [
    {
     "name": "stdout",
     "output_type": "stream",
     "text": [
      "True\n",
      "False\n"
     ]
    }
   ],
   "source": [
    "print(isinstance(bajaj,bike))\n",
    "print(isinstance(bike,car))"
   ]
  },
  {
   "cell_type": "code",
   "execution_count": 5,
   "id": "e6411f41-a686-47e7-a643-aa357a91ca8b",
   "metadata": {
    "tags": []
   },
   "outputs": [
    {
     "name": "stdout",
     "output_type": "stream",
     "text": [
      "True\n",
      "False\n"
     ]
    }
   ],
   "source": [
    "print(issubclass(car,vehicle))\n",
    "print(issubclass(vehicle,car))"
   ]
  },
  {
   "cell_type": "markdown",
   "id": "a6cb21b1-9afb-4d81-8af6-84e135db4542",
   "metadata": {},
   "source": [
    "### Python Class to find a numerical root using inheritance "
   ]
  },
  {
   "cell_type": "code",
   "execution_count": 58,
   "id": "a5917a4c-97c7-4261-8503-7b98031f4630",
   "metadata": {
    "tags": []
   },
   "outputs": [],
   "source": [
    "class RootFinder:\n",
    "    \"\"\"Base class for root-finding methods.\"\"\"\n",
    "    def __init__(self, function):\n",
    "        self.function = function\n",
    "\n",
    "    def find_root(self):\n",
    "        \"\"\"Abstract method to find the root.\"\"\"\n",
    "        raise NotImplementedError(\"Subclasses must implement find_root method.\")\n",
    "\n",
    "# Derived class for Bisection Method\n",
    "class BisectionMethod(RootFinder):\n",
    "    def __init__(self, function, lower_bound, upper_bound, tolerance=1e-6, max_iterations=100):\n",
    "        super().__init__(function)\n",
    "        self.lower_bound = lower_bound\n",
    "        self.upper_bound = upper_bound\n",
    "        self.tolerance = tolerance\n",
    "        self.max_iterations = max_iterations\n",
    "\n",
    "    def find_root(self):\n",
    "        a, b = self.lower_bound, self.upper_bound\n",
    "        f = self.function\n",
    "        if f(a) * f(b) >= 0:\n",
    "            raise ValueError(\"Function values at the bounds must have opposite signs.\")\n",
    "\n",
    "        for _ in range(self.max_iterations):\n",
    "            c = (a + b) / 2  # Midpoint\n",
    "            if abs(f(c)) < self.tolerance or (b - a) / 2 < self.tolerance:\n",
    "                return c\n",
    "            if f(a) * f(c) < 0:\n",
    "                b = c\n",
    "            else:\n",
    "                a = c\n",
    "\n",
    "        raise RuntimeError(\"Maximum iterations exceeded.\")\n",
    "\n",
    "# Derived class for Newton-Raphson Method\n",
    "class NewtonRaphsonMethod(RootFinder):\n",
    "    def __init__(self, function, derivative, initial_guess, tolerance=1e-6, max_iterations=100):\n",
    "        super().__init__(function)\n",
    "        self.derivative = derivative\n",
    "        self.initial_guess = initial_guess\n",
    "        self.tolerance = tolerance\n",
    "        self.max_iterations = max_iterations\n",
    "\n",
    "    def find_root(self):\n",
    "        x = self.initial_guess\n",
    "        f = self.function\n",
    "        df = self.derivative\n",
    "\n",
    "        for _ in range(self.max_iterations):\n",
    "            fx = f(x)\n",
    "            dfx = df(x)\n",
    "            if abs(fx) < self.tolerance:\n",
    "                return x\n",
    "            if dfx == 0:\n",
    "                raise ValueError(\"Derivative is zero; Newton-Raphson method fails.\")\n",
    "            x -= fx / dfx\n",
    "\n",
    "        raise RuntimeError(\"Maximum iterations exceeded.\")\n",
    "\n",
    "# Derived class for Secant Method\n",
    "class SecantMethod(RootFinder):\n",
    "    def __init__(self, function, x0, x1, tolerance=1e-6, max_iterations=100):\n",
    "        super().__init__(function)\n",
    "        self.x0 = x0\n",
    "        self.x1 = x1\n",
    "        self.tolerance = tolerance\n",
    "        self.max_iterations = max_iterations\n",
    "\n",
    "    def find_root(self):\n",
    "        x0, x1 = self.x0, self.x1\n",
    "        f = self.function\n",
    "\n",
    "        for _ in range(self.max_iterations):\n",
    "            fx0 = f(x0)\n",
    "            fx1 = f(x1)\n",
    "            if abs(fx1) < self.tolerance:\n",
    "                return x1\n",
    "            if fx1 - fx0 == 0:\n",
    "                raise ValueError(\"Division by zero in Secant method.\")\n",
    "            x_new = x1 - fx1 * (x1 - x0) / (fx1 - fx0)\n",
    "            x0, x1 = x1, x_new\n",
    "\n",
    "        raise RuntimeError(\"Maximum iterations exceeded.\")"
   ]
  },
  {
   "cell_type": "code",
   "execution_count": 59,
   "id": "e1239a68-f8b3-460b-9156-40db7ab00878",
   "metadata": {
    "tags": []
   },
   "outputs": [
    {
     "name": "stdout",
     "output_type": "stream",
     "text": [
      "Bisection Root: 1.521380\n",
      "Newton-Raphson Root: 1.521380\n",
      "Secant Root: 1.521380\n"
     ]
    }
   ],
   "source": [
    "# Example Usage\n",
    "if __name__ == \"__main__\":\n",
    "    # Define the function and its derivative\n",
    "    def func(x):\n",
    "        return x**3 - x - 2\n",
    "\n",
    "    def derivative(x):\n",
    "        return 3*x**2 - 1\n",
    "\n",
    "    # Bisection Method\n",
    "    bisection = BisectionMethod(func, lower_bound=1, upper_bound=2)\n",
    "    print(f\"Bisection Root: {bisection.find_root():.6f}\")\n",
    "\n",
    "    # Newton-Raphson Method\n",
    "    newton = NewtonRaphsonMethod(func, derivative, initial_guess=1.5)\n",
    "    print(f\"Newton-Raphson Root: {newton.find_root():.6f}\")\n",
    "\n",
    "    # Secant Method\n",
    "    secant = SecantMethod(func, x0=1, x1=2)\n",
    "    print(f\"Secant Root: {secant.find_root():.6f}\")"
   ]
  }
 ],
 "metadata": {
  "kernelspec": {
   "display_name": "Python 3 (ipykernel)",
   "language": "python",
   "name": "python3"
  },
  "language_info": {
   "codemirror_mode": {
    "name": "ipython",
    "version": 3
   },
   "file_extension": ".py",
   "mimetype": "text/x-python",
   "name": "python",
   "nbconvert_exporter": "python",
   "pygments_lexer": "ipython3",
   "version": "3.11.5"
  }
 },
 "nbformat": 4,
 "nbformat_minor": 5
}
