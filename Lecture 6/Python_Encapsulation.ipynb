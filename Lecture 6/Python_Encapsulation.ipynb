{
 "cells": [
  {
   "cell_type": "markdown",
   "id": "dcfc5d8d-b6cc-48f1-aefb-72db33c500c0",
   "metadata": {},
   "source": [
    "# Encapsulation\n",
    " "
   ]
  },
  {
   "cell_type": "markdown",
   "id": "1fc40b83-15d0-489a-ac77-bb230f605004",
   "metadata": {},
   "source": [
    "**Encapsulation** in Python is a fundamental object-oriented programming concept that restricts access to the inner workings of a class and allows controlled access through methods. It is achieved by defining attributes or methods with different access levels: public, protected, and private.\n",
    " \n",
    "* Public Members: Accessible from anywhere.\n",
    "* Protected Members: Indicated by a single underscore (`_`) , they suggest that the member should not be accessed directly but can be accessed if necessary.\n",
    "\n",
    "* Private Members: Indicated by a double underscore (`__`), they restrict direct access and prevent accidental modification."
   ]
  },
  {
   "cell_type": "code",
   "execution_count": 2,
   "id": "93c0b68f-fc98-4058-adf1-ca6f3c596b82",
   "metadata": {
    "tags": []
   },
   "outputs": [],
   "source": [
    "# example to explain encapulation\n",
    "class Students:\n",
    "    def __init__(self, name, age, roll_number, marks):\n",
    "        # Public variable\n",
    "        self.name = name\n",
    "        \n",
    "        # Protected variable\n",
    "        self._age = age\n",
    "        \n",
    "        # Private variables\n",
    "        self.__roll_number = roll_number\n",
    "        self.__marks = marks\n",
    "\n",
    "    # Public method to get roll number\n",
    "    def get_roll_number(self):\n",
    "        return self.__roll_number\n",
    "\n",
    "    # Public method to set roll number\n",
    "    def set_roll_number(self, roll_number):\n",
    "        if isinstance(roll_number, int) and roll_number > 0:\n",
    "            self.__roll_number = roll_number\n",
    "        else:\n",
    "            raise ValueError(\"Invalid roll number. It must be a positive integer.\")\n",
    "\n",
    "    # Protected method to update marks\n",
    "    def _update_marks(self, marks):\n",
    "        if 0 <= marks <= 100:\n",
    "            self.__marks = marks\n",
    "        else:\n",
    "            raise ValueError(\"Marks must be between 0 and 100.\")\n",
    "\n",
    "    # Public method to display student details\n",
    "    def display_details(self):\n",
    "        print(f\"Name: {self.name}\")\n",
    "        print(f\"Age: {self._age}\")\n",
    "        print(f\"Roll Number: {self.__roll_number}\")\n",
    "        print(f\"Marks: {self.__marks}\")"
   ]
  },
  {
   "cell_type": "code",
   "execution_count": 3,
   "id": "940d87c8-6451-4308-aca8-c6ec82a6f9d0",
   "metadata": {
    "tags": []
   },
   "outputs": [
    {
     "name": "stdout",
     "output_type": "stream",
     "text": [
      "Public Variable - Name: Mohit\n",
      "Protected Variable - Age: 20\n",
      "'Students' object has no attribute '__roll_number'\n",
      "Accessing Private Roll Number: 101\n",
      "Updated Roll Number: 102\n",
      "Name: Mohit\n",
      "Age: 20\n",
      "Roll Number: 102\n",
      "Marks: 90\n"
     ]
    }
   ],
   "source": [
    "# Example Usage\n",
    "if __name__ == \"__main__\":\n",
    "    student = Students(name=\"Mohit\", age=20, roll_number=101, marks=85)\n",
    "    \n",
    "    # Accessing public variable\n",
    "    print(\"Public Variable - Name:\", student.name)\n",
    "    \n",
    "    # Accessing protected variable (not recommended directly)\n",
    "    print(\"Protected Variable - Age:\", student._age)\n",
    "    \n",
    "    # Accessing private variable (not allowed directly)\n",
    "    try:\n",
    "        print(\"Private Variable - Roll Number:\", student.__roll_number)\n",
    "    except AttributeError as e:\n",
    "        print(e)\n",
    "\n",
    "    # Accessing private variable through public getter\n",
    "    print(\"Accessing Private Roll Number:\", student.get_roll_number())\n",
    "\n",
    "    # Modifying private variable through public setter\n",
    "    student.set_roll_number(102)\n",
    "    print(\"Updated Roll Number:\", student.get_roll_number())\n",
    "\n",
    "    # Protected method usage\n",
    "    student._update_marks(90)\n",
    "    \n",
    "    # Displaying student details\n",
    "    student.display_details()"
   ]
  },
  {
   "cell_type": "code",
   "execution_count": 6,
   "id": "e683f9a5-f599-4483-bde3-5e29d4fca2d3",
   "metadata": {
    "tags": []
   },
   "outputs": [
    {
     "ename": "SyntaxError",
     "evalue": "invalid syntax (430449815.py, line 46)",
     "output_type": "error",
     "traceback": [
      "\u001b[1;36m  Cell \u001b[1;32mIn[6], line 46\u001b[1;36m\u001b[0m\n\u001b[1;33m    company.__generate_report()  Raises AttributeError\u001b[0m\n\u001b[1;37m                                 ^\u001b[0m\n\u001b[1;31mSyntaxError\u001b[0m\u001b[1;31m:\u001b[0m invalid syntax\n"
     ]
    }
   ],
   "source": [
    "## Another Example\n",
    "class Company:\n",
    "    def __init__(self, name, revenue):\n",
    "        self.name = name  # Public attribute\n",
    "        self._revenue = revenue  # Protected attribute\n",
    "\n",
    "    def _calculate_tax(self):\n",
    "        \"\"\"\n",
    "        Protected method: Can be accessed by subclasses.\n",
    "        \"\"\"\n",
    "        return self._revenue * 0.3  # Example: 30% tax\n",
    "\n",
    "    def __generate_report(self):\n",
    "        \"\"\"\n",
    "        Private method: Cannot be accessed outside the class.\n",
    "        \"\"\"\n",
    "        return f\"Company: {self.name}, Revenue: Rs.{self._revenue}, Tax: Rs.{self._calculate_tax()}\"\n",
    "\n",
    "    def show_details(self):\n",
    "        \"\"\"\n",
    "        Public method: Calls the private method inside the class.\n",
    "        \"\"\"\n",
    "        print(self.__generate_report())\n",
    "\n",
    "\n",
    "# Subclass inheriting from Company\n",
    "class Subsidiary(Company):\n",
    "    def show_tax(self):\n",
    "        \"\"\"\n",
    "        Accessing protected method in a subclass.\n",
    "        \"\"\"\n",
    "        print(f\"Tax for {self.name}: Rs.{self._calculate_tax()}\")  \n",
    "\n",
    "\n",
    "# Example Usage\n",
    "company = Company(\"TechCorp\", 500000)\n",
    "company.show_details()  # Calls the private method internally\n",
    "\n",
    "subsidiary = Subsidiary(\"SubTech\", 200000)\n",
    "subsidiary.show_tax()  # Accessing protected method from subclass\n",
    "\n",
    "# Accessing protected method directly (not recommended)\n",
    "print(company._calculate_tax())  # Works, but should be avoided\n",
    "\n",
    "# Attempt to access private method directly (will fail)\n",
    "# company.__generate_report()  Raises AttributeError\n",
    "\n",
    "# Accessing private method using name mangling (not recommended)\n",
    "print(company._Company__generate_report())  # Works but should be avoided\n"
   ]
  }
 ],
 "metadata": {
  "kernelspec": {
   "display_name": "Python 3 (ipykernel)",
   "language": "python",
   "name": "python3"
  },
  "language_info": {
   "codemirror_mode": {
    "name": "ipython",
    "version": 3
   },
   "file_extension": ".py",
   "mimetype": "text/x-python",
   "name": "python",
   "nbconvert_exporter": "python",
   "pygments_lexer": "ipython3",
   "version": "3.11.5"
  }
 },
 "nbformat": 4,
 "nbformat_minor": 5
}
