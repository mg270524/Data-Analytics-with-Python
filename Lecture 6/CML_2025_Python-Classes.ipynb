{
 "cells": [
  {
   "cell_type": "markdown",
   "id": "f612c48e",
   "metadata": {},
   "source": [
    "<H2 style=\"color:blue; text-align: center;\"> Computational Mathematics Lab</H2>\n",
    "<H3 style=\"color:green; text-align: center;\"> Lecture 3 (Python Classes)</H3>\n",
    "<H4 style=\"color:Magenta; text-align: center;\"> By Ajit Kumar (ICT Mumbai)</H4>\n",
    "<H4 style=\"color:Maroon; text-align: center;\"> Jan. 29, 2025</H4>\n",
    "<HR style=\"height:2px;size:30;background-color:Olive\"></HR>"
   ]
  },
  {
   "cell_type": "markdown",
   "id": "c5f8fcee",
   "metadata": {
    "tags": []
   },
   "source": [
    "## Python Classes"
   ]
  },
  {
   "cell_type": "markdown",
   "id": "c97cbc5a-dae6-46b8-86b1-7d3dc20f7cd6",
   "metadata": {
    "tags": []
   },
   "source": [
    "* We have seen various types such as int, float, long, complex, str, bool, tuple, NoneType, list, dict, set, functions and files in Python. "
   ]
  },
  {
   "cell_type": "markdown",
   "id": "ce0d8c45-587a-4952-89f2-55bae3746ac4",
   "metadata": {
    "tags": []
   },
   "source": [
    "* Python objects belong to types.  "
   ]
  },
  {
   "cell_type": "markdown",
   "id": "a7159088-b9ed-4700-bc06-e33f45e45da4",
   "metadata": {
    "tags": []
   },
   "source": [
    "* Each type supports a specific set of operators, such as +, −, *, /, getitem (i.e. []), and call (i.e. ()). "
   ]
  },
  {
   "cell_type": "markdown",
   "id": "96e54b03-7078-43b8-bd9c-6575408c25f2",
   "metadata": {
    "tags": []
   },
   "source": [
    "* Some types of objects represent the aggregation of multiple sources of information, rather than a single value. Such types support information integration and access via attributes and methods. "
   ]
  },
  {
   "cell_type": "markdown",
   "id": "e6e9269e-74a0-4d99-b61f-b046e1c637d7",
   "metadata": {
    "tags": []
   },
   "source": [
    "* For example, the complex type supports the attributes real and imag, and the method conjugate."
   ]
  },
  {
   "cell_type": "code",
   "execution_count": null,
   "id": "3cb4c109",
   "metadata": {
    "tags": []
   },
   "outputs": [],
   "source": [
    "z = 5-7J\n",
    "w = 3+2J"
   ]
  },
  {
   "cell_type": "code",
   "execution_count": null,
   "id": "e58ace62-1b67-4bfd-b8c9-6da0f43850fd",
   "metadata": {},
   "outputs": [],
   "source": [
    "help(complex)"
   ]
  },
  {
   "cell_type": "code",
   "execution_count": null,
   "id": "e65b9afb",
   "metadata": {
    "tags": []
   },
   "outputs": [],
   "source": [
    "type(z), type(w)"
   ]
  },
  {
   "cell_type": "markdown",
   "id": "71518343",
   "metadata": {
    "tags": []
   },
   "source": [
    "Here $z$ is an object of type 'complex'."
   ]
  },
  {
   "cell_type": "code",
   "execution_count": null,
   "id": "e001b09e-b75d-4032-8d54-6efba4c9deaa",
   "metadata": {},
   "outputs": [],
   "source": [
    "# use z dot + TAB to get drop down \n",
    "z."
   ]
  },
  {
   "cell_type": "code",
   "execution_count": null,
   "id": "7971ca7d",
   "metadata": {
    "tags": []
   },
   "outputs": [],
   "source": [
    "z.real"
   ]
  },
  {
   "cell_type": "code",
   "execution_count": null,
   "id": "b19fc773",
   "metadata": {
    "tags": []
   },
   "outputs": [],
   "source": [
    "z.imag"
   ]
  },
  {
   "cell_type": "markdown",
   "id": "2be70430",
   "metadata": {
    "tags": []
   },
   "source": [
    "'real' and 'imag' are instances or atributes of the object z."
   ]
  },
  {
   "cell_type": "code",
   "execution_count": null,
   "id": "61529e21",
   "metadata": {
    "tags": []
   },
   "outputs": [],
   "source": [
    "z.conjugate()"
   ]
  },
  {
   "cell_type": "code",
   "execution_count": null,
   "id": "0d2db442",
   "metadata": {
    "tags": []
   },
   "outputs": [],
   "source": [
    "complex.conjugate(z) # Same as earlier. "
   ]
  },
  {
   "cell_type": "markdown",
   "id": "d505e5ca",
   "metadata": {
    "tags": []
   },
   "source": [
    "* 'conjugate' is a method that can be applied to the object z. \n",
    "* When 'z.conjugate()' is called  it is translated into a call to 'complex.conjugate(z)', with the object z being passed as the self argument implicitly"
   ]
  },
  {
   "cell_type": "markdown",
   "id": "c25bbc23-4244-467e-8cfa-32b287304ef3",
   "metadata": {
    "tags": []
   },
   "source": [
    "* In addition to methods, operators, such as + and −, also manipulate information about complex numbers. "
   ]
  },
  {
   "cell_type": "code",
   "execution_count": null,
   "id": "80f361a5",
   "metadata": {
    "tags": []
   },
   "outputs": [],
   "source": [
    "# addition, multiplication and division operators\n",
    "z+w,z*w,z/w"
   ]
  },
  {
   "cell_type": "markdown",
   "id": "2cdb44d1-6f5a-4266-bd5a-2713fe043f68",
   "metadata": {
    "tags": []
   },
   "source": [
    "**List Type**"
   ]
  },
  {
   "cell_type": "code",
   "execution_count": null,
   "id": "31ef60ba-03d0-440b-aba6-60ce7ecb66db",
   "metadata": {
    "tags": []
   },
   "outputs": [],
   "source": [
    "L = [5,-3,2,1]"
   ]
  },
  {
   "cell_type": "code",
   "execution_count": null,
   "id": "30aa25a2",
   "metadata": {
    "tags": []
   },
   "outputs": [],
   "source": [
    "type(L)"
   ]
  },
  {
   "cell_type": "code",
   "execution_count": null,
   "id": "f9a1a287",
   "metadata": {
    "tags": []
   },
   "outputs": [],
   "source": [
    "L.append(10);"
   ]
  },
  {
   "cell_type": "code",
   "execution_count": null,
   "id": "37ec5495",
   "metadata": {
    "tags": []
   },
   "outputs": [],
   "source": [
    "L.sort();L"
   ]
  },
  {
   "cell_type": "markdown",
   "id": "ac68de52",
   "metadata": {
    "tags": []
   },
   "source": [
    "In this case L is an object of type or class 'list.append()' is a method  of L"
   ]
  },
  {
   "cell_type": "code",
   "execution_count": null,
   "id": "eaa117c0",
   "metadata": {
    "tags": []
   },
   "outputs": [],
   "source": [
    "L # Call method of L"
   ]
  },
  {
   "cell_type": "code",
   "execution_count": null,
   "id": "2dedade2-e138-40ed-80aa-ae3a9d77b786",
   "metadata": {
    "tags": []
   },
   "outputs": [],
   "source": [
    "L[1] # getitem method "
   ]
  },
  {
   "cell_type": "markdown",
   "id": "94b532a7-8b42-4a6a-ad34-2bee46fae60f",
   "metadata": {
    "tags": []
   },
   "source": [
    "## What is classes?"
   ]
  },
  {
   "cell_type": "markdown",
   "id": "74643d44-5330-4c18-a68e-877d60da2f7f",
   "metadata": {
    "tags": []
   },
   "source": [
    "* Classes are the core concept in object oriented programming (OOP)."
   ]
  },
  {
   "cell_type": "markdown",
   "id": "8fddce09-e421-4216-85a4-f40af7348321",
   "metadata": {
    "tags": []
   },
   "source": [
    "* Class is a **blueprint** for creating instances."
   ]
  },
  {
   "cell_type": "markdown",
   "id": "0a8f694b-5814-4de9-bfcb-2fde3cd73a1c",
   "metadata": {
    "tags": []
   },
   "source": [
    "* A class packs a set of data (variables) together with a set of functions\n",
    "operating on the data."
   ]
  },
  {
   "cell_type": "markdown",
   "id": "8d2434dd-6e29-4626-a4d7-72e833654be0",
   "metadata": {
    "tags": []
   },
   "source": [
    "* Classes can be used to organize data structures, making them easier to maintain."
   ]
  },
  {
   "cell_type": "markdown",
   "id": "cb5ad3e6-fbaf-4e1d-952c-79382a174c8b",
   "metadata": {
    "tags": []
   },
   "source": [
    "* Attributes and methods belong to individual objects. "
   ]
  },
  {
   "cell_type": "markdown",
   "id": "6e73c9b5-fc4d-4f50-aaa1-e45266278b44",
   "metadata": {
    "tags": []
   },
   "source": [
    "* Operators, attributes and methods provides interfaces to objects, which are used to access information and perform operations."
   ]
  },
  {
   "cell_type": "markdown",
   "id": "16c0f7e8-482b-4aa0-bae9-a2a1dd8d78a5",
   "metadata": {
    "tags": []
   },
   "source": [
    "* Python allows custom data structures to be organized with consistent interfaces by defining custom types, which follow the same protocols as built-in types, so that code becomes easier to maintain and less prone to bugs."
   ]
  },
  {
   "cell_type": "markdown",
   "id": "a3b5c838-67a7-4137-bcbe-3339bd9257fe",
   "metadata": {
    "tags": []
   },
   "source": [
    "* Making an object from a class is called **instantiation**, and you work with \n",
    "instances of a class."
   ]
  },
  {
   "cell_type": "markdown",
   "id": "932756d0-7ce6-4a1c-9722-d242a672ecad",
   "metadata": {
    "tags": []
   },
   "source": [
    "* In Object Oriented Programming (OOP) terminology, objects that belong to a type are called  **instances** of the type. For example, 1 and −2 are instances of integers, while 'abc' and 'hello' are instances of strings."
   ]
  },
  {
   "cell_type": "markdown",
   "id": "a71b5b73-0281-4918-ab3c-73fbe8e6f6e6",
   "metadata": {},
   "source": [
    "## Empty Class"
   ]
  },
  {
   "cell_type": "code",
   "execution_count": null,
   "id": "efda0cfc",
   "metadata": {
    "tags": []
   },
   "outputs": [],
   "source": [
    "class Emplyees:\n",
    "    pass"
   ]
  },
  {
   "cell_type": "code",
   "execution_count": null,
   "id": "aa6d8807",
   "metadata": {
    "tags": []
   },
   "outputs": [],
   "source": [
    "E1 = Emplyees() # constructor call"
   ]
  },
  {
   "cell_type": "code",
   "execution_count": null,
   "id": "3c603692",
   "metadata": {
    "tags": []
   },
   "outputs": [],
   "source": [
    "type(E1)"
   ]
  },
  {
   "cell_type": "markdown",
   "id": "950a7311",
   "metadata": {
    "tags": []
   },
   "source": [
    "An object E1 is constructed by instantiating the type via the constructor call Employee(). However, E1 does not hold any attributes at this moment."
   ]
  },
  {
   "cell_type": "markdown",
   "id": "c56166be",
   "metadata": {
    "tags": []
   },
   "source": [
    "**Attribute Assignment:** Attribute assignment is similar to the assignment statement and setslice operation, except that the left hand side of the = sign is an attribute, rather than an identifier or slice. The syntax\n",
    "of specifying an attribute in attribute assignment is: **object.attribute**\n",
    "\n"
   ]
  },
  {
   "cell_type": "code",
   "execution_count": null,
   "id": "4a606cd3",
   "metadata": {
    "tags": []
   },
   "outputs": [],
   "source": [
    "E1.name = 'Mr. XYZ' # Attribute assignment"
   ]
  },
  {
   "cell_type": "code",
   "execution_count": null,
   "id": "b6906007",
   "metadata": {
    "tags": []
   },
   "outputs": [],
   "source": [
    "E1.mobile = '9542743634'"
   ]
  },
  {
   "cell_type": "code",
   "execution_count": null,
   "id": "d8b49795",
   "metadata": {
    "tags": []
   },
   "outputs": [],
   "source": [
    "E1.DOB = 'Dec 06, 2000'"
   ]
  },
  {
   "cell_type": "code",
   "execution_count": null,
   "id": "31d7c34d",
   "metadata": {
    "tags": []
   },
   "outputs": [],
   "source": [
    "E1.name"
   ]
  },
  {
   "cell_type": "code",
   "execution_count": null,
   "id": "39ddb6c1",
   "metadata": {
    "tags": []
   },
   "outputs": [],
   "source": [
    "E1.DOB"
   ]
  },
  {
   "cell_type": "code",
   "execution_count": null,
   "id": "bbe7f474",
   "metadata": {
    "tags": []
   },
   "outputs": [],
   "source": [
    "E1.mobile"
   ]
  },
  {
   "cell_type": "code",
   "execution_count": null,
   "id": "36519c1e",
   "metadata": {
    "tags": []
   },
   "outputs": [],
   "source": [
    "E2 = Emplyees()\n",
    "E2.name = 'Mrs. Margret Jenny'\n",
    "E2.mobile = '9042743611'\n",
    "E2.DOB = 'January 07, 1995'\n",
    "E2.height = 175  "
   ]
  },
  {
   "cell_type": "code",
   "execution_count": null,
   "id": "ef624211-311f-42c0-80d2-23baafcf3cad",
   "metadata": {
    "tags": []
   },
   "outputs": [],
   "source": [
    "E2.height=172"
   ]
  },
  {
   "cell_type": "code",
   "execution_count": null,
   "id": "77e0c00e-9fa8-461f-9b84-a5d0bc798d8a",
   "metadata": {
    "tags": []
   },
   "outputs": [],
   "source": [
    "E2.height"
   ]
  },
  {
   "cell_type": "code",
   "execution_count": null,
   "id": "eda20737-3da8-4ef1-8f79-de8bc085eb5a",
   "metadata": {
    "tags": []
   },
   "outputs": [],
   "source": [
    "dir(E2)"
   ]
  },
  {
   "cell_type": "code",
   "execution_count": null,
   "id": "e15de874",
   "metadata": {
    "tags": []
   },
   "outputs": [],
   "source": [
    "print(E2.__dict__)"
   ]
  },
  {
   "cell_type": "markdown",
   "id": "35f54245",
   "metadata": {
    "tags": []
   },
   "source": [
    "Similar to the case of delitem and delslice, the del keyword can also be used to perform the delattr operation, removing an attribute from an object."
   ]
  },
  {
   "cell_type": "code",
   "execution_count": null,
   "id": "9e4d0771",
   "metadata": {
    "tags": []
   },
   "outputs": [],
   "source": [
    "E2.DOB"
   ]
  },
  {
   "cell_type": "code",
   "execution_count": null,
   "id": "83429f58",
   "metadata": {
    "tags": []
   },
   "outputs": [],
   "source": [
    "del E2.DOB"
   ]
  },
  {
   "cell_type": "code",
   "execution_count": null,
   "id": "0495b48f",
   "metadata": {
    "tags": []
   },
   "outputs": [],
   "source": [
    "E2.DOB"
   ]
  },
  {
   "cell_type": "code",
   "execution_count": null,
   "id": "e917dede",
   "metadata": {
    "tags": []
   },
   "outputs": [],
   "source": [
    "E1.Hobby ='Singing'"
   ]
  },
  {
   "cell_type": "code",
   "execution_count": null,
   "id": "ef98531d",
   "metadata": {
    "tags": []
   },
   "outputs": [],
   "source": [
    "E2.Hobby"
   ]
  },
  {
   "cell_type": "markdown",
   "id": "edaad63c",
   "metadata": {
    "tags": []
   },
   "source": [
    "**Remark:** The assignment of attributes is object-specific rather than type-specific. For example, the attribute 'Hobby\" might be assigned to the emplyee object E1 but not to E2 despite that both belong to the Emplyee class or type. To avoid such inconsistencies, it is a standard practice to automatically assign all necessary attributes to an object at its construction, which is achieved by defining a custom **constructor.**"
   ]
  },
  {
   "cell_type": "markdown",
   "id": "183c83d3",
   "metadata": {},
   "source": [
    "## Methods and Constructors\n",
    "\n",
    "Methods are special functions defined in  a class which apply to all objects that belong to the class. "
   ]
  },
  {
   "cell_type": "code",
   "execution_count": null,
   "id": "a2329ecc",
   "metadata": {
    "tags": []
   },
   "outputs": [],
   "source": [
    "class Employees:\n",
    "    total = 0 # Class variable\n",
    "    \n",
    "    def __init__(self,name,DOB,mob,DOJ,EduLevel,Salary):\n",
    "        self.name = name # instance variable\n",
    "        self.DOB = DOB\n",
    "        self.mob = mob\n",
    "        self.DOJ = DOJ\n",
    "        self.EduLevel = EduLevel\n",
    "        self.Salary = Salary\n",
    "        Employees.total += 1\n",
    "        print(f'A new emplyee with name {self.name} with education level {self.EduLevel} has joined.')\n",
    "        print(f'The total number of employees is {Employees.total}.')"
   ]
  },
  {
   "cell_type": "markdown",
   "id": "0fb92950",
   "metadata": {
    "tags": []
   },
   "source": [
    "In Python, `__init__` is a special method in a class known as the **initializer** or **constructor.** It is automatically called when an object of the class is created. The primary purpose of `__init__` is to initialize the attributes of the object or set up the object's initial state/s.\n",
    "\n",
    "* The first parameter of `__init__` is always self, which is a reference to the instance being created.\n",
    "* self is used to access attributes and methods of the class within `__init__`."
   ]
  },
  {
   "cell_type": "code",
   "execution_count": null,
   "id": "77193863",
   "metadata": {
    "tags": []
   },
   "outputs": [],
   "source": [
    "# Object instantiation\n",
    "E1 = Employees('Mr. John Holland','12/12/1985','9562435632','01/01/2022','M.Sc.',50000)"
   ]
  },
  {
   "cell_type": "code",
   "execution_count": null,
   "id": "fc3832df",
   "metadata": {
    "tags": []
   },
   "outputs": [],
   "source": [
    "E2 = Employees('Mrs. Sana Seth','12/10/1981','9762435631','01/01/2023','B.Sc.',45000)"
   ]
  },
  {
   "cell_type": "code",
   "execution_count": null,
   "id": "952d669c",
   "metadata": {
    "tags": []
   },
   "outputs": [],
   "source": [
    "# Accessing instance attributes\n",
    "E2.DOB"
   ]
  },
  {
   "cell_type": "code",
   "execution_count": null,
   "id": "f0b57325",
   "metadata": {
    "tags": []
   },
   "outputs": [],
   "source": [
    "E2.Salary"
   ]
  },
  {
   "cell_type": "code",
   "execution_count": null,
   "id": "7579e2d7",
   "metadata": {
    "tags": []
   },
   "outputs": [],
   "source": [
    "E2.salary = 100000"
   ]
  },
  {
   "cell_type": "code",
   "execution_count": null,
   "id": "7ae2e709",
   "metadata": {
    "tags": []
   },
   "outputs": [],
   "source": [
    "E2.salary"
   ]
  },
  {
   "cell_type": "markdown",
   "id": "5af302b2-16d7-4a2d-bb04-7bfb09f268b3",
   "metadata": {},
   "source": [
    "### Adding a method to a class."
   ]
  },
  {
   "cell_type": "code",
   "execution_count": null,
   "id": "cabe5ae4",
   "metadata": {
    "tags": []
   },
   "outputs": [],
   "source": [
    "class Employees:\n",
    "    total = 0 # Class variable\n",
    "    \n",
    "    def __init__(self,name,DOB,mob,DOJ,EduLevel,salary):\n",
    "        self.name = name\n",
    "        self.DOB = DOB\n",
    "        self.mob = mob\n",
    "        self.DOJ = DOJ\n",
    "        self.EduLevel = EduLevel\n",
    "        self.salary = salary\n",
    "        Employees.total += 1\n",
    "        print(f'A new emplyee with name {self.name} with education level {self.EduLevel} has joined')\n",
    "        print(f'The total number of employees is {Employees.total}')\n",
    "    \n",
    "    ## Defining Methods\n",
    "    def bonus(self,percentage):\n",
    "        self.salary = self.salary+self.salary*percentage/100\n",
    "        self.newsalary = self.salary\n",
    "        print(f'The Salary amount is {self.newsalary}')\n",
    "    "
   ]
  },
  {
   "cell_type": "code",
   "execution_count": null,
   "id": "b4286d44",
   "metadata": {
    "tags": []
   },
   "outputs": [],
   "source": [
    "E1 = Employees('Mr. John Holland','12/12/1985','9562435632','01/01/2022','M.Sc.',125000)"
   ]
  },
  {
   "cell_type": "code",
   "execution_count": null,
   "id": "23d637ed",
   "metadata": {
    "tags": []
   },
   "outputs": [],
   "source": [
    "E1.bonus(10)"
   ]
  },
  {
   "cell_type": "code",
   "execution_count": null,
   "id": "c1d8c6e3-70b5-4308-b8be-f9eae78eb085",
   "metadata": {
    "tags": []
   },
   "outputs": [],
   "source": [
    "E1.newsalary"
   ]
  },
  {
   "cell_type": "code",
   "execution_count": null,
   "id": "05635889-da47-42e5-9165-12c9251221b7",
   "metadata": {
    "tags": []
   },
   "outputs": [],
   "source": [
    "E2 = Employees('Mr. Jenny','1/1/1980','9562435631','7/7/2020','PhD',250000)"
   ]
  },
  {
   "cell_type": "code",
   "execution_count": null,
   "id": "26aead20",
   "metadata": {
    "tags": []
   },
   "outputs": [],
   "source": [
    "E2.bonus(7.5)"
   ]
  },
  {
   "cell_type": "code",
   "execution_count": null,
   "id": "23d4762c",
   "metadata": {
    "tags": []
   },
   "outputs": [],
   "source": [
    "E1.salary"
   ]
  },
  {
   "cell_type": "code",
   "execution_count": null,
   "id": "b98658e9",
   "metadata": {
    "tags": []
   },
   "outputs": [],
   "source": [
    "E2.newsalary = 2000000"
   ]
  },
  {
   "cell_type": "markdown",
   "id": "7099d72b",
   "metadata": {},
   "source": [
    "## Class variables and instance/object variables"
   ]
  },
  {
   "cell_type": "code",
   "execution_count": null,
   "id": "403ba243",
   "metadata": {
    "tags": []
   },
   "outputs": [],
   "source": [
    "class Student:\n",
    "    Total_students = 0 # Class variable\n",
    "    # Class ariables are shared among all instances of a class.\n",
    "    \n",
    "    def __init__(self,name,roll,total_marks=0):\n",
    "        self.name = name # object/instance variable\n",
    "        #  instance  variables are unique to each instance of a class.\n",
    "        self.roll = roll\n",
    "        self.total_marks = total_marks    \n",
    "        Student.Total_students += 1\n",
    "        print(f\"A new student {self.name} is added with roll no. {self.roll}\")\n",
    "        print(f\"Total No. of students is {Student.Total_students}\")\n",
    "    \n",
    "    def getMarks(self, marks):\n",
    "        for m in marks:\n",
    "            self.total_marks+=m\n",
    "        self.avg = self.total_marks/len(marks)\n",
    "            \n",
    "    def average(self):\n",
    "        return self.avg\n"
   ]
  },
  {
   "cell_type": "code",
   "execution_count": null,
   "id": "341034f3-16f7-4e87-96de-d2e179795196",
   "metadata": {
    "tags": []
   },
   "outputs": [],
   "source": [
    "S1 = Student(\"Mohit Tripathi\",'25MAT2001')"
   ]
  },
  {
   "cell_type": "code",
   "execution_count": null,
   "id": "e27615d1-60a8-4673-bab6-b8773d0292ae",
   "metadata": {
    "tags": []
   },
   "outputs": [],
   "source": [
    "Student.Total_students=5"
   ]
  },
  {
   "cell_type": "code",
   "execution_count": null,
   "id": "ff1011e9",
   "metadata": {
    "tags": []
   },
   "outputs": [],
   "source": [
    "S2 = Student(\"Rajesh Sinha\",'MAT2001')"
   ]
  },
  {
   "cell_type": "code",
   "execution_count": null,
   "id": "b3c80544",
   "metadata": {
    "tags": []
   },
   "outputs": [],
   "source": [
    "S1.getMarks([89,45,74,93,82])"
   ]
  },
  {
   "cell_type": "code",
   "execution_count": null,
   "id": "0ebc755c",
   "metadata": {
    "tags": []
   },
   "outputs": [],
   "source": [
    "S1.avg"
   ]
  },
  {
   "cell_type": "code",
   "execution_count": null,
   "id": "82fb2d27",
   "metadata": {
    "tags": []
   },
   "outputs": [],
   "source": [
    "S1.average()"
   ]
  },
  {
   "cell_type": "code",
   "execution_count": null,
   "id": "d74e84fc-27bc-425e-8c65-445d9d81a9eb",
   "metadata": {
    "tags": []
   },
   "outputs": [],
   "source": [
    "S2.getMarks([90,55,74,93,82])"
   ]
  },
  {
   "cell_type": "code",
   "execution_count": null,
   "id": "f525a815-bdbd-44c1-bf39-af819b39b1af",
   "metadata": {
    "tags": []
   },
   "outputs": [],
   "source": [
    "S2.average()"
   ]
  },
  {
   "cell_type": "code",
   "execution_count": null,
   "id": "74dd36b9",
   "metadata": {
    "tags": []
   },
   "outputs": [],
   "source": [
    "del S1.name"
   ]
  },
  {
   "cell_type": "code",
   "execution_count": null,
   "id": "08893a9c",
   "metadata": {
    "tags": []
   },
   "outputs": [],
   "source": [
    "S1.name"
   ]
  },
  {
   "cell_type": "code",
   "execution_count": null,
   "id": "188e5007-adc1-40f7-a30d-a3eb2a3860fc",
   "metadata": {
    "tags": []
   },
   "outputs": [],
   "source": [
    "del S1"
   ]
  },
  {
   "cell_type": "markdown",
   "id": "1fcbf713-b552-4927-bfef-e0255b89e0fd",
   "metadata": {
    "tags": []
   },
   "source": [
    "### Class and instance variables"
   ]
  },
  {
   "cell_type": "markdown",
   "id": "18c0b328-7a87-4bda-8b92-a8f22b86fb99",
   "metadata": {
    "jp-MarkdownHeadingCollapsed": true,
    "tags": []
   },
   "source": [
    "**Class Variables**\n",
    "* Class variables are shared among all instances of a class.\n",
    "* Class variables are defined at the class level and are not tied to any specific instance.\n",
    "* Class variables can be accessed using the class name or any instance of the class.\n",
    "* Changes made to a class variable affect all instances of the class (if they haven't overridden it).\n",
    "\n",
    "**Instance Variables**\n",
    "\n",
    "* Instance Variables are unique to each instance of a class.\n",
    "* Instance Variables can be defined within methods (usually `__init__`) and prefixed with self.\n",
    "* Instance Variables can be accessed and modifiable only through the specific instance they belong to.\n",
    "* Changes to an instance variable affect only the specific instance, not others."
   ]
  },
  {
   "cell_type": "markdown",
   "id": "2e3e0cfa-562c-474b-af1b-7b986ad2fc46",
   "metadata": {},
   "source": [
    "## Function Method Call. "
   ]
  },
  {
   "cell_type": "markdown",
   "id": "f60a0a29-c516-437d-8b8e-6bd30fb4d163",
   "metadata": {
    "tags": []
   },
   "source": [
    "The only function method is `__call__(self, [,args])`, which is\n",
    "called when the object is called as a function. Let us look at an example."
   ]
  },
  {
   "cell_type": "code",
   "execution_count": null,
   "id": "293df1d7",
   "metadata": {
    "tags": []
   },
   "outputs": [],
   "source": [
    "## Class for numerical 1st derivative using central differenrence\n",
    "\n",
    "class Derivative():\n",
    "    \n",
    "    def __init__(self, f, h = 1E-8):\n",
    "        self.f = f\n",
    "        self.h = float(h)\n",
    "\n",
    "    def __call__(self, x):\n",
    "        f, h = self.f, self.h \n",
    "        return (f(x+h) - f(x-h))/(2*h)"
   ]
  },
  {
   "cell_type": "code",
   "execution_count": null,
   "id": "3ed6fbef",
   "metadata": {
    "tags": []
   },
   "outputs": [],
   "source": [
    "from numpy import cos, sin, exp, pi"
   ]
  },
  {
   "cell_type": "code",
   "execution_count": null,
   "id": "5e98abcf",
   "metadata": {
    "tags": []
   },
   "outputs": [],
   "source": [
    "df = Derivative(sin)\n",
    "x0 = pi/6\n",
    "df(x0)"
   ]
  },
  {
   "cell_type": "code",
   "execution_count": null,
   "id": "b84f40db-573e-4b05-a203-3fd307589bee",
   "metadata": {
    "tags": []
   },
   "outputs": [],
   "source": [
    "cos(x0)"
   ]
  },
  {
   "cell_type": "code",
   "execution_count": null,
   "id": "f9394fe6",
   "metadata": {
    "tags": []
   },
   "outputs": [],
   "source": [
    " cos(x0)"
   ]
  },
  {
   "cell_type": "code",
   "execution_count": null,
   "id": "a774ddd5",
   "metadata": {
    "tags": []
   },
   "outputs": [],
   "source": [
    "def g(t):\n",
    "    return t**3-2*t**2+t+1\n",
    "df1 = Derivative(g,h=0.00001)\n",
    "x0 = 1.2\n",
    "df1(x0)\n"
   ]
  },
  {
   "cell_type": "markdown",
   "id": "21af4e42",
   "metadata": {
    "tags": []
   },
   "source": [
    "### Another function class example\n",
    "An equation from fluid mechanics\n",
    "$$V = \\left(\\frac{\\beta}{2\\mu_0}\\right)^{\\left(\\frac{1}{n}\\right)}\\left(\\frac{n}{n+1}\\right)\\left( R^{1+1/n} - r^{1+1/n}\\right).$$\n",
    "$V$: velocity/Volume/Voltage\n",
    "\n",
    "$\\beta$: proportionality constant related to material\n",
    "\n",
    "$\\mu_0$: permeability of free space\n",
    "\n",
    "$n$: Power-law index in rheology (fluid mechanics)\n",
    "\n",
    "$R$ and $r$: Radial distances or bounds."
   ]
  },
  {
   "cell_type": "code",
   "execution_count": null,
   "id": "ea282aec",
   "metadata": {
    "tags": []
   },
   "outputs": [],
   "source": [
    "class V:\n",
    "    def __init__(self, beta, mu0, n, R):\n",
    "        self.beta, self.mu0, self.n, self.R = beta, mu0, n, R\n",
    "   \n",
    "    def value(self, r):\n",
    "        beta, mu0, n, R = self.beta, self.mu0, self.n, self.R\n",
    "        n = float(n) # ensure float divisions\n",
    "        v = (beta/(2.0*mu0))**(1/n)*(n/(n+1))*(R**(1+1/n) - r**(1+1/n))\n",
    "        return v"
   ]
  },
  {
   "cell_type": "code",
   "execution_count": null,
   "id": "6e66a13f",
   "metadata": {
    "tags": []
   },
   "outputs": [],
   "source": [
    "beta = 6\n",
    "mu0 = 1\n",
    "n = 8\n",
    "R = 6.4\n",
    "s1 = V(beta, mu0, n, R) # Setting the parameters\n",
    "s1.value(4.6)"
   ]
  },
  {
   "cell_type": "code",
   "execution_count": null,
   "id": "a5a348ef-16f4-4376-a672-2cecb0c74ed1",
   "metadata": {
    "tags": []
   },
   "outputs": [],
   "source": [
    "help(V)"
   ]
  },
  {
   "cell_type": "markdown",
   "id": "de5b7ec9",
   "metadata": {},
   "source": [
    "<style type=\"text/css\">\n",
    ".tg  {border-collapse:collapse;border-spacing:0;}\n",
    ".tg td{border-color:black;border-style:solid;border-width:1px;font-family:Arial, sans-serif;font-size:14px;\n",
    "  overflow:hidden;padding:10px 5px;word-break:normal;}\n",
    ".tg th{border-color:black;border-style:solid;border-width:1px;font-family:Arial, sans-serif;font-size:14px;\n",
    "  font-weight:normal;overflow:hidden;padding:10px 5px;word-break:normal;}\n",
    ".tg .tg-mjuh{background-color:rgba(66, 165, 245, 0.2);border-color:inherit;text-align:right;vertical-align:middle}\n",
    ".tg .tg-0pky{border-color:inherit;text-align:left;vertical-align:top}\n",
    "</style>"
   ]
  },
  {
   "cell_type": "markdown",
   "id": "7c815fbe-fdf7-4cff-a4e2-8ac7521bb213",
   "metadata": {},
   "source": [
    "## Special Methods"
   ]
  },
  {
   "cell_type": "markdown",
   "id": "b78f092a-1b3a-4c5d-9f4c-a1d578f73609",
   "metadata": {
    "tags": []
   },
   "source": [
    "The constructor `__init__` is a special method, called automatically when a new object\n",
    "is constructed. In addition to this method, Python provides a number of other special\n",
    "methods, which are called automatically, and the names of which begin and end with\n",
    "two consecutive underscore (`__`).\n",
    "\n",
    "The tables below provides an overview of the most important special methods. "
   ]
  },
  {
   "cell_type": "markdown",
   "id": "49188882",
   "metadata": {
    "tags": []
   },
   "source": [
    "<table style=\"border-spacing:50px; border: 1px solid black\" >\n",
    "   <tr >\n",
    "        <th>Methods</th>\n",
    "        <th>Invoking</th>\n",
    "    </tr>\n",
    "    <tr>\n",
    "        <td>__init__(self, args)</td>\n",
    "        <td>constructor: a = A(args)</td>\n",
    "    </tr>\n",
    "     <tr>\n",
    "        <td>__del__(self)</td>\n",
    "        <td>destructor: del a</td>\n",
    "    </tr>\n",
    "    <tr>\n",
    "        <td> __call__(self, args)</td>\n",
    "        <td>call as function: a(args)</td>\n",
    "    </tr>\n",
    "    <tr>\n",
    "        <td>     __str__(self) \t        </td>\n",
    "        <td>pretty print: print(a), str(a)</td>\n",
    "    </tr>\n",
    "    <tr>\n",
    "        <td>     __repr__(self) \t   </td>\n",
    "        <td>representation: a = eval(repr(a))</td>\n",
    "    </tr>\n",
    "\n",
    "\n",
    "</table>"
   ]
  },
  {
   "cell_type": "markdown",
   "id": "90258500",
   "metadata": {
    "tags": []
   },
   "source": [
    " ## Numerical Operators\n",
    " <table style=\"border-spacing:50px; border: 1px solid black\">\n",
    "   <tr >\n",
    "        <th>Methods</th>\n",
    "        <th>Operators</th>\n",
    "       <th> Invoking</th>\n",
    "    </tr>\n",
    "    <tr>\n",
    "        <td>__add__(self, b) </td> \n",
    "        <td>a + b  </td>\n",
    "        <td> a.__add__(b)</td> \n",
    "    </tr>\n",
    "      <tr>\n",
    "        <td>__sub__(self, b)</td> \n",
    "          <td> a - b </td>\n",
    "          <td> a.__sub__(b)</td> \n",
    "      </tr>\n",
    "    <tr>\n",
    "        <td>__mul__(self, b) \t</td>        \n",
    "         <td>a*b   </td>\n",
    "        <td>a.__mul__(b) </td>\n",
    "     </tr>\n",
    "    <tr>\n",
    "        <td>__div__(self, b)</td> \n",
    "        <td>a/b    </td>\n",
    "        <td> a.__div__(b) </td> \n",
    "    </tr>\n",
    "   <tr>\n",
    "        <td> __pow__(self, b) \t       </td> \n",
    "       <td> a**p   </td>\n",
    "       <td> a.__pow__(b) </td> \n",
    "    </tr>\n",
    "    <tr>\n",
    "        <td>__lt__(self, b) \t     </td> \n",
    "        <td> a < b  </td>\n",
    "        <td> a.__lt__(b)</td>                                             \n",
    "    </tr>\n",
    "    <tr>\n",
    "        <td>__gt__(self, b) \t   </td> \n",
    "        <td>\n",
    "        a > b  </td>\n",
    "        <td>a.__gt__(b)</td> \n",
    "     </tr>\n",
    "    <tr>\n",
    "        <td>  __le__(self, b) \t      </td> \n",
    "    <td>\n",
    "        a <= b </td>\n",
    "        <td> a.__le__(b)</td>\n",
    "    </tr>           \n",
    "    <tr>\n",
    "        <td>__ge__(self, b) \t  </td>\n",
    "        <td>\n",
    "        a => b </td>\n",
    "        <td> a.__ge__(b)</td>   \n",
    "    </tr>\n",
    "    <tr>\n",
    "        <td>    __eq__(self, b) \t     </td> \n",
    "        <td>    a == b </td>\n",
    "        <td> a.__eq__(b) </td>         \n",
    "    </tr>\n",
    "    <tr>\n",
    "        <td>__ne__(self, b) \t </td> <td>\n",
    "        a != b </td><td> a.__ne__(b)</td>\n",
    "            </tr>\n",
    "    </table>"
   ]
  },
  {
   "cell_type": "code",
   "execution_count": null,
   "id": "b359949e-78c5-446d-aa04-7a39a0b4fa0e",
   "metadata": {
    "tags": []
   },
   "outputs": [],
   "source": [
    "class Student:\n",
    "    def __init__(self, name, age):\n",
    "        self.name = name\n",
    "        self.age = age\n",
    "        \n",
    "    # creating readable output for users.\n",
    "    def __repr__(self):\n",
    "        return f\"Student(name={self.name}, age={self.age})\"\n",
    "    \n",
    "    # creating detailed representations useful for debugging\n",
    "    def __str__(self):\n",
    "        return f\"Student Name: {self.name}, Age: {self.age}\"\n",
    "\n",
    "student = Student(\"Alice\", 20)\n",
    "print(student)          # Output: Student Name: Alice, Age: 20\n",
    "print(repr(student))    # Output: Student(name='Alice', age=20)"
   ]
  },
  {
   "cell_type": "code",
   "execution_count": null,
   "id": "2dc43bf6",
   "metadata": {
    "tags": []
   },
   "outputs": [],
   "source": [
    "class Triangle:\n",
    "    \n",
    "    def __init__(self, a, b, c):\n",
    "        self.a = a\n",
    "        self.b = b\n",
    "        self.c = c\n",
    "        \n",
    "    def area(self):\n",
    "        from math import sqrt\n",
    "        s = (self.a+self.b+self.c)/2.0\n",
    "        a = sqrt(s*(s-self.a)*(s-self.b)*(s-self.c))\n",
    "        return a\n",
    "    \n",
    "    def __str__(self):\n",
    "        return f'Triangle with sides: {self.a:.2f}, {self.b:.2f}, {self.c:.2f}'\n",
    "\n",
    "    def __repr__(self):\n",
    "        return '(Triangle with sides: %g, %g, %g)' %(self.a, self.b,self.c)"
   ]
  },
  {
   "cell_type": "code",
   "execution_count": null,
   "id": "0d6cee4a",
   "metadata": {
    "tags": []
   },
   "outputs": [],
   "source": [
    "T = Triangle(4,7,9)"
   ]
  },
  {
   "cell_type": "code",
   "execution_count": null,
   "id": "4ca16004",
   "metadata": {
    "tags": []
   },
   "outputs": [],
   "source": [
    "type(T)"
   ]
  },
  {
   "cell_type": "code",
   "execution_count": null,
   "id": "9a6fb558",
   "metadata": {
    "tags": []
   },
   "outputs": [],
   "source": [
    "T.area()"
   ]
  },
  {
   "cell_type": "code",
   "execution_count": null,
   "id": "2d3556a2",
   "metadata": {
    "tags": []
   },
   "outputs": [],
   "source": [
    "print(T.area())"
   ]
  },
  {
   "cell_type": "code",
   "execution_count": null,
   "id": "2bb6fdfd",
   "metadata": {
    "tags": []
   },
   "outputs": [],
   "source": [
    "print(T)"
   ]
  },
  {
   "cell_type": "code",
   "execution_count": null,
   "id": "f86dd97e-0c80-4ed4-808f-017fb9a4dd91",
   "metadata": {
    "tags": []
   },
   "outputs": [],
   "source": [
    "T"
   ]
  },
  {
   "cell_type": "markdown",
   "id": "21539cc6",
   "metadata": {},
   "source": [
    "### Vector Class"
   ]
  },
  {
   "cell_type": "code",
   "execution_count": null,
   "id": "bf7b70cb",
   "metadata": {
    "tags": []
   },
   "outputs": [],
   "source": [
    "import math\n",
    "class Vec3D:\n",
    "    def __init__(self, x, y,z):\n",
    "        self.x = x\n",
    "        self.y = y\n",
    "        self.z = z\n",
    "\n",
    "    def __add__(self, other):\n",
    "        return Vec3D(self.x + other.x, self.y + other.y,self.z + other.z)\n",
    "\n",
    "    def __sub__(self, other):\n",
    "        return Vec3D(self.x - other.x, self.y - other.y,self.z - other.z)\n",
    "\n",
    "    def __mul__(self, other):\n",
    "        return Vec3D(self.x*other.x, self.y*other.y,self.z*other.z)\n",
    "\n",
    "    def __eq__(self, other):\n",
    "        return self.x == other.x and self.y == other.y and self.z == other.z\n",
    "\n",
    "    def __abs__(self):\n",
    "        return math.sqrt(self.x**2 + self.y**2+self.z**2)\n",
    "\n",
    "    def __ne__(self, other):\n",
    "        return not self.__eq__(other)  # reuse __eq__\n",
    "\n",
    "    def dot(self,other):\n",
    "        return self.x*other.x + self.y*other.y+self.z*other.z\n",
    "\n",
    "    def cross(self, other):\n",
    "        x1 = (self.y * other.z) - (self.z * other.y)\n",
    "        y1 = (self.z * other.x) - (self.x * other.z)\n",
    "        z1 = (self.x * other.y) - (self.y * other.x)\n",
    "        return Vec3D(x1, y1, z1)\n",
    "\n",
    "    def distance_to(self, other):\n",
    "        \"\"\" uses the Euclidean norm to calculate the distance \"\"\"\n",
    "        z = self-other\n",
    "        return abs(z)\n",
    "    \n",
    "    def __str__(self):\n",
    "        return '(%g, %g, %g)' % (self.x, self.y,self.z)"
   ]
  },
  {
   "cell_type": "code",
   "execution_count": null,
   "id": "a77af781",
   "metadata": {
    "tags": []
   },
   "outputs": [],
   "source": [
    "v1 = Vec3D(3,-2,4)\n",
    "v2 = Vec3D(5,3,-1)"
   ]
  },
  {
   "cell_type": "code",
   "execution_count": null,
   "id": "c2143ba9",
   "metadata": {
    "tags": []
   },
   "outputs": [],
   "source": [
    "print(v1)"
   ]
  },
  {
   "cell_type": "code",
   "execution_count": null,
   "id": "613d1aff",
   "metadata": {
    "tags": []
   },
   "outputs": [],
   "source": [
    "print(v1+v2) ## v1.__add__(v2)"
   ]
  },
  {
   "cell_type": "code",
   "execution_count": null,
   "id": "938724af",
   "metadata": {
    "tags": []
   },
   "outputs": [],
   "source": [
    "v1==v2"
   ]
  },
  {
   "cell_type": "code",
   "execution_count": null,
   "id": "bc2b065b",
   "metadata": {
    "tags": []
   },
   "outputs": [],
   "source": [
    "print(v1*v2)"
   ]
  },
  {
   "cell_type": "code",
   "execution_count": null,
   "id": "e6411e7f-bb2b-499c-b651-ba2a08b2d118",
   "metadata": {},
   "outputs": [],
   "source": []
  },
  {
   "cell_type": "code",
   "execution_count": null,
   "id": "74285cda",
   "metadata": {
    "tags": []
   },
   "outputs": [],
   "source": [
    "v1.dot(v2)"
   ]
  },
  {
   "cell_type": "code",
   "execution_count": null,
   "id": "989f0b4f",
   "metadata": {
    "tags": []
   },
   "outputs": [],
   "source": [
    "w = v1.cross(v2)\n",
    "print(w)"
   ]
  },
  {
   "cell_type": "code",
   "execution_count": null,
   "id": "3eb84df6-23ad-48ce-92f4-d2d081748e70",
   "metadata": {
    "tags": []
   },
   "outputs": [],
   "source": [
    "help(complex)"
   ]
  },
  {
   "cell_type": "markdown",
   "id": "9b1baea0",
   "metadata": {},
   "source": [
    "### Python Class for solving quadratic"
   ]
  },
  {
   "cell_type": "code",
   "execution_count": null,
   "id": "50fcfacc",
   "metadata": {
    "tags": []
   },
   "outputs": [],
   "source": [
    "import numpy as np\n",
    "import scipy as sp\n",
    "import math\n",
    "import cmath\n",
    "\n",
    "class Quadratic(object):\n",
    "    \n",
    "    def __init__(self, a, b, c):\n",
    "        self.a = a\n",
    "        self.b = b\n",
    "        self.c = c\n",
    "  \n",
    "    def __call__(self, x):\n",
    "        return self.a * x**2 + self.b * x + self.c\n",
    "    \n",
    "    def discriminant(self):\n",
    "            return self.b**2 - 4.0 * self.a * self.c\n",
    "    \n",
    "    def roots(self):\n",
    "        d = self.discriminant()\n",
    "        #print(d)\n",
    "        if d >= 0:\n",
    "            x1 = (-self.b - np.sqrt(d)) / (2.0 * self.a)\n",
    "            x2 = (-self.b + np.sqrt(d)) / (2.0 * self.a)\n",
    "        else:\n",
    "            # print(\"Roots are complex and they are:\")\n",
    "            x1 = (-self.b - cmath.sqrt(d)) / (2.0 * self.a)\n",
    "            x2 = (-self.b + cmath.sqrt(d)) / (2.0 * self.a)\n",
    "        return x1, x2\n",
    "     \n",
    "    def __str__(self):\n",
    "        s = \"f(x) = \"\n",
    "        if self.a:\n",
    "            s += \"%f x^2\" % self.a\n",
    "        if self.b:\n",
    "            if self.b > 0:\n",
    "                s += \" + \"\n",
    "            else:\n",
    "                s += \" - \"\n",
    "            s += \"%f x\" % abs(self.b)\n",
    "        if self.c:\n",
    "            if self.c > 0:\n",
    "                s += \" + \"\n",
    "            else:\n",
    "                s += \" - \"\n",
    "            s += \"%f\" % abs(self.c)\n",
    "        return s\n",
    "    "
   ]
  },
  {
   "cell_type": "code",
   "execution_count": null,
   "id": "01be1b6e",
   "metadata": {
    "tags": []
   },
   "outputs": [],
   "source": [
    "q = Quadratic(2,3,-11)\n",
    "print(q)"
   ]
  },
  {
   "cell_type": "code",
   "execution_count": null,
   "id": "7bfc7039",
   "metadata": {
    "tags": []
   },
   "outputs": [],
   "source": [
    "q.discriminant()"
   ]
  },
  {
   "cell_type": "code",
   "execution_count": null,
   "id": "29aded50",
   "metadata": {
    "tags": []
   },
   "outputs": [],
   "source": [
    "q.roots()"
   ]
  },
  {
   "cell_type": "code",
   "execution_count": null,
   "id": "085dab07",
   "metadata": {
    "tags": []
   },
   "outputs": [],
   "source": [
    "q(2)"
   ]
  },
  {
   "cell_type": "code",
   "execution_count": null,
   "id": "18bea189",
   "metadata": {
    "tags": []
   },
   "outputs": [],
   "source": [
    "q(1.712214450449026)"
   ]
  },
  {
   "cell_type": "markdown",
   "id": "43b4b01b-b43f-4d89-82e8-104a6961049d",
   "metadata": {},
   "source": [
    "### Bank Account Class"
   ]
  },
  {
   "cell_type": "code",
   "execution_count": null,
   "id": "bb4ccc2b-74e6-4e1a-a99c-86aa345bf6bd",
   "metadata": {
    "tags": []
   },
   "outputs": [],
   "source": [
    "class Account:\n",
    "\n",
    "    def __init__(self, account_number, account_holder, initial_balance=0.0):\n",
    "        self.account_number = account_number\n",
    "        self.account_holder = account_holder\n",
    "        self.__balance = initial_balance  # Private attribute to protect the balance.\n",
    "\n",
    "    def deposit(self, amount):\n",
    "        if amount > 0:\n",
    "            self.__balance += amount\n",
    "            return f\"Deposited Rs.{amount:.2f}. New balance: Rs.{self.__balance:.2f}.\"\n",
    "        else:\n",
    "            return \"Deposit amount must be positive.\"\n",
    "\n",
    "    def withdraw(self, amount):\n",
    "        if amount > 0:\n",
    "            if amount <= self.__balance:\n",
    "                self.__balance -= amount\n",
    "                return f\"Withdrew Rs.{amount:.2f}. New balance: Rs.{self.__balance:.2f}.\"\n",
    "            else:\n",
    "                return \"Insufficient funds for this withdrawal.\"\n",
    "        else:\n",
    "            return \"Withdrawal amount must be positive.\"\n",
    "\n",
    "    def transfer(self, amount, recipient_account):\n",
    "        if amount > 0:\n",
    "            if amount <= self.__balance:\n",
    "                self.__balance -= amount\n",
    "                recipient_account.deposit(amount)  # Deposit to the recipient account.\n",
    "                return f\"Transferred Rs.{amount:.2f} to {recipient_account.account_holder} (Account: {recipient_account.account_number}).\"\n",
    "            else:\n",
    "                return \"Insufficient funds for this transfer.\"\n",
    "        else:\n",
    "            return \"Transfer amount must be positive.\"\n",
    "\n",
    "    def get_balance(self):\n",
    "        return f\"Current balance: Rs.{self.__balance:.2f}.\"\n",
    "\n",
    "    def __str__(self):\n",
    "        \"\"\"\n",
    "        String representation of the account.\n",
    "        \"\"\"\n",
    "        return f\"Account(account_number='{self.account_number}', account_holder='{self.account_holder}', balance=Rs.{self.__balance:.2f})\""
   ]
  },
  {
   "cell_type": "code",
   "execution_count": null,
   "id": "a47da2b7-dd18-4d3d-aa73-91f3a624629a",
   "metadata": {
    "tags": []
   },
   "outputs": [],
   "source": [
    "account1 = Account(\"123456789\", \"Maya\", 5000.0)\n",
    "account2 = Account(\"987654321\", \"Ria\", 30000.0)\n",
    "\n",
    "print(account1)\n",
    "print(account2)\n",
    "# Deposit money\n",
    "print(account1.deposit(150.0))\n",
    "\n",
    "# Withdraw money\n",
    "print(account1.withdraw(100.0))\n",
    "\n",
    "# Transfer money\n",
    "print(account1.transfer(200.0, account2))\n",
    "\n",
    "# Check balances\n",
    "print(account1.get_balance())\n",
    "print(account2.get_balance())"
   ]
  },
  {
   "cell_type": "markdown",
   "id": "0e2ee6bd-8bdf-4042-8e61-80fa07d71849",
   "metadata": {},
   "source": [
    "### Public, Private and Protected Variables"
   ]
  },
  {
   "cell_type": "markdown",
   "id": "dff8008a-e1a2-44ca-a46d-0b14d906c7be",
   "metadata": {
    "tags": []
   },
   "source": [
    "* Public Variables can be accessed from anywhere (inside or outside the class). \n",
    "* All variables in Python are public by default unless explicitly defined otherwise.\n",
    "* Protected Variables are intended to be accessed only within the class and its subclasses. However, this is a convention and not enforced by Python.\n",
    "* A single underscore (`_`) prefix is used to indicate a protected variable.\n",
    "* Protected Variables should not be accessed directly outside the class hierarchy, but Python \n",
    "does not prevent access\n",
    "* Private Variables  are meant to be accessible only within the class they are defined in\n",
    "* A double underscore (`__`) prefix is used to indicate a private variable."
   ]
  },
  {
   "cell_type": "code",
   "execution_count": null,
   "id": "c795bc15",
   "metadata": {
    "tags": []
   },
   "outputs": [],
   "source": [
    "class Students:\n",
    "    def __init__(self, name,age,average,hobby):\n",
    "        self.name = name # Public variable\n",
    "        self.__age = age # Private variable\n",
    "        self.__average = average # Private variable\n",
    "        self._hobby = hobby # Protected variable\n",
    "        \n",
    "    def display(self):\n",
    "        print(\"Student name is:\", self.name)\n",
    "        print(\"Students age is:\", self.__age)\n",
    "        print(\"Student average marks is: \", self.__average)\n",
    "        print(\"Student hobby is: \", self._hobby)"
   ]
  },
  {
   "cell_type": "code",
   "execution_count": null,
   "id": "046c73c0-eb05-4b96-9415-232319c16a80",
   "metadata": {
    "tags": []
   },
   "outputs": [],
   "source": [
    "dir(Students)"
   ]
  },
  {
   "cell_type": "code",
   "execution_count": null,
   "id": "9393cec5",
   "metadata": {
    "tags": []
   },
   "outputs": [],
   "source": [
    "S = Students(\"XYZ\", 24,79.54,'Facebook')"
   ]
  },
  {
   "cell_type": "code",
   "execution_count": null,
   "id": "43313b1b-ac3f-4a7b-b56c-615c33ea5a0b",
   "metadata": {
    "tags": []
   },
   "outputs": [],
   "source": [
    "dir(S)"
   ]
  },
  {
   "cell_type": "code",
   "execution_count": null,
   "id": "290faf53",
   "metadata": {
    "tags": []
   },
   "outputs": [],
   "source": [
    "S.display()"
   ]
  },
  {
   "cell_type": "code",
   "execution_count": null,
   "id": "61349356",
   "metadata": {
    "tags": []
   },
   "outputs": [],
   "source": [
    "S.name"
   ]
  },
  {
   "cell_type": "code",
   "execution_count": null,
   "id": "e6724432-81c9-4ce1-b1e6-47dc024cf905",
   "metadata": {
    "tags": []
   },
   "outputs": [],
   "source": [
    "S.age"
   ]
  },
  {
   "cell_type": "code",
   "execution_count": null,
   "id": "4d88e650",
   "metadata": {
    "tags": []
   },
   "outputs": [],
   "source": [
    "S.__age"
   ]
  },
  {
   "cell_type": "code",
   "execution_count": null,
   "id": "4da7dd60",
   "metadata": {
    "tags": []
   },
   "outputs": [],
   "source": [
    "S._Students__age"
   ]
  },
  {
   "cell_type": "code",
   "execution_count": null,
   "id": "7e59eb25",
   "metadata": {
    "tags": []
   },
   "outputs": [],
   "source": [
    "S._Students__age = 21"
   ]
  },
  {
   "cell_type": "code",
   "execution_count": null,
   "id": "7c079e2c",
   "metadata": {
    "tags": []
   },
   "outputs": [],
   "source": [
    "S.display()"
   ]
  },
  {
   "cell_type": "code",
   "execution_count": null,
   "id": "d1538afb",
   "metadata": {
    "tags": []
   },
   "outputs": [],
   "source": [
    "S._hobby"
   ]
  },
  {
   "cell_type": "code",
   "execution_count": null,
   "id": "46347909",
   "metadata": {
    "tags": []
   },
   "outputs": [],
   "source": [
    "S._hobby = 'Reading'"
   ]
  },
  {
   "cell_type": "code",
   "execution_count": null,
   "id": "ab601e2a",
   "metadata": {
    "tags": []
   },
   "outputs": [],
   "source": [
    "S.display()"
   ]
  },
  {
   "cell_type": "markdown",
   "id": "2c22d2d8",
   "metadata": {},
   "source": [
    "## Private Methods"
   ]
  },
  {
   "cell_type": "markdown",
   "id": "1a64e96f-1741-4080-95e0-8fb33abd0e61",
   "metadata": {
    "tags": []
   },
   "source": [
    "Private methods in Python are methods that are intended to be used only within the class in which they are defined. They are not accessible directly from outside the class or its subclasses. Python implements private methods using name mangling, which modifies the method name to make it more difficult (though not impossible) to access from outside the class."
   ]
  },
  {
   "cell_type": "code",
   "execution_count": null,
   "id": "9c07225f",
   "metadata": {
    "tags": []
   },
   "outputs": [],
   "source": [
    "class Students:\n",
    "    def __init__(self, name,age,average):\n",
    "        self.name = name # Public variable\n",
    "        self.__age = age # Private variable\n",
    "        self.__average = average\n",
    "        \n",
    "    def __display(self): ## Private methods\n",
    "        print(\"Students name is:\", self.name)\n",
    "        print(\"Students age is:\", self.__age)\n",
    "        print(\"Students average marks is: \", self.__average)\n",
    "        "
   ]
  },
  {
   "cell_type": "code",
   "execution_count": null,
   "id": "84218506",
   "metadata": {
    "tags": []
   },
   "outputs": [],
   "source": [
    "S = Students(\"XYZ\", 24,79.54)"
   ]
  },
  {
   "cell_type": "code",
   "execution_count": null,
   "id": "9732e794",
   "metadata": {
    "tags": []
   },
   "outputs": [],
   "source": [
    "S.name"
   ]
  },
  {
   "cell_type": "code",
   "execution_count": null,
   "id": "884b1839",
   "metadata": {
    "tags": []
   },
   "outputs": [],
   "source": [
    "S.__display()"
   ]
  },
  {
   "cell_type": "code",
   "execution_count": null,
   "id": "912edb35",
   "metadata": {
    "tags": []
   },
   "outputs": [],
   "source": [
    "S._Students__display()"
   ]
  },
  {
   "cell_type": "code",
   "execution_count": null,
   "id": "c3f704c4-ff9c-4bab-87b4-dae60d8c8a5b",
   "metadata": {
    "tags": []
   },
   "outputs": [],
   "source": [
    "## Another Example of Private Method\n",
    "class BankAccount:\n",
    "    def __init__(self, account_holder, balance):\n",
    "        self.account_holder = account_holder\n",
    "        self.__balance = balance  # Private attribute\n",
    "\n",
    "    def deposit(self, amount):\n",
    "        if amount > 0:\n",
    "            self.__balance += amount\n",
    "            self.__log_transaction(\"Deposit\", amount)  # Call to private method\n",
    "            return f\"Deposited {amount}. New balance is {self.__balance}\"\n",
    "        else:\n",
    "            return \"Invalid deposit amount.\"\n",
    "\n",
    "    def withdraw(self, amount):\n",
    "        if 0 < amount <= self.__balance:\n",
    "            self.__balance -= amount\n",
    "            self.__log_transaction(\"Withdrawal\", amount)  # Call to private method\n",
    "            return f\"Withdrew {amount}. New balance is {self.__balance}\"\n",
    "        else:\n",
    "            return \"Invalid withdrawal amount or insufficient balance.\"\n",
    "    \n",
    "    ## Private Method\n",
    "    def __log_transaction(self, transaction_type, amount):\n",
    "        print(f\"{transaction_type} of {amount} logged successfully.\")"
   ]
  },
  {
   "cell_type": "code",
   "execution_count": null,
   "id": "baff4d7b-c371-4299-a3b8-8c825cfa45ea",
   "metadata": {
    "tags": []
   },
   "outputs": [],
   "source": [
    "# Using the BankAccount class\n",
    "account = BankAccount(\"Ronie\", 10000)\n",
    "\n",
    "print(account.deposit(200))  # Deposit money\n",
    "print(account.withdraw(500))  # Withdraw money\n",
    "\n",
    "# account.__log_transaction(\"Test\", 0)  # Raises AttributeError"
   ]
  },
  {
   "cell_type": "markdown",
   "id": "b26fa5da-202c-4069-84c2-a5ab050657ca",
   "metadata": {},
   "source": [
    "## Python Methods"
   ]
  },
  {
   "cell_type": "markdown",
   "id": "76714e91-eee5-492b-81ef-e1f145d0e184",
   "metadata": {
    "tags": []
   },
   "source": [
    "* **Instance methods:** Instance methods are the most common type of methods in Python classes. They are used to perform actions that use or modify the data attributes of an object. They must take 'self' as their first parameter, which is a reference to the instance of the class.\n",
    "\n",
    "* **Class method:** Class methods are methods that operate on the class itself and take 'cls' as their first parameter, which is a reference to the class, and are defined using the '@classmethod'.\n",
    "\n",
    "* **Static method:**  Static methods do not operate on an instance or the class itself. They do not take 'self' or 'cls' as their first parameter, but are defined using the '@staticmethod' decorator and can be called on the class itself."
   ]
  },
  {
   "cell_type": "code",
   "execution_count": null,
   "id": "5fa21799",
   "metadata": {
    "tags": []
   },
   "outputs": [],
   "source": [
    "class Student:\n",
    "    # class variables\n",
    "    school_name = 'Don Bosco School'\n",
    "\n",
    "    # constructor\n",
    "    def __init__(self, name, age):\n",
    "        # instance variables\n",
    "        self.name = name\n",
    "        self.age = age\n",
    "\n",
    "    # instance variables\n",
    "    def display(self):\n",
    "        print(self.name, self.age, Student.school_name)\n",
    "\n",
    "    @classmethod\n",
    "    def change_School(cls, name):\n",
    "        cls.school_name = name\n",
    "\n",
    "    @staticmethod\n",
    "    def find_notes(subject_name):\n",
    "        return ['chapter 1', 'chapter 2', 'chapter 3']"
   ]
  },
  {
   "cell_type": "code",
   "execution_count": null,
   "id": "4ec35c82",
   "metadata": {
    "tags": []
   },
   "outputs": [],
   "source": [
    "John = Student('John Josey', 12)\n",
    "# call instance method\n",
    "John.display()"
   ]
  },
  {
   "cell_type": "code",
   "execution_count": null,
   "id": "5c3282f2",
   "metadata": {
    "tags": []
   },
   "outputs": [],
   "source": [
    "# call class method using the class\n",
    "Student.change_School('St. Xavier School')\n",
    "John.display()"
   ]
  },
  {
   "cell_type": "code",
   "execution_count": null,
   "id": "521a9d6c",
   "metadata": {
    "tags": []
   },
   "outputs": [],
   "source": [
    "# call class method using the object\n",
    "John.change_School('JVB School')\n",
    "John.display()"
   ]
  },
  {
   "cell_type": "code",
   "execution_count": null,
   "id": "93af4083-dc4f-4a06-8dfa-2564b5391c94",
   "metadata": {
    "tags": []
   },
   "outputs": [],
   "source": [
    "Rob = Student('Robert Beezer', 21)\n",
    "# call instance method\n",
    "Rob.display()"
   ]
  },
  {
   "cell_type": "code",
   "execution_count": null,
   "id": "38f3fdf5",
   "metadata": {
    "tags": []
   },
   "outputs": [],
   "source": [
    "# call static method using the class\n",
    "Student.find_notes('Math')"
   ]
  },
  {
   "cell_type": "code",
   "execution_count": null,
   "id": "5123388a",
   "metadata": {
    "tags": []
   },
   "outputs": [],
   "source": [
    "# call class method using the object\n",
    "John.find_notes('Math')"
   ]
  },
  {
   "cell_type": "code",
   "execution_count": null,
   "id": "3ffcfc3f",
   "metadata": {
    "tags": []
   },
   "outputs": [],
   "source": [
    "## Another Example\n",
    "class Accumulator:\n",
    "    def __init__(self):\n",
    "        self.acc = 0\n",
    "\n",
    "    def add(self, x):\n",
    "        self.acc += x\n",
    "\n",
    "    @staticmethod\n",
    "    def sub(x,y):\n",
    "        return x-y\n",
    "\n",
    "if __name__ == \"__main__\":\n",
    "    a = Accumulator()\n",
    "    a.add(23)\n",
    "    a.add(42)\n",
    "\n",
    "    print(a.acc)\n",
    "\n",
    "    print(Accumulator.sub(23, 42))\n"
   ]
  },
  {
   "cell_type": "code",
   "execution_count": null,
   "id": "60f0b423",
   "metadata": {
    "tags": []
   },
   "outputs": [],
   "source": [
    "## Another Example\n",
    "class Accumulator:\n",
    "    count = 0\n",
    "\n",
    "    def __init__(self):\n",
    "        Accumulator.increase_count()\n",
    "        self.acc = 0\n",
    "\n",
    "    def add(self, x):\n",
    "        self.acc += x\n",
    "\n",
    "    @classmethod\n",
    "    def increase_count(cls):\n",
    "        cls.count += 1\n",
    "\n",
    "    @classmethod\n",
    "    def get_count(cls):\n",
    "        return cls.count\n",
    "\n",
    "if __name__ == \"__main__\":\n",
    "    a = Accumulator()\n",
    "    print(Accumulator.get_count())\n",
    "\n",
    "    b = Accumulator()\n",
    "    print(Accumulator.get_count())"
   ]
  },
  {
   "cell_type": "markdown",
   "id": "3fb6dd27",
   "metadata": {},
   "source": [
    "## INHERITANCE, ENCAPSULATION, AND POLYMORPHISM\n",
    "\n",
    "There are three more important concepts: \n",
    "1. **Inheritance:** makes the OOP code more modular, easier to reuse, and capable of building a relationship between classes;\n",
    "2. **Encapsulation:** can hide some of the private details of a class from other objects; and\n",
    "3. **Polymorphism:**  allows us to use a common operation in different ways. "
   ]
  },
  {
   "cell_type": "markdown",
   "id": "53856ed5",
   "metadata": {},
   "source": [
    "### INHERITANCE\n",
    "* Inheritance is one of the cornerstones of object-oriented programming (OOP), enabling a class to inherit properties and behaviors from another class. \n",
    "\n",
    "* Inheritance allows us to define a class that inherits all the methods and attributes from another class. Conventionally denotes the new class as **child class**, and the one that it inherits from is called the **parent class or superclass.**  \n",
    "\n",
    "* If we refer back to the definition of class structure, we can see the structure for basic inheritance is  \n",
    "\n",
    "    **class ChildClassName(ParentClassName)** \n",
    "\n",
    "    which means the ChildClassName can access all the  attributes and methods from the ParentClassName. \n",
    "\n",
    "* Inheritance builds a relationship between the child and parent classes. Usually, the parent class is a general type while the child class is a specific type."
   ]
  },
  {
   "cell_type": "markdown",
   "id": "bc732e79",
   "metadata": {},
   "source": [
    "### Single and Multi Inheritance"
   ]
  },
  {
   "cell_type": "code",
   "execution_count": null,
   "id": "4456bb72",
   "metadata": {
    "tags": []
   },
   "outputs": [],
   "source": [
    "class Employee:\n",
    "    def __init__(self, name, salary):\n",
    "        self.name = name\n",
    "        self.salary = salary\n",
    "\n",
    "    def display_details(self):\n",
    "        return (f\"Name: {self.name}, Salaray: {self.salary}\")"
   ]
  },
  {
   "cell_type": "code",
   "execution_count": null,
   "id": "85cdc188",
   "metadata": {
    "tags": []
   },
   "outputs": [],
   "source": [
    "class Manager(Employee):\n",
    "    \n",
    "    def __init__(self, name, salary, team_size):\n",
    "        super().__init__(name, salary)\n",
    "        self.team_size = team_size\n",
    "        \n",
    "    def display_details(self):\n",
    "        print(f\"{super().display_details()}, Team Size: {self.team_size}\")"
   ]
  },
  {
   "cell_type": "markdown",
   "id": "cd24a0c9-236e-4310-8717-06c49b7b1c80",
   "metadata": {},
   "source": [
    "Super() is a built-in function that allows you to call methods of a parent class from a subclass. By using super(), you can easily access and override methods that are already defined in a parent class, allowing you to add functionality without duplicating code."
   ]
  },
  {
   "cell_type": "code",
   "execution_count": null,
   "id": "84faccb0",
   "metadata": {
    "tags": []
   },
   "outputs": [],
   "source": [
    "class Developer(Employee):\n",
    "    \n",
    "    def __init__(self, name, salary, programming_language):\n",
    "        super().__init__(name, salary)\n",
    "        self.programming_language = programming_language\n",
    "        \n",
    "    def display_details(self):\n",
    "        print(f\"{super().display_details()}\")"
   ]
  },
  {
   "cell_type": "code",
   "execution_count": null,
   "id": "2b183ac8",
   "metadata": {
    "tags": []
   },
   "outputs": [],
   "source": [
    "manager = Manager(\"John\", 90000, 10)\n",
    "manager.display_details()   "
   ]
  },
  {
   "cell_type": "code",
   "execution_count": null,
   "id": "1a929f6e",
   "metadata": {
    "tags": []
   },
   "outputs": [],
   "source": [
    "developer = Developer(\"Alice\", 60000, \"Java\")\n",
    "developer.display_details() "
   ]
  },
  {
   "cell_type": "code",
   "execution_count": null,
   "id": "92df41a3-5799-4576-8a10-2fef27acc51a",
   "metadata": {
    "tags": []
   },
   "outputs": [],
   "source": [
    "help(Manager)"
   ]
  },
  {
   "cell_type": "code",
   "execution_count": null,
   "id": "eb1939c4",
   "metadata": {
    "tags": []
   },
   "outputs": [],
   "source": [
    "# Base class\n",
    "class ICT_Employee:\n",
    "    def __init__(self, name, salary):\n",
    "        self.name = name\n",
    "        self.salary = salary\n",
    "\n",
    "    def display_info(self):\n",
    "        print(f\"Name: {self.name}, Salary: {self.salary}\")\n",
    "\n",
    "# Derived class\n",
    "class Professor(ICT_Employee):\n",
    "    def __init__(self, name, salary, department):\n",
    "        super().__init__(name, salary)\n",
    "        self.department = department\n",
    "\n",
    "    def display_info(self):\n",
    "        super().display_info()\n",
    "        print(f\"Department: {self.department}\")\n",
    "\n",
    "# Another Derived class\n",
    "class Staff(ICT_Employee):\n",
    "    def __init__(self, name, salary, department):\n",
    "        super().__init__(name, salary)\n",
    "        self.department = department\n",
    "\n",
    "    def display_info(self):\n",
    "        super().display_info()\n",
    "        print(f\"Department: {self.department}\")"
   ]
  },
  {
   "cell_type": "code",
   "execution_count": null,
   "id": "f9d19d4a",
   "metadata": {
    "tags": []
   },
   "outputs": [],
   "source": [
    "# Example Usage\n",
    "Prof1 = Professor(\"Alice\", 90000, \"Chemical Engineering\")\n",
    "Prof1.display_info()"
   ]
  },
  {
   "cell_type": "code",
   "execution_count": null,
   "id": "085b6180",
   "metadata": {
    "tags": []
   },
   "outputs": [],
   "source": [
    "Staff1 = Staff(\"Maya\", 67000, \"Stores\")\n",
    "Staff1.display_info()"
   ]
  },
  {
   "cell_type": "markdown",
   "id": "c93652f7",
   "metadata": {},
   "source": [
    "**Explanation:**\n",
    "\n",
    "Here, the ICT_Employee class is the base class and has name and pay attributes, as well as a method to show this information. Class Professor inherits from ICT_Employee class, has an additional attribute called department, and in its display_info() method, it overrides the same method of ICT_Employee with extra information about the department. When an instance of Professor is created, and display_info() is invoked, it displays both the base class characteristics and the additional department information."
   ]
  },
  {
   "cell_type": "code",
   "execution_count": null,
   "id": "4a4318cb",
   "metadata": {
    "scrolled": true,
    "tags": []
   },
   "outputs": [],
   "source": [
    "## Another Example of inheritance\n",
    "class Shape:\n",
    "    def __init__(self, color):\n",
    "        self.color = color\n",
    "\n",
    "    def area(self):\n",
    "        pass\n",
    "\n",
    "class Circle(Shape):\n",
    "    def __init__(self, color, radius):\n",
    "        super().__init__(color)\n",
    "        self.radius = radius\n",
    "\n",
    "    def area(self):\n",
    "        return 3.14 * self.radius**2\n",
    "\n",
    "class Square(Shape):\n",
    "    def __init__(self, color, side_length):\n",
    "        super().__init__(color)\n",
    "        self.side_length = side_length\n",
    "\n",
    "    def area(self):\n",
    "        return self.side_length**2\n",
    "\n",
    "# Usage\n",
    "circle = Circle(\"Red\", 5)\n",
    "square = Square(\"Blue\", 4)\n",
    "print(circle.area()) \n",
    "print(square.area())"
   ]
  },
  {
   "cell_type": "markdown",
   "id": "543493f8",
   "metadata": {},
   "source": [
    "### Single inheritance\n",
    "Single inheritance is the simplest type of inheritance, in which a single child class originated from a single parent class. Because of its open nature, it is also known as Single Inheritance."
   ]
  },
  {
   "cell_type": "markdown",
   "id": "747e69ec",
   "metadata": {},
   "source": [
    "### Multiple inheritance\n",
    "Multiple inheritance is a mechanism of inheriting one child class from two or more parent classes."
   ]
  },
  {
   "cell_type": "code",
   "execution_count": null,
   "id": "1fe81701",
   "metadata": {
    "tags": []
   },
   "outputs": [],
   "source": [
    "# Base class 1\n",
    "class Person:\n",
    "    def __init__(self, name):\n",
    "        self.name = name\n",
    "\n",
    "# Base class 2\n",
    "class Course:\n",
    "    def __init__(self, course_name):\n",
    "        self.course_name = course_name\n",
    "\n",
    "# Derived class\n",
    "class Student(Person, Course):\n",
    "    \n",
    "    def __init__(self, name, course_name):\n",
    "        Person.__init__(self, name)\n",
    "        Course.__init__(self, course_name)\n",
    "\n",
    "    def enroll(self):\n",
    "        print(f\"The students {self.name} has enrolled in {self.course_name} Course.\")\n",
    "\n",
    "# Example Usage\n",
    "student = Student(\"Bob\", \"Machine Learning\")\n",
    "student.enroll()  # Method from CourseStudent\n"
   ]
  },
  {
   "cell_type": "markdown",
   "id": "65bc9bd0",
   "metadata": {},
   "source": [
    "## Multilevel Inheritance\n",
    "\n",
    "Multilevel inheritance is a type of inheritance where a class inherits from another class, which itself inherits from a base class. This forms a chain of inheritance, with the topmost class being the ultimate parent and the bottommost class being the ultimate child."
   ]
  },
  {
   "cell_type": "code",
   "execution_count": null,
   "id": "3c1cde45-89e3-4201-ad5f-b7e4c018cc4c",
   "metadata": {
    "tags": []
   },
   "outputs": [],
   "source": [
    "# Base class\n",
    "class University:\n",
    "    def __init__(self, name):\n",
    "        self.name = name\n",
    "\n",
    "    def display_university(self):\n",
    "        print(f\"University: {self.name}\")\n",
    "\n",
    "# Derived class\n",
    "class Department(University):\n",
    "    def __init__(self, name, department_name):\n",
    "        super().__init__(name)\n",
    "        self.department_name = department_name\n",
    "\n",
    "    def display_department(self):\n",
    "        print(f\"Department: {self.department_name}\")\n",
    "\n",
    "# Further derived class\n",
    "class Student(Department):\n",
    "    def __init__(self, name, department_name, student_name):\n",
    "        super().__init__(name, department_name)\n",
    "        self.student_name = student_name\n",
    "\n",
    "    def display_student(self):\n",
    "        print(f\"Name: {self.student_name}\")"
   ]
  },
  {
   "cell_type": "code",
   "execution_count": null,
   "id": "80d7fa3d-ff4b-4a8e-b817-1deef94457bd",
   "metadata": {
    "tags": []
   },
   "outputs": [],
   "source": [
    "# Example Usage\n",
    "student = Student(\"ICT Mumbai\", \"Chemical Engineering\", \"John Shah\")\n",
    "student.display_student()     # Method from Student\n",
    "student.display_department()  # Method from Department\n",
    "student.display_university()  # Method from University\n"
   ]
  },
  {
   "cell_type": "code",
   "execution_count": null,
   "id": "74a27220-ed42-4791-9059-9f66796239b1",
   "metadata": {
    "tags": []
   },
   "outputs": [],
   "source": [
    "S1 = Student(\"Mumbai University\", \"CBS\",'XYZ')\n",
    "S1.display_student()     # Method from Student\n",
    "S1.display_department()  # Method from Department\n",
    "S1.display_university()  # Method from University"
   ]
  },
  {
   "cell_type": "markdown",
   "id": "e49470de",
   "metadata": {},
   "source": [
    "### Hierarchical Inheritance\n",
    "Hierarchical Inheritance is the right opposite of multiple inheritance. Hierarchical inheritance is a type of inheritance in which multiple classes inherit properties and methods from the same parent class."
   ]
  },
  {
   "cell_type": "code",
   "execution_count": null,
   "id": "8e676e1f",
   "metadata": {
    "tags": []
   },
   "outputs": [],
   "source": [
    "# Base class\n",
    "class Person:\n",
    "    def __init__(self, name):\n",
    "        self.name = name\n",
    "\n",
    "    def display_name(self):\n",
    "        print(f\"Name: {self.name}\")\n",
    "\n",
    "# Derived classes\n",
    "class Professor(Person):\n",
    "    def teach(self):\n",
    "        print(f\"{self.name} is teaching\")\n",
    "\n",
    "class Student(Person):\n",
    "    def study(self):\n",
    "        print(f\"{self.name} is studying\")\n",
    "\n",
    "# Example Usage\n",
    "professor = Professor(\"Dr. Smith\")\n",
    "student = Student(\"Emily\")\n",
    "professor.display_name()  # Method from Person\n",
    "professor.teach()         # Method from Professor\n",
    "student.display_name()    # Method from Person\n",
    "student.study()           # Method from Student\n"
   ]
  },
  {
   "cell_type": "markdown",
   "id": "67d4ecd1",
   "metadata": {},
   "source": [
    "### Hybrid Inheritance\n",
    "\n",
    "* Hybrid Inheritance is the mixture of two or more different types of inheritance. Here, we can see the many relationships between parent and child classes at multiple levels.\n",
    "* Hybrid inheritance is the combination of two or more different forms of inheritance."
   ]
  },
  {
   "cell_type": "code",
   "execution_count": null,
   "id": "019032fe-7385-4c4d-9a4d-0651dbf04c44",
   "metadata": {
    "tags": []
   },
   "outputs": [],
   "source": [
    "# Base class\n",
    "class Person:\n",
    "    def __init__(self, name, age):\n",
    "        self.name = name\n",
    "        self.age = age\n",
    "\n",
    "    def display_info(self):\n",
    "        return f\"Name: {self.name}, Age: {self.age}\"\n",
    "\n",
    "\n",
    "# Derived class: Faculty\n",
    "class Faculty(Person):\n",
    "    def __init__(self, name, age, faculty_id, department):\n",
    "        super().__init__(name, age)\n",
    "        self.faculty_id = faculty_id\n",
    "        self.department = department\n",
    "\n",
    "    def display_info(self):\n",
    "        return super().display_info() + f\", Faculty ID: {self.faculty_id}, Department: {self.department}\"\n",
    "\n",
    "\n",
    "# Derived class: Student\n",
    "class Student(Person):\n",
    "    def __init__(self, name, age, student_id, major):\n",
    "        super().__init__(name, age)\n",
    "        self.student_id = student_id\n",
    "        self.major = major\n",
    "\n",
    "    def display_info(self):\n",
    "        return super().display_info() + f\", Student ID: {self.student_id}, Major: {self.major}\"\n",
    "    \n",
    "    # Multiple Inheritance: TeachingAssistant\n",
    "class TeachingAssistant(Faculty, Student):\n",
    "    def __init__(self, name, age, faculty_id, department, student_id, major, hours_per_week):\n",
    "        Faculty.__init__(self, name, age, faculty_id, department)\n",
    "        Student.__init__(self, name, age, student_id, major)\n",
    "        self.hours_per_week = hours_per_week\n",
    "\n",
    "    def display_info(self):\n",
    "        return (\n",
    "            f\"{Faculty.display_info(self)}, {Student.display_info(self)}, Hours/Week: {self.hours_per_week}\"\n",
    "        )"
   ]
  },
  {
   "cell_type": "code",
   "execution_count": null,
   "id": "ec648922-375d-472b-8b0a-37c3a15855c3",
   "metadata": {
    "tags": []
   },
   "outputs": [],
   "source": [
    "person = Person(\"Alice\", 40)\n",
    "print(person.display_info())\n",
    "\n",
    "# Faculty object\n",
    "faculty = Faculty(\"Dr. Bob\", 50, \"F123\", \"Computer Science\")\n",
    "print(faculty.display_info())\n",
    "\n",
    "# Student object\n",
    "student = Student(\"Charlie\", 22, \"S456\", \"Mathematics\")\n",
    "print(student.display_info())"
   ]
  },
  {
   "cell_type": "code",
   "execution_count": null,
   "id": "0114ea66-ea67-4dbb-8271-f5dccce41bf2",
   "metadata": {
    "tags": []
   },
   "outputs": [],
   "source": [
    "ta = TeachingAssistant(\"Dave\", 25, \"F789\", \"Physics\", \"S789\", \"Astronomy\", 20)"
   ]
  },
  {
   "cell_type": "code",
   "execution_count": null,
   "id": "efd7d98c-e233-46f6-9e14-9c8699135b70",
   "metadata": {
    "tags": []
   },
   "outputs": [],
   "source": [
    "\n",
    "\n",
    "\n",
    "# Example Usage\n",
    "if __name__ == \"__main__\":\n",
    "    # Person object\n",
    "    person = Person(\"Alice\", 40)\n",
    "    print(person.display_info())\n",
    "\n",
    "    # Faculty object\n",
    "    faculty = Faculty(\"Dr. Bob\", 50, \"F123\", \"Computer Science\")\n",
    "    print(faculty.display_info())\n",
    "\n",
    "    # Student object\n",
    "    student = Student(\"Charlie\", 22, \"S456\", \"Mathematics\")\n",
    "    print(student.display_info())\n",
    "\n",
    "    # Teaching Assistant object\n",
    "    ta = TeachingAssistant(\"Dave\", 25, \"F789\", \"Physics\", \"S789\", \"Astronomy\", 20)\n",
    "    print(ta.display_info())"
   ]
  },
  {
   "cell_type": "code",
   "execution_count": null,
   "id": "cc851242-2a94-4481-b660-e76f14f3054e",
   "metadata": {
    "tags": []
   },
   "outputs": [],
   "source": [
    "    # WorkingStudent object\n",
    "    working_student = WorkingStudent(\"Dev\", 25, \"E789\", \"S101\")\n",
    "    print(working_student.display_info())"
   ]
  },
  {
   "cell_type": "markdown",
   "id": "dbff2b38",
   "metadata": {},
   "source": [
    "## What is Method Overriding\n",
    "Method overriding is an OOP feature that allows a child class to provide its own implementation for a method already defined in its parent class.\n",
    "\n",
    "The child class will inherit all the methods from the parent class. However, it can override specific inherited methods by redefining them using the same method signature. When the method is called on an instance of the child class, its overriding implementation will be executed instead of the parent’s version."
   ]
  },
  {
   "cell_type": "code",
   "execution_count": null,
   "id": "7692abbf",
   "metadata": {
    "tags": []
   },
   "outputs": [],
   "source": [
    "class Animal:\n",
    "    def speak(self):\n",
    "        print(\"The animal makes a sound.\")\n",
    "\n",
    "class Dog(Animal):\n",
    "    ## overriding speak method of Animal class\n",
    "    def speak(self):\n",
    "        print(\"The dog barks!\")\n",
    "    "
   ]
  },
  {
   "cell_type": "code",
   "execution_count": null,
   "id": "ce833ef1",
   "metadata": {
    "tags": []
   },
   "outputs": [],
   "source": [
    "C = Animal()\n",
    "C.speak()"
   ]
  },
  {
   "cell_type": "code",
   "execution_count": null,
   "id": "41c731b6-523e-41e4-855f-76f5253c842e",
   "metadata": {
    "tags": []
   },
   "outputs": [],
   "source": [
    "d= Dog()\n",
    "\n",
    "d.speak()"
   ]
  },
  {
   "cell_type": "code",
   "execution_count": null,
   "id": "d69f10ee",
   "metadata": {
    "tags": []
   },
   "outputs": [],
   "source": [
    "class Shape:\n",
    "\n",
    "  def __init__(self, color):\n",
    "    self.color = color\n",
    "\n",
    "  def area(self):\n",
    "    pass\n",
    "\n",
    "class Square(Shape):\n",
    "\n",
    "  def __init__(self, side_length, color):\n",
    "    super().__init__(color)\n",
    "    self.side = side_length\n",
    "\n",
    "  def area(self):\n",
    "    return self.side ** 2\n",
    "\n",
    "class Circle(Shape):\n",
    "\n",
    "  def __init__(self, radius, color):\n",
    "    super().__init__(color)\n",
    "    self.radius = radius\n",
    "\n",
    "  def area(self):\n",
    "    return 3.14 * (self.radius ** 2)\n",
    "\n",
    "sq = Square(7, 'red')\n",
    "print(sq.area()) # Outputs 25\n",
    "\n",
    "cir = Circle(5, 'blue')\n",
    "print(cir.area()) # Outputs 28.26\n"
   ]
  },
  {
   "cell_type": "markdown",
   "id": "da7c6abb",
   "metadata": {},
   "source": [
    "* Method overriding is a fundamental technique in OOP and Python for customizing inherited behavior. It enables subclasses to extend superclass capabilities according to specific needs while reusing common logic and structure through inheritance.\n",
    "\n",
    "* The super() function can also be leveraged to access inherited implementations. Overriding when applied properly helps improve polymorphism, abstraction, and code reuse."
   ]
  },
  {
   "cell_type": "markdown",
   "id": "0362548d-eea7-4946-b450-d3f65cb4c484",
   "metadata": {},
   "source": [
    "## Encapsulation\n",
    " Encapsulation in Python is a fundamental object-oriented programming concept that restricts access to the inner workings of a class and allows controlled access through methods. It is achieved by defining attributes or methods with different access levels: public, protected, and private.\n",
    " \n",
    "* Public Members: Accessible from anywhere.\n",
    "* Protected Members: Indicated by a single underscore (`_`) , they suggest that the member should not be accessed directly but can be accessed if necessary.\n",
    "\n",
    "* Private Members: Indicated by a double underscore (`__`), they restrict direct access and prevent accidental modification."
   ]
  },
  {
   "cell_type": "code",
   "execution_count": null,
   "id": "af8d7c87-55f1-402d-aa32-a01495bff676",
   "metadata": {
    "tags": []
   },
   "outputs": [],
   "source": [
    "# example to explain encapulation\n",
    "class Students:\n",
    "    def __init__(self, name, age, roll_number, marks):\n",
    "        # Public variable\n",
    "        self.name = name\n",
    "        \n",
    "        # Protected variable\n",
    "        self._age = age\n",
    "        \n",
    "        # Private variables\n",
    "        self.__roll_number = roll_number\n",
    "        self.__marks = marks\n",
    "\n",
    "    # Public method to get roll number\n",
    "    def get_roll_number(self):\n",
    "        return self.__roll_number\n",
    "\n",
    "    # Public method to set roll number\n",
    "    def set_roll_number(self, roll_number):\n",
    "        if isinstance(roll_number, int) and roll_number > 0:\n",
    "            self.__roll_number = roll_number\n",
    "        else:\n",
    "            raise ValueError(\"Invalid roll number. It must be a positive integer.\")\n",
    "\n",
    "    # Protected method to update marks\n",
    "    def _update_marks(self, marks):\n",
    "        if 0 <= marks <= 100:\n",
    "            self.__marks = marks\n",
    "        else:\n",
    "            raise ValueError(\"Marks must be between 0 and 100.\")\n",
    "\n",
    "    # Public method to display student details\n",
    "    def display_details(self):\n",
    "        print(f\"Name: {self.name}\")\n",
    "        print(f\"Age: {self._age}\")\n",
    "        print(f\"Roll Number: {self.__roll_number}\")\n",
    "        print(f\"Marks: {self.__marks}\")"
   ]
  },
  {
   "cell_type": "code",
   "execution_count": null,
   "id": "a74a8d9a-6d85-41af-affb-02ccd32c3ba4",
   "metadata": {
    "tags": []
   },
   "outputs": [],
   "source": [
    "# Example Usage\n",
    "if __name__ == \"__main__\":\n",
    "    student = Students(name=\"Alice\", age=20, roll_number=101, marks=85)\n",
    "    \n",
    "    # Accessing public variable\n",
    "    print(\"Public Variable - Name:\", student.name)\n",
    "    \n",
    "    # Accessing protected variable (not recommended directly)\n",
    "    print(\"Protected Variable - Age:\", student._age)\n",
    "    \n",
    "    # Accessing private variable (not allowed directly)\n",
    "    try:\n",
    "        print(\"Private Variable - Roll Number:\", student.__roll_number)\n",
    "    except AttributeError as e:\n",
    "        print(e)\n",
    "\n",
    "    # Accessing private variable through public getter\n",
    "    print(\"Accessing Private Roll Number:\", student.get_roll_number())\n",
    "\n",
    "    # Modifying private variable through public setter\n",
    "    student.set_roll_number(102)\n",
    "    print(\"Updated Roll Number:\", student.get_roll_number())\n",
    "\n",
    "    # Protected method usage\n",
    "    student._update_marks(90)\n",
    "    \n",
    "    # Displaying student details\n",
    "    student.display_details()"
   ]
  },
  {
   "cell_type": "code",
   "execution_count": null,
   "id": "8094afa4-2b9e-447b-8503-9741fc993a92",
   "metadata": {
    "tags": []
   },
   "outputs": [],
   "source": [
    "## Another example to explain encapulation\n",
    "class BankAccount:\n",
    "    def __init__(self, account_holder, balance):\n",
    "        # Public attribute\n",
    "        self.account_holder = account_holder\n",
    "        \n",
    "        # Protected attribute\n",
    "        self._balance = balance\n",
    "        \n",
    "        # Private attribute\n",
    "        self.__transaction_history = []\n",
    "\n",
    "    # Public method to deposit money\n",
    "    def deposit(self, amount):\n",
    "        if amount > 0:\n",
    "            self._balance += amount\n",
    "            self.__record_transaction(f\"Deposited: Rs.{amount}\")\n",
    "        else:\n",
    "            print(\"Invalid deposit amount.\")\n",
    "\n",
    "    # Public method to withdraw money\n",
    "    def withdraw(self, amount):\n",
    "        if 0 < amount <= self._balance:\n",
    "            self._balance -= amount\n",
    "            self.__record_transaction(f\"Withdrawn: Rs.{amount}\")\n",
    "        else:\n",
    "            print(\"Invalid withdrawal amount or insufficient funds.\")\n",
    "\n",
    "    # Public method to check balance\n",
    "    def check_balance(self):\n",
    "        return self._balance\n",
    "\n",
    "    # Private method to record transactions\n",
    "    def __record_transaction(self, detail):\n",
    "        self.__transaction_history.append(detail)\n",
    "\n",
    "    # Public method to view transaction history (provides controlled access)\n",
    "    def view_transaction_history(self):\n",
    "        return self.__transaction_history"
   ]
  },
  {
   "cell_type": "code",
   "execution_count": null,
   "id": "7a6b1dea-e450-4b00-8034-f5213b8aaf98",
   "metadata": {
    "tags": []
   },
   "outputs": [],
   "source": [
    "# Example Usage\n",
    "if __name__ == \"__main__\":\n",
    "    account = BankAccount(\"Raina\", 20000)\n",
    "\n",
    "    # Accessing public member\n",
    "    print(f\"Account Holder: {account.account_holder}\")\n",
    "\n",
    "    # Accessing public methods\n",
    "    account.deposit(5000)\n",
    "    print(f\"Balance after deposit: Rs.{account.check_balance()}\")\n",
    "\n",
    "    account.withdraw(3500)\n",
    "    print(f\"Balance after withdrawal: Rs.{account.check_balance()}\")\n",
    "\n",
    "    # Accessing protected member (not recommended but possible)\n",
    "    print(f\"Protected Balance: Rs.{account._balance}\")\n",
    "\n",
    "    # Accessing private attribute (will raise AttributeError)\n",
    "    try:\n",
    "        print(account.__transaction_history)\n",
    "    except AttributeError as e:\n",
    "        print(e)\n",
    "\n",
    "    # Accessing private member through a public method\n",
    "    print(\"Transaction History:\", account.view_transaction_history())"
   ]
  },
  {
   "cell_type": "markdown",
   "id": "c0e288c4-3134-4dcc-9f5f-bac1ecec054e",
   "metadata": {},
   "source": [
    "**Explanation:**\n",
    "1. Public Members: account\\_holder is directly accessible. Methods like deposit, withdraw, and check\\_balance are also public and provide controlled access to the class's functionality.\n",
    "\n",
    "2. Protected Members: \\_balance is accessible but suggests not to modify directly. It should be modified using the provided methods.\n",
    "\n",
    "3. Private Members: transaction\\_history is entirely private. It cannot be accessed directly outside the class but can be accessed via the view\\_transaction_history method.\n",
    "\n",
    "Encapsulation ensures that sensitive data is hidden and only modified in a controlled manner, improving code security and maintainability."
   ]
  },
  {
   "cell_type": "markdown",
   "id": "f9a0f671-5b5f-428b-96b8-186f629efab9",
   "metadata": {},
   "source": [
    "## Polymorphism\n",
    "\n",
    "Polymorphism in Python refers to the ability of objects to take on different forms depending on their context. It allows the same interface or method to behave differently for different classes or objects. Polymorphism promotes flexibility and reusability in code.\n",
    "\n",
    "Python achieves polymorphism in several ways:\n",
    "\n",
    "* **Method Overriding** (used in inheritance).\n",
    "* **Method Overloading** (Python supports it implicitly by handling arguments dynamically).\n",
    "* **Operator Overloading**.\n"
   ]
  },
  {
   "cell_type": "code",
   "execution_count": null,
   "id": "32cb4a78-b158-4cba-89d1-4bca67ed4ef1",
   "metadata": {
    "tags": []
   },
   "outputs": [],
   "source": [
    "## Example of method overriding\n",
    "class Animal:\n",
    "    def speak(self):\n",
    "        return \"This animal makes a sound.\"\n",
    "\n",
    "class Dog(Animal):\n",
    "    def speak(self):\n",
    "        return \"Woof!\"\n",
    "\n",
    "class Cat(Animal):\n",
    "    def speak(self):\n",
    "        return \"Meow!\"\n",
    "    \n",
    "# Each subclass (Dog and Cat) overrides the speak method of the Animal class.\n",
    "#The same method call (speak) behaves differently depending on the object type.\n",
    "\n",
    "# Polymorphism in action\n",
    "animals = [Dog(), Cat(), Animal()]\n",
    "\n",
    "for animal in animals:\n",
    "    print(animal.speak())"
   ]
  },
  {
   "cell_type": "code",
   "execution_count": null,
   "id": "40055e21-1607-4739-903e-96e53e1e564a",
   "metadata": {
    "tags": []
   },
   "outputs": [],
   "source": [
    "## Another example for polymorphism\n",
    "class Student:\n",
    "    def __init__(self, name, grade):\n",
    "        self.name = name\n",
    "        self.grade = grade\n",
    "\n",
    "    def get_details(self):\n",
    "        return f\"Name: {self.name}, Grade: {self.grade}\"\n",
    "\n",
    "class PGStudent(Student):\n",
    "    def __init__(self, name, grade, level):\n",
    "        super().__init__(name, grade)\n",
    "        self.level = level\n",
    "\n",
    "    def get_details(self):\n",
    "        return f\"Name: {self.name}, Grade: {self.grade}, Level: {self.level}\"\n",
    "\n",
    "class UGStudent(Student):\n",
    "    def __init__(self, name, grade, specialization):\n",
    "        super().__init__(name, grade)\n",
    "        self.specialization = specialization\n",
    "\n",
    "    def get_details(self):\n",
    "        return f\"Name: {self.name}, Grade: {self.grade}, Specialization: {self.specialization}\"\n",
    "\n",
    "# Function to display details (Polymorphism in action)\n",
    "def display_student_details(student):\n",
    "    print(student.get_details())"
   ]
  },
  {
   "cell_type": "code",
   "execution_count": null,
   "id": "a8fbb0b5-d98a-4464-8ccf-fa854eac75aa",
   "metadata": {
    "tags": []
   },
   "outputs": [],
   "source": [
    "# Example Usage\n",
    "if __name__ == \"__main__\":\n",
    "    student = Student(\"Ria\", \"A+\")\n",
    "    pg_student = PGStudent(\"Rob\", \"B+\", \"Post Graduate\")\n",
    "    ug_student = UGStudent(\"Ram\", \"O\", \"Chemical Engineering\")\n",
    "\n",
    "    # Polymorphism: The same function behaves differently for different objects\n",
    "    display_student_details(student)\n",
    "    display_student_details(pg_student)\n",
    "    display_student_details(ug_student)"
   ]
  },
  {
   "cell_type": "markdown",
   "id": "f432ea10-93d1-4dd7-bbb5-21cf9b75c0ea",
   "metadata": {},
   "source": [
    "### Method Overloading (Dynamic Handling of Arguments)\n",
    "\n",
    "Method overloading is a feature of object-oriented programming where a class can have multiple methods with the same name but different parameters. To overload method, we must change the number of parameters or the type of parameters, or both.\n",
    "\n",
    "Python does not support traditional method overloading like some other languages. However, you can achieve similar functionality by using default arguments or *args.\n",
    "\n"
   ]
  },
  {
   "cell_type": "code",
   "execution_count": null,
   "id": "50c6619b-4e15-47d0-87f1-b6c9f714acbf",
   "metadata": {
    "tags": []
   },
   "outputs": [],
   "source": [
    "## Example of method overloading \n",
    "class Calculator:\n",
    "    def add(self, *args):\n",
    "        return sum(args)\n",
    "\n",
    "calc = Calculator()\n",
    "print(calc.add(2, 3))          # Add two numbers\n",
    "print(calc.add(1, 2, 3, 4, 5))  # Add multiple numbers\n"
   ]
  },
  {
   "cell_type": "code",
   "execution_count": null,
   "id": "b02b11ff-047d-40fa-8e1c-4b351985b982",
   "metadata": {
    "tags": []
   },
   "outputs": [],
   "source": [
    "class Operations:\n",
    "    def add(self, a = None, b = None, c = None):\n",
    "        x=0\n",
    "        if a !=None and b != None and c != None:\n",
    "            x = a+b+c\n",
    "        elif a !=None and b != None and c == None:\n",
    "            x = a+b\n",
    "        return x\n",
    "\n",
    "obj = Operations()\n",
    "\n",
    "print (obj.add(10,20,30))\n",
    "print (obj.add(10,20))"
   ]
  },
  {
   "cell_type": "markdown",
   "id": "d946c219-c40f-4ad5-9a11-22202564437b",
   "metadata": {
    "tags": []
   },
   "source": [
    "## Operator Overloading\n",
    "Python allows you to redefine the behavior of operators for user-defined classes by overriding special methods (e.g., `__`add`__`, `__`mul`__`, `__`eq`__`, etc)."
   ]
  },
  {
   "cell_type": "code",
   "execution_count": null,
   "id": "dd15af38-b99b-468b-bc2f-27f7d4df18f1",
   "metadata": {
    "tags": []
   },
   "outputs": [],
   "source": [
    "## Example of Operator Overloading\n",
    "\n",
    "class Point2D:\n",
    "    def __init__(self, x, y):\n",
    "        self.x = x\n",
    "        self.y = y\n",
    "\n",
    "    def __add__(self, other):\n",
    "        return Point(self.x + other.x, self.y + other.y)\n",
    "\n",
    "    def __str__(self):\n",
    "        return f\"({self.x}, {self.y})\"\n",
    "\n",
    "p1 = Point2D(1, 2)\n",
    "p2 = Point2D(3, 4)\n",
    "p3 = p1 + p2  # Uses the overridden __add__ method\n",
    "\n",
    "print(p3)  # Output: (4, 6)\n"
   ]
  },
  {
   "cell_type": "code",
   "execution_count": 1,
   "id": "ad856b9b-9946-428c-856c-5a5a3b33d103",
   "metadata": {
    "tags": []
   },
   "outputs": [
    {
     "name": "stdout",
     "output_type": "stream",
     "text": [
      "Addition: 5/6\n",
      "Subtraction: 1/6\n",
      "Multiplication: 1/6\n",
      "Division: 3/2\n",
      "Equality Check: True\n"
     ]
    }
   ],
   "source": [
    "import math\n",
    "\n",
    "class Fraction:\n",
    "    def __init__(self, numerator, denominator):\n",
    "        if denominator == 0:\n",
    "            raise ValueError(\"Denominator cannot be zero\")\n",
    "        gcd = math.gcd(numerator, denominator)\n",
    "        self.numerator = numerator // gcd\n",
    "        self.denominator = denominator // gcd\n",
    "\n",
    "    def __add__(self, other):\n",
    "        \"\"\"\n",
    "        Overloads the + operator for fraction addition.\n",
    "        \"\"\"\n",
    "        new_numerator = self.numerator * other.denominator + other.numerator * self.denominator\n",
    "        new_denominator = self.denominator * other.denominator\n",
    "        return Fraction(new_numerator, new_denominator)\n",
    "\n",
    "    def __sub__(self, other):\n",
    "        \"\"\"\n",
    "        Overloads the - operator for fraction subtraction.\n",
    "        \"\"\"\n",
    "        new_numerator = self.numerator * other.denominator - other.numerator * self.denominator\n",
    "        new_denominator = self.denominator * other.denominator\n",
    "        return Fraction(new_numerator, new_denominator)\n",
    "\n",
    "    def __mul__(self, other):\n",
    "        \"\"\"\n",
    "        Overloads the * operator for fraction multiplication.\n",
    "        \"\"\"\n",
    "        new_numerator = self.numerator * other.numerator\n",
    "        new_denominator = self.denominator * other.denominator\n",
    "        return Fraction(new_numerator, new_denominator)\n",
    "\n",
    "    def __truediv__(self, other):\n",
    "        \"\"\"\n",
    "        Overloads the / operator for fraction division.\n",
    "        \"\"\"\n",
    "        if other.numerator == 0:\n",
    "            raise ZeroDivisionError(\"Cannot divide by a fraction with zero numerator\")\n",
    "        new_numerator = self.numerator * other.denominator\n",
    "        new_denominator = self.denominator * other.numerator\n",
    "        return Fraction(new_numerator, new_denominator)\n",
    "\n",
    "    def __eq__(self, other):\n",
    "        \"\"\"\n",
    "        Overloads the == operator to compare two fractions.\n",
    "        \"\"\"\n",
    "        return self.numerator == other.numerator and self.denominator == other.denominator\n",
    "\n",
    "    def __repr__(self):\n",
    "        \"\"\"\n",
    "        Returns a string representation of the fraction.\n",
    "        \"\"\"\n",
    "        return f\"{self.numerator}/{self.denominator}\"\n",
    "\n",
    "# Example Usage\n",
    "if __name__ == \"__main__\":\n",
    "    f1 = Fraction(1, 2)  # 1/2\n",
    "    f2 = Fraction(1, 3)  # 1/3\n",
    "\n",
    "    print(\"Addition:\", f1 + f2)     # (1/2 + 1/3) = 3/6 + 2/6 = 5/6\n",
    "    print(\"Subtraction:\", f1 - f2)  # (1/2 - 1/3) = 3/6 - 2/6 = 1/6\n",
    "    print(\"Multiplication:\", f1 * f2)  # (1/2 * 1/3) = 1/6\n",
    "    print(\"Division:\", f1 / f2)     # (1/2 ÷ 1/3) = (1/2) * (3/1) = 3/2\n",
    "    print(\"Equality Check:\", f1 == Fraction(2, 4))  # True (1/2 == 2/4 after simplification)"
   ]
  },
  {
   "cell_type": "markdown",
   "id": "41f5b8b5",
   "metadata": {},
   "source": [
    "**Python Class to solve Inital Value Problems using Euler's and RK methods**"
   ]
  },
  {
   "cell_type": "code",
   "execution_count": null,
   "id": "a5610348",
   "metadata": {
    "tags": []
   },
   "outputs": [],
   "source": [
    "class IVP:\n",
    "    def __init__(self):\n",
    "        pass\n",
    "    \n",
    "    ## Euder's Method \n",
    "    def Euler_Method(self,f, x0, y0, h, n):\n",
    "      x = [x0]\n",
    "      y = [y0]\n",
    "      for i in range(n):\n",
    "        y_final = y0 + f(x[i], y0) * h\n",
    "        x.append(x[i] + h)\n",
    "        y.append(y_final)\n",
    "        y0 = y_final\n",
    "      return  y\n",
    "\n",
    "    \n",
    "    ## Modified Euder's (Heun) Method \n",
    "    def Modified_Euler(self,f, x0, y0, h, n):\n",
    "        x = [x0]\n",
    "        y = [y0]\n",
    "        for i in range(n):\n",
    "            k1 = h * f(x[i], y[i])\n",
    "            k2 = h * f(x[i] + h, y[i] + k1)\n",
    "            y_final = y[i] + 0.5 * (k1 + k2)\n",
    "    \n",
    "            x.append(x[i] + h)\n",
    "            y.append(y_final)\n",
    "        return x, y\n",
    "    \n",
    "    ## RK 3  Method \n",
    "    def RK3(self,f, x0, y0, h, n):\n",
    "        x = [x0]\n",
    "        y = [y0]\n",
    "        for i in range(n):\n",
    "            k1=h*f(x[i], y[i])\n",
    "            k2=h*f(x[i]+2*h/3,y[i]+2*k1/3)\n",
    "            k3=h*f(x[i]+2*h/3,y[i]+2*k2/3)\n",
    "            y_final=y[i] + (2*k1 + 3*k2 + 3*k3) / 8\n",
    "            x.append(x[i] + h)\n",
    "            y.append(y_final)\n",
    "        return x, y\n",
    "        \n",
    "    ## RK 4  Method \n",
    "    def RK4(self,f,x0,y0,h,n):\n",
    "        x=[x0]\n",
    "        y=[y0]\n",
    "        for i in range(n):\n",
    "            k1=h*f(x[i],y[i])\n",
    "            k2=h*f(x[i]+h/2,y[i]+k1/2)\n",
    "            k3=h*f(x[i]+h/2,y[i]+k2/2)\n",
    "            k4=h*f(x[i]+h,y[i]+k3)\n",
    "            y_final=y[i]+1/6*(k1+2*k2+2*k3+k4)\n",
    "            x.append(x[i]+h)\n",
    "            y.append(y_final)\n",
    "        return x,y"
   ]
  },
  {
   "cell_type": "code",
   "execution_count": null,
   "id": "dcb1b5b7",
   "metadata": {
    "tags": []
   },
   "outputs": [],
   "source": [
    "ODE=IVP()\n",
    "import numpy as np\n",
    "\n",
    "def f(x, y):\n",
    "    return x**2 - np.sin(y)\n",
    "\n",
    "x0 = 0\n",
    "y0 = 0.5\n",
    "h = 0.2\n",
    "n = 5\n",
    "x, y = ODE.Modified_Euler(f, x0, y0, h, n)\n",
    "print(\"Modified Euler's method:\")\n",
    "print(\"x:\", x)\n",
    "print(\"y:\", y)\n"
   ]
  },
  {
   "cell_type": "code",
   "execution_count": null,
   "id": "d3f848c6",
   "metadata": {
    "tags": []
   },
   "outputs": [],
   "source": [
    "def f(x, y):\n",
    "    return x**2 - np.sin(y)\n",
    "\n",
    "x0 = 0\n",
    "y0 = 0.5\n",
    "h = 0.2\n",
    "n = 5\n",
    "y = ODE.Euler_Method(f, x0, y0, h, n)\n",
    "print(\"Euler's method:\")\n",
    "print(\"x:\", x)\n",
    "print(\"y:\", y)"
   ]
  },
  {
   "cell_type": "code",
   "execution_count": null,
   "id": "8998553f",
   "metadata": {
    "tags": []
   },
   "outputs": [],
   "source": [
    "# example for RK3 method\n",
    "def f(x, y):\n",
    "    return x**2 - np.sin(y)\n",
    "x0 = 0\n",
    "y0 = 0.5\n",
    "h = 0.2\n",
    "n = 5\n",
    "x, y = ODE.RK3(f, x0, y0, h, n)\n",
    "print(\"RK3 method:\")\n",
    "print(\"x:\",x)\n",
    "print(\"y:\",y)\n"
   ]
  },
  {
   "cell_type": "code",
   "execution_count": null,
   "id": "89c4f548",
   "metadata": {
    "tags": []
   },
   "outputs": [],
   "source": [
    "# example for RK4 method\n",
    "def f(x, y):\n",
    "    return x - y**2\n",
    "x0 = 1\n",
    "y0 = 2\n",
    "h = 0.1\n",
    "n = 5\n",
    "x, y = ODE.RK4(f, x0, y0, h, n)\n",
    "print(\"RK4 method:\")\n",
    "print(\"x:\",x)\n",
    "print(\"y:\",y)"
   ]
  },
  {
   "cell_type": "code",
   "execution_count": null,
   "id": "f6f8d9e5-b095-475c-8fc8-01b0defa0150",
   "metadata": {},
   "outputs": [],
   "source": []
  }
 ],
 "metadata": {
  "kernelspec": {
   "display_name": "Python 3 (ipykernel)",
   "language": "python",
   "name": "python3"
  },
  "language_info": {
   "codemirror_mode": {
    "name": "ipython",
    "version": 3
   },
   "file_extension": ".py",
   "mimetype": "text/x-python",
   "name": "python",
   "nbconvert_exporter": "python",
   "pygments_lexer": "ipython3",
   "version": "3.11.5"
  }
 },
 "nbformat": 4,
 "nbformat_minor": 5
}
