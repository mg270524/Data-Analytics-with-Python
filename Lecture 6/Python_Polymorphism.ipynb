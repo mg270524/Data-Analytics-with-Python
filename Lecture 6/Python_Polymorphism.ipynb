{
 "cells": [
  {
   "cell_type": "markdown",
   "id": "37c9eed6-0c32-4dde-906f-2b93cfc368fd",
   "metadata": {},
   "source": [
    "## Polymorphism\n",
    "\n",
    "Polymorphism in Python refers to the ability of objects to take on different forms depending on their context. It allows the same interface or method to behave differently for different classes or objects. Polymorphism promotes flexibility and reusability in code.\n",
    "\n",
    "Python achieves polymorphism in several ways:\n",
    "\n",
    "* **Method Overriding** (used in inheritance).\n",
    "* **Method Overloading** (Python supports it implicitly by handling arguments dynamically).\n",
    "* **Operator Overloading**.\n"
   ]
  },
  {
   "cell_type": "code",
   "execution_count": null,
   "id": "da7ef1aa-9756-431c-ab88-93ba4ae50dfa",
   "metadata": {
    "tags": []
   },
   "outputs": [],
   "source": [
    "## Example of method overriding\n",
    "class Animal:\n",
    "    def speak(self):\n",
    "        return \"This animal makes a sound.\"\n",
    "\n",
    "class Dog(Animal):\n",
    "    def speak(self):\n",
    "        return \"Woof!\"\n",
    "\n",
    "class Cat(Animal):\n",
    "    def speak(self):\n",
    "        return \"Meow!\"\n",
    "    \n",
    "# Each subclass (Dog and Cat) overrides the speak method of the Animal class.\n",
    "#The same method call (speak) behaves differently depending on the object type.\n",
    "\n",
    "# Polymorphism in action\n",
    "animals = [Dog(), Cat(), Animal()]\n",
    "\n",
    "for animal in animals:\n",
    "    print(animal.speak())"
   ]
  },
  {
   "cell_type": "code",
   "execution_count": null,
   "id": "0b9e6de1-74f6-4963-954d-ce879a36add7",
   "metadata": {
    "tags": []
   },
   "outputs": [],
   "source": [
    "## Another example for polymorphism\n",
    "class Student:\n",
    "    def __init__(self, name, grade):\n",
    "        self.name = name\n",
    "        self.grade = grade\n",
    "\n",
    "    def get_details(self):\n",
    "        return f\"Name: {self.name}, Grade: {self.grade}\"\n",
    "\n",
    "class PGStudent(Student):\n",
    "    def __init__(self, name, grade, level):\n",
    "        super().__init__(name, grade)\n",
    "        self.level = level\n",
    "\n",
    "    def get_details(self):\n",
    "        return f\"Name: {self.name}, Grade: {self.grade}, Level: {self.level}\"\n",
    "\n",
    "class UGStudent(Student):\n",
    "    def __init__(self, name, grade, specialization):\n",
    "        super().__init__(name, grade)\n",
    "        self.specialization = specialization\n",
    "\n",
    "    def get_details(self):\n",
    "        return f\"Name: {self.name}, Grade: {self.grade}, Specialization: {self.specialization}\"\n",
    "\n",
    "# Function to display details (Polymorphism in action)\n",
    "def display_student_details(student):\n",
    "    print(student.get_details())"
   ]
  },
  {
   "cell_type": "code",
   "execution_count": null,
   "id": "31e55b89-046b-4f8d-ae1f-ac427ef35fb1",
   "metadata": {
    "tags": []
   },
   "outputs": [],
   "source": [
    "# Example Usage\n",
    "if __name__ == \"__main__\":\n",
    "    student = Student(\"Ria\", \"A+\")\n",
    "    pg_student = PGStudent(\"Rob\", \"B+\", \"Post Graduate\")\n",
    "    ug_student = UGStudent(\"Ram\", \"O\", \"Chemical Engineering\")\n",
    "\n",
    "    # Polymorphism: The same function behaves differently for different objects\n",
    "    display_student_details(student)\n",
    "    display_student_details(pg_student)\n",
    "    display_student_details(ug_student)"
   ]
  },
  {
   "cell_type": "markdown",
   "id": "4ab907cf-6f80-4271-bad9-3e47698e7eea",
   "metadata": {},
   "source": [
    "### Method Overloading (Dynamic Handling of Arguments)\n",
    "\n",
    "Method overloading is a feature of object-oriented programming where a class can have multiple methods with the same name but different parameters. To overload method, we must change the number of parameters or the type of parameters, or both.\n",
    "\n",
    "Python does not support traditional method overloading like some other languages. However, you can achieve similar functionality by using default arguments or *args.\n",
    "\n"
   ]
  },
  {
   "cell_type": "code",
   "execution_count": 1,
   "id": "0e219fda-e5f9-4ba8-8069-d94e7d6cb60d",
   "metadata": {
    "tags": []
   },
   "outputs": [
    {
     "name": "stdout",
     "output_type": "stream",
     "text": [
      "60\n",
      "30\n"
     ]
    }
   ],
   "source": [
    "class Operations:\n",
    "    def add(self, a = None, b = None, c = None):\n",
    "        x=0\n",
    "        if a !=None and b != None and c != None:\n",
    "            x = a+b+c\n",
    "        elif a !=None and b != None and c == None:\n",
    "            x = a+b\n",
    "        return x\n",
    "\n",
    "obj = Operations()\n",
    "\n",
    "print (obj.add(10,20,30))\n",
    "print (obj.add(10,20))"
   ]
  },
  {
   "cell_type": "code",
   "execution_count": 2,
   "id": "0b8ae555-019f-43d3-97c1-d27a90bd50c0",
   "metadata": {
    "tags": []
   },
   "outputs": [
    {
     "name": "stdout",
     "output_type": "stream",
     "text": [
      "5\n",
      "15\n"
     ]
    }
   ],
   "source": [
    "## Example of method overloading \n",
    "class Calculator:\n",
    "    def add(self, *args):\n",
    "        return sum(args)\n",
    "\n",
    "calc = Calculator()\n",
    "print(calc.add(2, 3))          # Add two numbers\n",
    "print(calc.add(1, 2, 3, 4, 5))  # Add multiple numbers"
   ]
  },
  {
   "cell_type": "markdown",
   "id": "07436516-08e3-40b8-b2b9-9fb8d87cdf79",
   "metadata": {
    "tags": []
   },
   "source": [
    "## Operator Overloading\n",
    "Python allows you to redefine the behavior of operators for user-defined classes by overriding special methods (e.g., `__`add`__`, `__`mul`__`, `__`eq`__`, etc)."
   ]
  },
  {
   "cell_type": "code",
   "execution_count": 5,
   "id": "cef3f8ba-d4b7-4746-9ce9-cc30280ab175",
   "metadata": {
    "tags": []
   },
   "outputs": [],
   "source": [
    "## Example of Operator Overloading\n",
    "class Point2D:\n",
    "    def __init__(self, x, y):\n",
    "        self.x = x\n",
    "        self.y = y\n",
    "\n",
    "    def __add__(self, other):\n",
    "        return Point2D(self.x + other.x, self.y + other.y)\n",
    "\n",
    "    def __str__(self):\n",
    "        return f\"({self.x}, {self.y})\""
   ]
  },
  {
   "cell_type": "code",
   "execution_count": 6,
   "id": "6de33308-c858-4546-bc86-cd8e0968b560",
   "metadata": {
    "tags": []
   },
   "outputs": [
    {
     "name": "stdout",
     "output_type": "stream",
     "text": [
      "(4, 6)\n"
     ]
    }
   ],
   "source": [
    "p1 = Point2D(1, 2)\n",
    "p2 = Point2D(3, 4)\n",
    "p3 = p1 + p2  # Uses the overridden __add__ method\n",
    "\n",
    "print(p3)  # Output: (4, 6)"
   ]
  },
  {
   "cell_type": "code",
   "execution_count": 7,
   "id": "50fd2613-f6af-405b-99d9-559350312df0",
   "metadata": {
    "tags": []
   },
   "outputs": [
    {
     "name": "stdout",
     "output_type": "stream",
     "text": [
      "Addition: 5/6\n",
      "Subtraction: 1/6\n",
      "Multiplication: 1/6\n",
      "Division: 3/2\n",
      "Equality Check: True\n"
     ]
    }
   ],
   "source": [
    "import math\n",
    "\n",
    "class Fraction:\n",
    "    def __init__(self, numerator, denominator):\n",
    "        if denominator == 0:\n",
    "            raise ValueError(\"Denominator cannot be zero\")\n",
    "        gcd = math.gcd(numerator, denominator)\n",
    "        self.numerator = numerator // gcd\n",
    "        self.denominator = denominator // gcd\n",
    "\n",
    "    def __add__(self, other):\n",
    "        \"\"\"\n",
    "        Overloads the + operator for fraction addition.\n",
    "        \"\"\"\n",
    "        new_numerator = self.numerator * other.denominator + other.numerator * self.denominator\n",
    "        new_denominator = self.denominator * other.denominator\n",
    "        return Fraction(new_numerator, new_denominator)\n",
    "\n",
    "    def __sub__(self, other):\n",
    "        \"\"\"\n",
    "        Overloads the - operator for fraction subtraction.\n",
    "        \"\"\"\n",
    "        new_numerator = self.numerator * other.denominator - other.numerator * self.denominator\n",
    "        new_denominator = self.denominator * other.denominator\n",
    "        return Fraction(new_numerator, new_denominator)\n",
    "\n",
    "    def __mul__(self, other):\n",
    "        \"\"\"\n",
    "        Overloads the * operator for fraction multiplication.\n",
    "        \"\"\"\n",
    "        new_numerator = self.numerator * other.numerator\n",
    "        new_denominator = self.denominator * other.denominator\n",
    "        return Fraction(new_numerator, new_denominator)\n",
    "\n",
    "    def __truediv__(self, other):\n",
    "        \"\"\"\n",
    "        Overloads the / operator for fraction division.\n",
    "        \"\"\"\n",
    "        if other.numerator == 0:\n",
    "            raise ZeroDivisionError(\"Cannot divide by a fraction with zero numerator\")\n",
    "        new_numerator = self.numerator * other.denominator\n",
    "        new_denominator = self.denominator * other.numerator\n",
    "        return Fraction(new_numerator, new_denominator)\n",
    "\n",
    "    def __eq__(self, other):\n",
    "        \"\"\"\n",
    "        Overloads the == operator to compare two fractions.\n",
    "        \"\"\"\n",
    "        return self.numerator == other.numerator and self.denominator == other.denominator\n",
    "\n",
    "    def __repr__(self):\n",
    "        \"\"\"\n",
    "        Returns a string representation of the fraction.\n",
    "        \"\"\"\n",
    "        return f\"{self.numerator}/{self.denominator}\"\n",
    "\n",
    "# Example Usage\n",
    "if __name__ == \"__main__\":\n",
    "    f1 = Fraction(1, 2)  # 1/2\n",
    "    f2 = Fraction(1, 3)  # 1/3\n",
    "\n",
    "    print(\"Addition:\", f1 + f2)     # (1/2 + 1/3) = 3/6 + 2/6 = 5/6\n",
    "    print(\"Subtraction:\", f1 - f2)  # (1/2 - 1/3) = 3/6 - 2/6 = 1/6\n",
    "    print(\"Multiplication:\", f1 * f2)  # (1/2 * 1/3) = 1/6\n",
    "    print(\"Division:\", f1 / f2)     # (1/2 ÷ 1/3) = (1/2) * (3/1) = 3/2\n",
    "    print(\"Equality Check:\", f1 == Fraction(2, 4))  # True (1/2 == 2/4 after simplification)"
   ]
  }
 ],
 "metadata": {
  "kernelspec": {
   "display_name": "Python 3 (ipykernel)",
   "language": "python",
   "name": "python3"
  },
  "language_info": {
   "codemirror_mode": {
    "name": "ipython",
    "version": 3
   },
   "file_extension": ".py",
   "mimetype": "text/x-python",
   "name": "python",
   "nbconvert_exporter": "python",
   "pygments_lexer": "ipython3",
   "version": "3.11.5"
  }
 },
 "nbformat": 4,
 "nbformat_minor": 5
}
