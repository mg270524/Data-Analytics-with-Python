{
 "cells": [
  {
   "cell_type": "markdown",
   "id": "d849c256-c16b-4484-9915-25dea8cac988",
   "metadata": {},
   "source": [
    "## Homework\n",
    "### Migration problem cycle stands\n",
    "### define a 6*6 matrix such that each column sum is 1\n",
    "### define another matrix 1*6 with total 50000"
   ]
  },
  {
   "cell_type": "code",
   "execution_count": 5,
   "id": "6bebf0e5-a922-47fe-aa81-8edaf0a7adb3",
   "metadata": {},
   "outputs": [],
   "source": [
    "import sympy as sp"
   ]
  },
  {
   "cell_type": "code",
   "execution_count": 6,
   "id": "0c50c3a3-dcd2-46c1-80ff-29aff88c93a1",
   "metadata": {},
   "outputs": [],
   "source": [
    "A = sp.Matrix([[0.3,0.1,0.15,0.2,0.25,0.15],[0.1,0.2,0.15,0.25,0.35,0.05],[0.15,0.05,0.2,0.05,0.1,0.2],[0.1,0.3,0.25,0.1,0.2,0.15],[0.2,0.3,0.1,0.25,0.05,0.2],[0.15,0.05,0.15,0.15,0.05,0.25]])\n",
    "B = sp.Matrix([10000,4000,6000,7500,7500,15000])"
   ]
  },
  {
   "cell_type": "code",
   "execution_count": 7,
   "id": "74eeba08-5b76-4af9-9e39-cb15d4fb120a",
   "metadata": {},
   "outputs": [
    {
     "data": {
      "text/latex": [
       "$\\displaystyle \\left[\\begin{matrix}0.3 & 0.1 & 0.15 & 0.2 & 0.25 & 0.15\\\\0.1 & 0.2 & 0.15 & 0.25 & 0.35 & 0.05\\\\0.15 & 0.05 & 0.2 & 0.05 & 0.1 & 0.2\\\\0.1 & 0.3 & 0.25 & 0.1 & 0.2 & 0.15\\\\0.2 & 0.3 & 0.1 & 0.25 & 0.05 & 0.2\\\\0.15 & 0.05 & 0.15 & 0.15 & 0.05 & 0.25\\end{matrix}\\right]$"
      ],
      "text/plain": [
       "Matrix([\n",
       "[ 0.3,  0.1, 0.15,  0.2, 0.25, 0.15],\n",
       "[ 0.1,  0.2, 0.15, 0.25, 0.35, 0.05],\n",
       "[0.15, 0.05,  0.2, 0.05,  0.1,  0.2],\n",
       "[ 0.1,  0.3, 0.25,  0.1,  0.2, 0.15],\n",
       "[ 0.2,  0.3,  0.1, 0.25, 0.05,  0.2],\n",
       "[0.15, 0.05, 0.15, 0.15, 0.05, 0.25]])"
      ]
     },
     "execution_count": 7,
     "metadata": {},
     "output_type": "execute_result"
    }
   ],
   "source": [
    "A"
   ]
  },
  {
   "cell_type": "code",
   "execution_count": 8,
   "id": "674fe004-01ef-4ae8-883a-0991ec0dad9d",
   "metadata": {},
   "outputs": [
    {
     "data": {
      "text/latex": [
       "$\\displaystyle \\left[\\begin{matrix}10000\\\\4000\\\\6000\\\\7500\\\\7500\\\\15000\\end{matrix}\\right]$"
      ],
      "text/plain": [
       "Matrix([\n",
       "[10000],\n",
       "[ 4000],\n",
       "[ 6000],\n",
       "[ 7500],\n",
       "[ 7500],\n",
       "[15000]])"
      ]
     },
     "execution_count": 8,
     "metadata": {},
     "output_type": "execute_result"
    }
   ],
   "source": [
    "B"
   ]
  },
  {
   "cell_type": "code",
   "execution_count": 9,
   "id": "01ed29b2-1f51-43c6-9d75-a2ed28aeebd6",
   "metadata": {},
   "outputs": [],
   "source": [
    "def problem(n):\n",
    "    P, D = A.diagonalize()\n",
    "    D_n = D**n\n",
    "    A_power_n = P * D_n * P.inv()\n",
    "    A_power_n*B\n",
    "    return A_power_n*B"
   ]
  },
  {
   "cell_type": "code",
   "execution_count": 10,
   "id": "76194737-229f-4957-81ff-04559705cafb",
   "metadata": {},
   "outputs": [
    {
     "data": {
      "text/latex": [
       "$\\displaystyle \\left[\\begin{matrix}9925.0\\\\7950.0\\\\7025.0\\\\8200.0\\\\9050.0\\\\7850.0\\end{matrix}\\right]$"
      ],
      "text/plain": [
       "Matrix([\n",
       "[9925.0],\n",
       "[7950.0],\n",
       "[7025.0],\n",
       "[8200.0],\n",
       "[9050.0],\n",
       "[7850.0]])"
      ]
     },
     "execution_count": 10,
     "metadata": {},
     "output_type": "execute_result"
    }
   ],
   "source": [
    "problem(1)"
   ]
  },
  {
   "cell_type": "code",
   "execution_count": 11,
   "id": "fdf60681-d57b-403b-8c52-35d55529fd95",
   "metadata": {},
   "outputs": [
    {
     "data": {
      "text/latex": [
       "$\\displaystyle \\left[\\begin{matrix}9896.92021389917\\\\9657.22283499219\\\\5756.49549087192\\\\9048.37859674897\\\\9428.25016449546\\\\6212.73269899228\\end{matrix}\\right]$"
      ],
      "text/plain": [
       "Matrix([\n",
       "[9896.92021389917],\n",
       "[9657.22283499219],\n",
       "[5756.49549087192],\n",
       "[9048.37859674897],\n",
       "[9428.25016449546],\n",
       "[6212.73269899228]])"
      ]
     },
     "execution_count": 11,
     "metadata": {},
     "output_type": "execute_result"
    }
   ],
   "source": [
    "problem(10)"
   ]
  },
  {
   "cell_type": "code",
   "execution_count": 12,
   "id": "8e98f4e4-b79d-42f4-a2d2-29cf5ffbb69c",
   "metadata": {},
   "outputs": [
    {
     "data": {
      "text/latex": [
       "$\\displaystyle \\left[\\begin{matrix}9896.92114531065\\\\9657.23238985589\\\\5756.48637633299\\\\9048.38114916239\\\\9428.25535548731\\\\6212.72358385075\\end{matrix}\\right]$"
      ],
      "text/plain": [
       "Matrix([\n",
       "[9896.92114531065],\n",
       "[9657.23238985589],\n",
       "[5756.48637633299],\n",
       "[9048.38114916239],\n",
       "[9428.25535548731],\n",
       "[6212.72358385075]])"
      ]
     },
     "execution_count": 12,
     "metadata": {},
     "output_type": "execute_result"
    }
   ],
   "source": [
    "problem(100)"
   ]
  },
  {
   "cell_type": "code",
   "execution_count": 13,
   "id": "644f64ad-28ce-4a9a-8562-664256771cf0",
   "metadata": {},
   "outputs": [
    {
     "data": {
      "text/latex": [
       "$\\displaystyle \\left[\\begin{matrix}9896.92114531065\\\\9657.23238985589\\\\5756.48637633299\\\\9048.38114916239\\\\9428.25535548731\\\\6212.72358385075\\end{matrix}\\right]$"
      ],
      "text/plain": [
       "Matrix([\n",
       "[9896.92114531065],\n",
       "[9657.23238985589],\n",
       "[5756.48637633299],\n",
       "[9048.38114916239],\n",
       "[9428.25535548731],\n",
       "[6212.72358385075]])"
      ]
     },
     "execution_count": 13,
     "metadata": {},
     "output_type": "execute_result"
    }
   ],
   "source": [
    "problem(1000)"
   ]
  },
  {
   "cell_type": "code",
   "execution_count": 14,
   "id": "c92a1349-d154-4cf8-849b-3919685a7f96",
   "metadata": {},
   "outputs": [
    {
     "data": {
      "text/latex": [
       "$\\displaystyle \\left[\\begin{matrix}9896.92114531065\\\\9657.23238985589\\\\5756.48637633299\\\\9048.38114916239\\\\9428.25535548731\\\\6212.72358385075\\end{matrix}\\right]$"
      ],
      "text/plain": [
       "Matrix([\n",
       "[9896.92114531065],\n",
       "[9657.23238985589],\n",
       "[5756.48637633299],\n",
       "[9048.38114916239],\n",
       "[9428.25535548731],\n",
       "[6212.72358385075]])"
      ]
     },
     "execution_count": 14,
     "metadata": {},
     "output_type": "execute_result"
    }
   ],
   "source": [
    "problem(1000)"
   ]
  },
  {
   "cell_type": "code",
   "execution_count": 15,
   "id": "1af853db-7613-404b-b08b-7d760e3cb56b",
   "metadata": {},
   "outputs": [
    {
     "data": {
      "text/latex": [
       "$\\displaystyle \\left[\\begin{matrix}9896.92114531065\\\\9657.23238985589\\\\5756.48637633299\\\\9048.38114916239\\\\9428.25535548731\\\\6212.72358385075\\end{matrix}\\right]$"
      ],
      "text/plain": [
       "Matrix([\n",
       "[9896.92114531065],\n",
       "[9657.23238985589],\n",
       "[5756.48637633299],\n",
       "[9048.38114916239],\n",
       "[9428.25535548731],\n",
       "[6212.72358385075]])"
      ]
     },
     "execution_count": 15,
     "metadata": {},
     "output_type": "execute_result"
    }
   ],
   "source": [
    "problem(90)"
   ]
  },
  {
   "cell_type": "code",
   "execution_count": 20,
   "id": "0b68007e-23c4-42bc-aa18-aa8490c2396a",
   "metadata": {},
   "outputs": [],
   "source": [
    "import numpy as np\n"
   ]
  },
  {
   "cell_type": "code",
   "execution_count": 21,
   "id": "0d921d41-b183-499e-92a4-5df8f7115da7",
   "metadata": {},
   "outputs": [],
   "source": [
    "P = np.array([[0.3,0.1,0.15,0.2,0.25,0.15],[0.1,0.2,0.15,0.25,0.35,0.05],[0.15,0.05,0.2,0.05,0.1,0.2],[0.1,0.3,0.25,0.1,0.2,0.15],[0.2,0.3,0.1,0.25,0.05,0.2],[0.15,0.05,0.15,0.15,0.05,0.25]])\n",
    "X = np.array([10000,4000,6000,7500,7500,15000])"
   ]
  },
  {
   "cell_type": "code",
   "execution_count": 26,
   "id": "9fd26c98-bc90-435c-b211-1e3e137dd015",
   "metadata": {},
   "outputs": [
    {
     "name": "stdout",
     "output_type": "stream",
     "text": [
      "[9896.92114531 9657.23238986 5756.48637633 9048.38114916 9428.25535549\n",
      " 6212.72358385]\n"
     ]
    }
   ],
   "source": [
    "print (np.linalg.matrix_power(P,200)@X)"
   ]
  },
  {
   "cell_type": "code",
   "execution_count": 27,
   "id": "133db690-6ea3-4f39-a419-bad5191ae2bb",
   "metadata": {},
   "outputs": [
    {
     "name": "stdout",
     "output_type": "stream",
     "text": [
      "[9896.92114531 9657.23238986 5756.48637633 9048.38114916 9428.25535549\n",
      " 6212.72358385]\n"
     ]
    }
   ],
   "source": [
    "print (np.linalg.matrix_power(P,20000)@X)"
   ]
  },
  {
   "cell_type": "code",
   "execution_count": 29,
   "id": "e095c688-0ceb-4558-b0d9-9568263674d2",
   "metadata": {},
   "outputs": [
    {
     "name": "stdout",
     "output_type": "stream",
     "text": [
      "[[0.19793842 0.19793842 0.19793842 0.19793842 0.19793842 0.19793842]\n",
      " [0.19314465 0.19314465 0.19314465 0.19314465 0.19314465 0.19314465]\n",
      " [0.11512973 0.11512973 0.11512973 0.11512973 0.11512973 0.11512973]\n",
      " [0.18096762 0.18096762 0.18096762 0.18096762 0.18096762 0.18096762]\n",
      " [0.18856511 0.18856511 0.18856511 0.18856511 0.18856511 0.18856511]\n",
      " [0.12425447 0.12425447 0.12425447 0.12425447 0.12425447 0.12425447]]\n"
     ]
    }
   ],
   "source": [
    "print (np.linalg.matrix_power(P,200))"
   ]
  },
  {
   "cell_type": "code",
   "execution_count": 30,
   "id": "d48996d1-2b60-4906-86c2-84e4d48ce55a",
   "metadata": {},
   "outputs": [
    {
     "name": "stdout",
     "output_type": "stream",
     "text": [
      "[[0.19793842 0.19793842 0.19793842 0.19793842 0.19793842 0.19793842]\n",
      " [0.19314465 0.19314465 0.19314465 0.19314465 0.19314465 0.19314465]\n",
      " [0.11512973 0.11512973 0.11512973 0.11512973 0.11512973 0.11512973]\n",
      " [0.18096762 0.18096762 0.18096762 0.18096762 0.18096762 0.18096762]\n",
      " [0.18856511 0.18856511 0.18856511 0.18856511 0.18856511 0.18856511]\n",
      " [0.12425447 0.12425447 0.12425447 0.12425447 0.12425447 0.12425447]]\n"
     ]
    }
   ],
   "source": [
    "print (np.linalg.matrix_power(P,20000))"
   ]
  },
  {
   "cell_type": "code",
   "execution_count": null,
   "id": "f5a6da3b-e1dd-4eb8-a343-f495c21a8c28",
   "metadata": {},
   "outputs": [],
   "source": []
  }
 ],
 "metadata": {
  "kernelspec": {
   "display_name": "Python 3 (ipykernel)",
   "language": "python",
   "name": "python3"
  },
  "language_info": {
   "codemirror_mode": {
    "name": "ipython",
    "version": 3
   },
   "file_extension": ".py",
   "mimetype": "text/x-python",
   "name": "python",
   "nbconvert_exporter": "python",
   "pygments_lexer": "ipython3",
   "version": "3.12.7"
  }
 },
 "nbformat": 4,
 "nbformat_minor": 5
}
