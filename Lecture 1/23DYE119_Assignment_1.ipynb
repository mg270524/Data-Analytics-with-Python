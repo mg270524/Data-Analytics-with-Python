{
 "cells": [
  {
   "cell_type": "markdown",
   "id": "fb974d7d-e80c-44da-aef1-a4910b2155da",
   "metadata": {},
   "source": [
    "# 1. User defined functions"
   ]
  },
  {
   "cell_type": "code",
   "execution_count": 1,
   "id": "e85e1f3f-d891-436a-8e4f-2caa0a8419db",
   "metadata": {},
   "outputs": [],
   "source": [
    "import math"
   ]
  },
  {
   "cell_type": "markdown",
   "id": "facf5458-1ecd-46cd-a492-101ea41fc0e1",
   "metadata": {},
   "source": [
    "## Surface area of a sphere"
   ]
  },
  {
   "cell_type": "code",
   "execution_count": 2,
   "id": "1a184922-7e03-4d72-a051-924cb7fce35d",
   "metadata": {},
   "outputs": [],
   "source": [
    "def Area(r):\n",
    "    a=4*(math.pi)*((r)**2)\n",
    "    return a"
   ]
  },
  {
   "cell_type": "code",
   "execution_count": 4,
   "id": "f3e42d70-2ebf-4561-8409-6f6c31ff3e8b",
   "metadata": {},
   "outputs": [
    {
     "data": {
      "text/plain": [
       "23235.21926595011"
      ]
     },
     "execution_count": 4,
     "metadata": {},
     "output_type": "execute_result"
    }
   ],
   "source": [
    "Area(43)"
   ]
  },
  {
   "cell_type": "markdown",
   "id": "a44e4d93-aa49-4a85-8925-7f2eae3d69e5",
   "metadata": {},
   "source": [
    "## Ideal Gas Law"
   ]
  },
  {
   "cell_type": "code",
   "execution_count": 8,
   "id": "ff54efb7-237d-4116-9be8-e3bd4ed99c67",
   "metadata": {},
   "outputs": [],
   "source": [
    "def pressure(n,r,t,v):\n",
    "    p=(n*r*t)/v\n",
    "    return p"
   ]
  },
  {
   "cell_type": "code",
   "execution_count": 9,
   "id": "3490299e-ee15-4fbf-9ab1-1d307553ff91",
   "metadata": {},
   "outputs": [
    {
     "data": {
      "text/plain": [
       "3.0"
      ]
     },
     "execution_count": 9,
     "metadata": {},
     "output_type": "execute_result"
    }
   ],
   "source": [
    "pressure(2,3,4,8)"
   ]
  },
  {
   "cell_type": "markdown",
   "id": "120ff28a-efac-45df-9c3a-34de72c7ab13",
   "metadata": {},
   "source": [
    "## Kinetic Energy"
   ]
  },
  {
   "cell_type": "code",
   "execution_count": 10,
   "id": "c9b85d4e-4604-4f32-ac37-48dd301b37c5",
   "metadata": {},
   "outputs": [],
   "source": [
    "def ke(m,v):\n",
    "    e=(0.5)*(m*(v**2))\n",
    "    return e"
   ]
  },
  {
   "cell_type": "code",
   "execution_count": 12,
   "id": "b1c65366-4c5b-4945-941d-26400bb5d8c5",
   "metadata": {},
   "outputs": [
    {
     "data": {
      "text/plain": [
       "156679616.0"
      ]
     },
     "execution_count": 12,
     "metadata": {},
     "output_type": "execute_result"
    }
   ],
   "source": [
    "ke(67768,68)"
   ]
  },
  {
   "cell_type": "markdown",
   "id": "0ea67911-2f17-49a8-bbe0-9d2ad1c05a34",
   "metadata": {},
   "source": [
    "## Heron's formula"
   ]
  },
  {
   "cell_type": "code",
   "execution_count": 20,
   "id": "6d499d5a-b276-480b-93b1-e51aeff3ad42",
   "metadata": {},
   "outputs": [],
   "source": [
    "from math import sqrt\n",
    "def Heron(a,b,c):\n",
    "    s=(a+b+c)/2\n",
    "    A=sqrt(s*(s-a)*(s-b)*(s-c))\n",
    "    return A\n",
    "\n"
   ]
  },
  {
   "cell_type": "code",
   "execution_count": 23,
   "id": "f3ae4e37-0fc3-4384-b4a9-26a6051b0fbe",
   "metadata": {},
   "outputs": [
    {
     "data": {
      "text/plain": [
       "2539.661579325088"
      ]
     },
     "execution_count": 23,
     "metadata": {},
     "output_type": "execute_result"
    }
   ],
   "source": [
    "Heron(76,72,83)"
   ]
  },
  {
   "cell_type": "markdown",
   "id": "0ece93c0-7114-4141-a8ee-0b5cccc4d48d",
   "metadata": {},
   "source": [
    "## Amount of Na2SO3"
   ]
  },
  {
   "cell_type": "code",
   "execution_count": 24,
   "id": "11e8083b-3254-42a2-add1-3229a99e35fb",
   "metadata": {},
   "outputs": [],
   "source": [
    "def na2so3(k,r,s):\n",
    "    n=((k-r)*0.1)/s # n is the normality of the give stock solution)\n",
    "    a=(n*s*63)/1000 # a is the amount of na2so3 present in grams in the stock solution\n",
    "    c=(a)*s*(1000/s) # c is the concentration of na2so3 in the stock solution in grams/litre.\n",
    "    return (f'THe concentration of Na2SO3 in the final solution is {c} grams/litre ')"
   ]
  },
  {
   "cell_type": "code",
   "execution_count": 25,
   "id": "cbc47edc-d85b-4019-90e6-d9864bb52bc1",
   "metadata": {},
   "outputs": [
    {
     "data": {
      "text/plain": [
       "'THe concentration of Na2SO3 in the final solution is 197.82000000000005 grams/litre '"
      ]
     },
     "execution_count": 25,
     "metadata": {},
     "output_type": "execute_result"
    }
   ],
   "source": [
    "na2so3(50,18.6,25)\n"
   ]
  },
  {
   "cell_type": "markdown",
   "id": "e73a317b-29be-47cd-ace0-a5d2c56caf56",
   "metadata": {},
   "source": [
    "## Amount of Na2S"
   ]
  },
  {
   "cell_type": "markdown",
   "id": "54cb45d0-350e-4312-b7e8-dbc6bed7aa94",
   "metadata": {},
   "source": [
    "### Industrial sample of Na2S contains NaOH and NaHS along with Na2S\n",
    "### Two titrations are done using Na2S2O7, one on stock solution and other after adding ZnSO4\n",
    "### A third titration is done using H2SO4 and two readings are taken one on stock solution and other after adding formaldehyde."
   ]
  },
  {
   "cell_type": "code",
   "execution_count": 54,
   "id": "1d821f08-cdb5-4b1b-b6ae-c38b41e598c8",
   "metadata": {},
   "outputs": [],
   "source": [
    "def na2s(a,b,c1,c2):\n",
    "    x=(((a-b)*0.1*120)/1000)*10*20\n",
    "    y=((b*0.1*(56/2))/1000)*10*20\n",
    "    z=(((((((y/(56*2))*1000)/0.5)+(((c1-(c2-c1))*5*20)))*40)*0.1))/1000\n",
    "    return (f'The amount of Na2S is {x} grams/litre',\n",
    "              f'The amount of NaHS is {y} grams/litre',\n",
    "              f'The amount of NaOH is {z:.2f} grams/litre')\n",
    "    \n",
    "    "
   ]
  },
  {
   "cell_type": "code",
   "execution_count": 55,
   "id": "3a97c8cc-acd8-431c-a378-fbe94938659a",
   "metadata": {},
   "outputs": [
    {
     "data": {
      "text/plain": [
       "('The amount of Na2S is 42.84 grams/litre',\n",
       " 'The amount of NaHS is 0.14 grams/litre',\n",
       " 'The amount of NaOH is 0.77 grams/litre')"
      ]
     },
     "execution_count": 55,
     "metadata": {},
     "output_type": "execute_result"
    }
   ],
   "source": [
    "na2s(18.1,0.25,10,18.1)"
   ]
  },
  {
   "cell_type": "markdown",
   "id": "c2cf9579-6434-4584-9c4b-ac6813b5e513",
   "metadata": {},
   "source": [
    "# 2. F string printing"
   ]
  },
  {
   "cell_type": "code",
   "execution_count": 2,
   "id": "ec539599-c193-4030-87cc-7ee26f078e0c",
   "metadata": {},
   "outputs": [
    {
     "name": "stdout",
     "output_type": "stream",
     "text": [
      "rounded to 2 places 5.47\n"
     ]
    }
   ],
   "source": [
    "a=5.46824\n",
    "print (f'rounded to 2 places {a:.2f}')"
   ]
  },
  {
   "cell_type": "code",
   "execution_count": 67,
   "id": "07e06923-a137-429d-bc83-0efe3631df70",
   "metadata": {},
   "outputs": [
    {
     "name": "stdout",
     "output_type": "stream",
     "text": [
      "adding 0 for constant number of digits to 6 000758\n"
     ]
    }
   ],
   "source": [
    "b=758\n",
    "print (f'adding 0 for constant number of digits to 6 {b:06}')"
   ]
  },
  {
   "cell_type": "code",
   "execution_count": 69,
   "id": "6616cc0a-738f-4f70-bf52-5d925f0675c6",
   "metadata": {},
   "outputs": [
    {
     "name": "stdout",
     "output_type": "stream",
     "text": [
      "for writing as percentage 68%\n"
     ]
    }
   ],
   "source": [
    "c=0.68\n",
    "print (f'for writing as percentage {c:.0%}')"
   ]
  },
  {
   "cell_type": "code",
   "execution_count": 73,
   "id": "2882d50e-b360-4bf5-9d96-d3dcef7f90f5",
   "metadata": {},
   "outputs": [
    {
     "name": "stdout",
     "output_type": "stream",
     "text": [
      "align left \"hi    hello\"\n"
     ]
    }
   ],
   "source": [
    "text = \"hi\"\n",
    "print (f'align left \"{text:<5} hello\"')"
   ]
  },
  {
   "cell_type": "code",
   "execution_count": 72,
   "id": "7b957fa5-b84d-430a-8e4f-15cc0e843b32",
   "metadata": {},
   "outputs": [
    {
     "name": "stdout",
     "output_type": "stream",
     "text": [
      "align centre \" hi   hello\"\n"
     ]
    }
   ],
   "source": [
    "text = \"hi\"\n",
    "print (f'align centre \"{text:^5} hello\"')"
   ]
  },
  {
   "cell_type": "code",
   "execution_count": 74,
   "id": "c942b7c0-85db-499f-9c53-27afdf51b19b",
   "metadata": {},
   "outputs": [
    {
     "name": "stdout",
     "output_type": "stream",
     "text": [
      "align right \"   hi hello\"\n"
     ]
    }
   ],
   "source": [
    "text = \"hi\"\n",
    "print (f'align right \"{text:>5} hello\"')"
   ]
  },
  {
   "cell_type": "code",
   "execution_count": 79,
   "id": "57699f0f-96a1-4d0f-93fd-270efaebae67",
   "metadata": {},
   "outputs": [
    {
     "name": "stdout",
     "output_type": "stream",
     "text": [
      "Formatted value: 12.3446\n"
     ]
    }
   ],
   "source": [
    "\n",
    "value = 12.344634\n",
    "precision = 4\n",
    "print(f\"Formatted value: {value:.{precision}f}\")"
   ]
  },
  {
   "cell_type": "code",
   "execution_count": 80,
   "id": "9d7d1e34-6470-4c2e-9b18-b65fe3393e4e",
   "metadata": {},
   "outputs": [
    {
     "name": "stdout",
     "output_type": "stream",
     "text": [
      "Current date: 2024-12-11\n",
      "Current time: 22:29:52\n"
     ]
    }
   ],
   "source": [
    "from datetime import datetime\n",
    "now = datetime.now()\n",
    "print(f\"Current date: {now:%Y-%m-%d}\")\n",
    "print(f\"Current time: {now:%H:%M:%S}\")"
   ]
  },
  {
   "cell_type": "code",
   "execution_count": 83,
   "id": "75cfa8b0-d0d0-447d-ad31-ee9e9b434098",
   "metadata": {},
   "outputs": [
    {
     "name": "stdout",
     "output_type": "stream",
     "text": [
      "Name: Atharva, Marks: 16\n"
     ]
    }
   ],
   "source": [
    "data = {\"name\": \"Atharva\", \"marks\": 16}\n",
    "print(f\"Name: {data['name']}, Marks: {data['marks']}\")"
   ]
  },
  {
   "cell_type": "code",
   "execution_count": 84,
   "id": "6b1f8b42-9e1b-4964-9212-ea889e6807e4",
   "metadata": {},
   "outputs": [
    {
     "name": "stdout",
     "output_type": "stream",
     "text": [
      "Sum of 5 and 3 is 8\n"
     ]
    }
   ],
   "source": [
    "a = 5\n",
    "b = 3\n",
    "print(f\"Sum of {a} and {b} is {a + b}\")"
   ]
  },
  {
   "cell_type": "markdown",
   "id": "b0640d36-60cd-4446-83a5-562b2bb00b10",
   "metadata": {},
   "source": [
    "# 3. List Options\n"
   ]
  },
  {
   "cell_type": "code",
   "execution_count": 100,
   "id": "070d9ba5-a57f-4a04-9eab-31dc65f5c19b",
   "metadata": {},
   "outputs": [],
   "source": [
    "L =[1,2,3,4,5,6,7,8,9,10,11,12,13,14,15,16,17,18,19,20]\n"
   ]
  },
  {
   "cell_type": "code",
   "execution_count": 101,
   "id": "b267b8f4-6937-467a-b1ef-31d3df375b53",
   "metadata": {},
   "outputs": [
    {
     "data": {
      "text/plain": [
       "\u001b[1;31mSignature:\u001b[0m \u001b[0mlist\u001b[0m\u001b[1;33m.\u001b[0m\u001b[0mappend\u001b[0m\u001b[1;33m(\u001b[0m\u001b[0mself\u001b[0m\u001b[1;33m,\u001b[0m \u001b[0mobject\u001b[0m\u001b[1;33m,\u001b[0m \u001b[1;33m/\u001b[0m\u001b[1;33m)\u001b[0m\u001b[1;33m\u001b[0m\u001b[1;33m\u001b[0m\u001b[0m\n",
       "\u001b[1;31mDocstring:\u001b[0m Append object to the end of the list.\n",
       "\u001b[1;31mType:\u001b[0m      method_descriptor"
      ]
     },
     "metadata": {},
     "output_type": "display_data"
    }
   ],
   "source": [
    "list.append?"
   ]
  },
  {
   "cell_type": "code",
   "execution_count": 102,
   "id": "4fcb6495-ef48-4a55-b73c-3a77a2bc566b",
   "metadata": {},
   "outputs": [],
   "source": [
    "L.append(21)"
   ]
  },
  {
   "cell_type": "code",
   "execution_count": 103,
   "id": "e977faf0-38a7-43f5-b256-f812d4500f0d",
   "metadata": {},
   "outputs": [
    {
     "data": {
      "text/plain": [
       "[1, 2, 3, 4, 5, 6, 7, 8, 9, 10, 11, 12, 13, 14, 15, 16, 17, 18, 19, 20, 21]"
      ]
     },
     "execution_count": 103,
     "metadata": {},
     "output_type": "execute_result"
    }
   ],
   "source": [
    "L"
   ]
  },
  {
   "cell_type": "code",
   "execution_count": 104,
   "id": "9da8d82c-6e02-408f-a7f5-d766fed14581",
   "metadata": {},
   "outputs": [
    {
     "data": {
      "text/plain": [
       "\u001b[1;31mSignature:\u001b[0m \u001b[0mlist\u001b[0m\u001b[1;33m.\u001b[0m\u001b[0mclear\u001b[0m\u001b[1;33m(\u001b[0m\u001b[0mself\u001b[0m\u001b[1;33m,\u001b[0m \u001b[1;33m/\u001b[0m\u001b[1;33m)\u001b[0m\u001b[1;33m\u001b[0m\u001b[1;33m\u001b[0m\u001b[0m\n",
       "\u001b[1;31mDocstring:\u001b[0m Remove all items from list.\n",
       "\u001b[1;31mType:\u001b[0m      method_descriptor"
      ]
     },
     "metadata": {},
     "output_type": "display_data"
    }
   ],
   "source": [
    "list.clear?"
   ]
  },
  {
   "cell_type": "code",
   "execution_count": 110,
   "id": "08a3783c-36eb-4611-a9da-de4e22cd567e",
   "metadata": {},
   "outputs": [],
   "source": [
    "L.clear()"
   ]
  },
  {
   "cell_type": "code",
   "execution_count": 112,
   "id": "2c22b304-92e4-409d-adea-787485d33319",
   "metadata": {},
   "outputs": [
    {
     "data": {
      "text/plain": [
       "[]"
      ]
     },
     "execution_count": 112,
     "metadata": {},
     "output_type": "execute_result"
    }
   ],
   "source": [
    "L"
   ]
  },
  {
   "cell_type": "code",
   "execution_count": 114,
   "id": "58ea5777-ba2d-45d2-b09a-cea12016d0bc",
   "metadata": {},
   "outputs": [],
   "source": [
    "A =[1,2,3,4,5,6,7,8,9,10,11,12,13,14,15,16,17,18,19,20,21,22,23,24,25]"
   ]
  },
  {
   "cell_type": "code",
   "execution_count": 115,
   "id": "f5b11ba1-56b7-47f6-a29d-9679c2e62c7a",
   "metadata": {},
   "outputs": [
    {
     "data": {
      "text/plain": [
       "\u001b[1;31mSignature:\u001b[0m \u001b[0mlist\u001b[0m\u001b[1;33m.\u001b[0m\u001b[0mcopy\u001b[0m\u001b[1;33m(\u001b[0m\u001b[0mself\u001b[0m\u001b[1;33m,\u001b[0m \u001b[1;33m/\u001b[0m\u001b[1;33m)\u001b[0m\u001b[1;33m\u001b[0m\u001b[1;33m\u001b[0m\u001b[0m\n",
       "\u001b[1;31mDocstring:\u001b[0m Return a shallow copy of the list.\n",
       "\u001b[1;31mType:\u001b[0m      method_descriptor"
      ]
     },
     "metadata": {},
     "output_type": "display_data"
    }
   ],
   "source": [
    "list.copy?"
   ]
  },
  {
   "cell_type": "code",
   "execution_count": 117,
   "id": "688979cc-4dce-4fa8-b544-0f17835969cb",
   "metadata": {},
   "outputs": [
    {
     "data": {
      "text/plain": [
       "[1,\n",
       " 2,\n",
       " 3,\n",
       " 4,\n",
       " 5,\n",
       " 6,\n",
       " 7,\n",
       " 8,\n",
       " 9,\n",
       " 10,\n",
       " 11,\n",
       " 12,\n",
       " 13,\n",
       " 14,\n",
       " 15,\n",
       " 16,\n",
       " 17,\n",
       " 18,\n",
       " 19,\n",
       " 20,\n",
       " 21,\n",
       " 22,\n",
       " 23,\n",
       " 24,\n",
       " 25]"
      ]
     },
     "execution_count": 117,
     "metadata": {},
     "output_type": "execute_result"
    }
   ],
   "source": [
    "list.copy(A)"
   ]
  },
  {
   "cell_type": "code",
   "execution_count": 118,
   "id": "2d5e5e94-9f4a-422f-9642-1a5141934f6d",
   "metadata": {},
   "outputs": [
    {
     "data": {
      "text/plain": [
       "\u001b[1;31mSignature:\u001b[0m \u001b[0mlist\u001b[0m\u001b[1;33m.\u001b[0m\u001b[0mcount\u001b[0m\u001b[1;33m(\u001b[0m\u001b[0mself\u001b[0m\u001b[1;33m,\u001b[0m \u001b[0mvalue\u001b[0m\u001b[1;33m,\u001b[0m \u001b[1;33m/\u001b[0m\u001b[1;33m)\u001b[0m\u001b[1;33m\u001b[0m\u001b[1;33m\u001b[0m\u001b[0m\n",
       "\u001b[1;31mDocstring:\u001b[0m Return number of occurrences of value.\n",
       "\u001b[1;31mType:\u001b[0m      method_descriptor"
      ]
     },
     "metadata": {},
     "output_type": "display_data"
    }
   ],
   "source": [
    "list.count?\n"
   ]
  },
  {
   "cell_type": "code",
   "execution_count": 129,
   "id": "ad2acf7f-4659-4d49-b197-cca7481cc641",
   "metadata": {},
   "outputs": [
    {
     "name": "stdout",
     "output_type": "stream",
     "text": [
      "The number 2 appears 3 times in the list.\n"
     ]
    }
   ],
   "source": [
    "C = [1, 2, 3, 2, 4, 2, 5]\n",
    "\n",
    "c= C.count(2)\n",
    "\n",
    "# Print the result\n",
    "print(f\"The number 2 appears {c} times in the list.\")"
   ]
  },
  {
   "cell_type": "code",
   "execution_count": 130,
   "id": "32eeabbb-143b-4026-909e-968390b69f78",
   "metadata": {},
   "outputs": [
    {
     "data": {
      "text/plain": [
       "\u001b[1;31mSignature:\u001b[0m \u001b[0mlist\u001b[0m\u001b[1;33m.\u001b[0m\u001b[0mextend\u001b[0m\u001b[1;33m(\u001b[0m\u001b[0mself\u001b[0m\u001b[1;33m,\u001b[0m \u001b[0miterable\u001b[0m\u001b[1;33m,\u001b[0m \u001b[1;33m/\u001b[0m\u001b[1;33m)\u001b[0m\u001b[1;33m\u001b[0m\u001b[1;33m\u001b[0m\u001b[0m\n",
       "\u001b[1;31mDocstring:\u001b[0m Extend list by appending elements from the iterable.\n",
       "\u001b[1;31mType:\u001b[0m      method_descriptor"
      ]
     },
     "metadata": {},
     "output_type": "display_data"
    }
   ],
   "source": [
    "list.extend?\n"
   ]
  },
  {
   "cell_type": "code",
   "execution_count": 134,
   "id": "9170bc37-44ab-47f3-8f7c-a9e459f1c4bf",
   "metadata": {},
   "outputs": [],
   "source": [
    "C.extend([1,2,3])"
   ]
  },
  {
   "cell_type": "code",
   "execution_count": 136,
   "id": "0a320816-53e1-4f0c-a21e-2950d71fe610",
   "metadata": {},
   "outputs": [
    {
     "data": {
      "text/plain": [
       "[1, 2, 3, 2, 4, 2, 5, 1, 2, 3]"
      ]
     },
     "execution_count": 136,
     "metadata": {},
     "output_type": "execute_result"
    }
   ],
   "source": [
    "C"
   ]
  },
  {
   "cell_type": "code",
   "execution_count": 137,
   "id": "80a98a19-f106-4c76-a7e2-b9fdd39bb1a1",
   "metadata": {},
   "outputs": [
    {
     "data": {
      "text/plain": [
       "\u001b[1;31mSignature:\u001b[0m \u001b[0mlist\u001b[0m\u001b[1;33m.\u001b[0m\u001b[0mindex\u001b[0m\u001b[1;33m(\u001b[0m\u001b[0mself\u001b[0m\u001b[1;33m,\u001b[0m \u001b[0mvalue\u001b[0m\u001b[1;33m,\u001b[0m \u001b[0mstart\u001b[0m\u001b[1;33m=\u001b[0m\u001b[1;36m0\u001b[0m\u001b[1;33m,\u001b[0m \u001b[0mstop\u001b[0m\u001b[1;33m=\u001b[0m\u001b[1;36m9223372036854775807\u001b[0m\u001b[1;33m,\u001b[0m \u001b[1;33m/\u001b[0m\u001b[1;33m)\u001b[0m\u001b[1;33m\u001b[0m\u001b[1;33m\u001b[0m\u001b[0m\n",
       "\u001b[1;31mDocstring:\u001b[0m\n",
       "Return first index of value.\n",
       "\n",
       "Raises ValueError if the value is not present.\n",
       "\u001b[1;31mType:\u001b[0m      method_descriptor"
      ]
     },
     "metadata": {},
     "output_type": "display_data"
    }
   ],
   "source": [
    "list.index?"
   ]
  },
  {
   "cell_type": "code",
   "execution_count": 138,
   "id": "cb78ee37-3e87-4725-a3ad-7e0057612e16",
   "metadata": {},
   "outputs": [
    {
     "data": {
      "text/plain": [
       "2"
      ]
     },
     "execution_count": 138,
     "metadata": {},
     "output_type": "execute_result"
    }
   ],
   "source": [
    "C.index(3)"
   ]
  },
  {
   "cell_type": "code",
   "execution_count": 139,
   "id": "4f2c2368-d6e3-443d-83b9-4b74c0ee6e45",
   "metadata": {},
   "outputs": [
    {
     "data": {
      "text/plain": [
       "\u001b[1;31mSignature:\u001b[0m \u001b[0mlist\u001b[0m\u001b[1;33m.\u001b[0m\u001b[0minsert\u001b[0m\u001b[1;33m(\u001b[0m\u001b[0mself\u001b[0m\u001b[1;33m,\u001b[0m \u001b[0mindex\u001b[0m\u001b[1;33m,\u001b[0m \u001b[0mobject\u001b[0m\u001b[1;33m,\u001b[0m \u001b[1;33m/\u001b[0m\u001b[1;33m)\u001b[0m\u001b[1;33m\u001b[0m\u001b[1;33m\u001b[0m\u001b[0m\n",
       "\u001b[1;31mDocstring:\u001b[0m Insert object before index.\n",
       "\u001b[1;31mType:\u001b[0m      method_descriptor"
      ]
     },
     "metadata": {},
     "output_type": "display_data"
    }
   ],
   "source": [
    "list.insert?"
   ]
  },
  {
   "cell_type": "code",
   "execution_count": 142,
   "id": "00d2bf77-c3ae-4633-8602-6a7412244c6d",
   "metadata": {},
   "outputs": [],
   "source": [
    "C.insert(2,8)"
   ]
  },
  {
   "cell_type": "code",
   "execution_count": 143,
   "id": "9e248c94-dd00-4dc7-9854-30d496d3fb25",
   "metadata": {},
   "outputs": [
    {
     "data": {
      "text/plain": [
       "[1, 2, 8, [8], 3, 2, 4, 2, 5, 1, 2, 3]"
      ]
     },
     "execution_count": 143,
     "metadata": {},
     "output_type": "execute_result"
    }
   ],
   "source": [
    "C"
   ]
  },
  {
   "cell_type": "code",
   "execution_count": 144,
   "id": "52328671-0fe4-4930-be27-58d47b96f678",
   "metadata": {},
   "outputs": [
    {
     "data": {
      "text/plain": [
       "\u001b[1;31mSignature:\u001b[0m \u001b[0mlist\u001b[0m\u001b[1;33m.\u001b[0m\u001b[0mmro\u001b[0m\u001b[1;33m(\u001b[0m\u001b[1;33m)\u001b[0m\u001b[1;33m\u001b[0m\u001b[1;33m\u001b[0m\u001b[0m\n",
       "\u001b[1;31mDocstring:\u001b[0m Return a type's method resolution order.\n",
       "\u001b[1;31mType:\u001b[0m      builtin_function_or_method"
      ]
     },
     "metadata": {},
     "output_type": "display_data"
    }
   ],
   "source": [
    "list.mro?"
   ]
  },
  {
   "cell_type": "code",
   "execution_count": 145,
   "id": "cc976c4b-af62-4148-a5fe-ee766203d6c0",
   "metadata": {},
   "outputs": [
    {
     "data": {
      "text/plain": [
       "\u001b[1;31mSignature:\u001b[0m \u001b[0mlist\u001b[0m\u001b[1;33m.\u001b[0m\u001b[0mremove\u001b[0m\u001b[1;33m(\u001b[0m\u001b[0mself\u001b[0m\u001b[1;33m,\u001b[0m \u001b[0mvalue\u001b[0m\u001b[1;33m,\u001b[0m \u001b[1;33m/\u001b[0m\u001b[1;33m)\u001b[0m\u001b[1;33m\u001b[0m\u001b[1;33m\u001b[0m\u001b[0m\n",
       "\u001b[1;31mDocstring:\u001b[0m\n",
       "Remove first occurrence of value.\n",
       "\n",
       "Raises ValueError if the value is not present.\n",
       "\u001b[1;31mType:\u001b[0m      method_descriptor"
      ]
     },
     "metadata": {},
     "output_type": "display_data"
    }
   ],
   "source": [
    "list.remove?"
   ]
  },
  {
   "cell_type": "code",
   "execution_count": 147,
   "id": "af13df3c-1c70-481a-af8d-9553f41b7bdd",
   "metadata": {},
   "outputs": [],
   "source": [
    "C.remove([8])"
   ]
  },
  {
   "cell_type": "code",
   "execution_count": 148,
   "id": "a742160f-7dd1-43b4-9ab3-3925f496775d",
   "metadata": {},
   "outputs": [
    {
     "data": {
      "text/plain": [
       "[1, 2, 8, 3, 2, 4, 2, 5, 1, 2, 3]"
      ]
     },
     "execution_count": 148,
     "metadata": {},
     "output_type": "execute_result"
    }
   ],
   "source": [
    "C"
   ]
  },
  {
   "cell_type": "code",
   "execution_count": 149,
   "id": "e8e2da7f-f39c-4f0e-9096-6f6b1566823a",
   "metadata": {},
   "outputs": [
    {
     "data": {
      "text/plain": [
       "\u001b[1;31mSignature:\u001b[0m \u001b[0mlist\u001b[0m\u001b[1;33m.\u001b[0m\u001b[0mpop\u001b[0m\u001b[1;33m(\u001b[0m\u001b[0mself\u001b[0m\u001b[1;33m,\u001b[0m \u001b[0mindex\u001b[0m\u001b[1;33m=\u001b[0m\u001b[1;33m-\u001b[0m\u001b[1;36m1\u001b[0m\u001b[1;33m,\u001b[0m \u001b[1;33m/\u001b[0m\u001b[1;33m)\u001b[0m\u001b[1;33m\u001b[0m\u001b[1;33m\u001b[0m\u001b[0m\n",
       "\u001b[1;31mDocstring:\u001b[0m\n",
       "Remove and return item at index (default last).\n",
       "\n",
       "Raises IndexError if list is empty or index is out of range.\n",
       "\u001b[1;31mType:\u001b[0m      method_descriptor"
      ]
     },
     "metadata": {},
     "output_type": "display_data"
    }
   ],
   "source": [
    "list.pop?"
   ]
  },
  {
   "cell_type": "code",
   "execution_count": 150,
   "id": "34906230-6e42-4f7d-b538-c4314bfd6846",
   "metadata": {},
   "outputs": [
    {
     "data": {
      "text/plain": [
       "[1, 2, 8, 3, 2, 4, 2, 5, 1, 2, 3]"
      ]
     },
     "execution_count": 150,
     "metadata": {},
     "output_type": "execute_result"
    }
   ],
   "source": [
    "C"
   ]
  },
  {
   "cell_type": "code",
   "execution_count": 151,
   "id": "b83c6adf-0d16-46a4-bfc8-5516c2f07ca7",
   "metadata": {},
   "outputs": [
    {
     "data": {
      "text/plain": [
       "4"
      ]
     },
     "execution_count": 151,
     "metadata": {},
     "output_type": "execute_result"
    }
   ],
   "source": [
    "C.pop(5)"
   ]
  },
  {
   "cell_type": "code",
   "execution_count": 152,
   "id": "4bc27cec-1966-441a-b643-426396576beb",
   "metadata": {},
   "outputs": [
    {
     "data": {
      "text/plain": [
       "[1, 2, 8, 3, 2, 2, 5, 1, 2, 3]"
      ]
     },
     "execution_count": 152,
     "metadata": {},
     "output_type": "execute_result"
    }
   ],
   "source": [
    "C"
   ]
  },
  {
   "cell_type": "code",
   "execution_count": 153,
   "id": "2d9d40b8-e89c-432f-bd91-bbd01ee2f712",
   "metadata": {},
   "outputs": [
    {
     "data": {
      "text/plain": [
       "\u001b[1;31mSignature:\u001b[0m \u001b[0mlist\u001b[0m\u001b[1;33m.\u001b[0m\u001b[0mreverse\u001b[0m\u001b[1;33m(\u001b[0m\u001b[0mself\u001b[0m\u001b[1;33m,\u001b[0m \u001b[1;33m/\u001b[0m\u001b[1;33m)\u001b[0m\u001b[1;33m\u001b[0m\u001b[1;33m\u001b[0m\u001b[0m\n",
       "\u001b[1;31mDocstring:\u001b[0m Reverse *IN PLACE*.\n",
       "\u001b[1;31mType:\u001b[0m      method_descriptor"
      ]
     },
     "metadata": {},
     "output_type": "display_data"
    }
   ],
   "source": [
    "list.reverse?"
   ]
  },
  {
   "cell_type": "code",
   "execution_count": 154,
   "id": "a531ffb5-776a-4dda-950b-6f438ffc837c",
   "metadata": {},
   "outputs": [],
   "source": [
    "list.reverse(C)"
   ]
  },
  {
   "cell_type": "code",
   "execution_count": 155,
   "id": "bd7bd912-2886-40c1-a6b4-a82cf02e0bff",
   "metadata": {},
   "outputs": [
    {
     "data": {
      "text/plain": [
       "[3, 2, 1, 5, 2, 2, 3, 8, 2, 1]"
      ]
     },
     "execution_count": 155,
     "metadata": {},
     "output_type": "execute_result"
    }
   ],
   "source": [
    "C"
   ]
  },
  {
   "cell_type": "code",
   "execution_count": 156,
   "id": "1e7469e9-a6b5-43f8-a0f9-bf55c6396060",
   "metadata": {},
   "outputs": [
    {
     "data": {
      "text/plain": [
       "\u001b[1;31mSignature:\u001b[0m \u001b[0mlist\u001b[0m\u001b[1;33m.\u001b[0m\u001b[0msort\u001b[0m\u001b[1;33m(\u001b[0m\u001b[0mself\u001b[0m\u001b[1;33m,\u001b[0m \u001b[1;33m/\u001b[0m\u001b[1;33m,\u001b[0m \u001b[1;33m*\u001b[0m\u001b[1;33m,\u001b[0m \u001b[0mkey\u001b[0m\u001b[1;33m=\u001b[0m\u001b[1;32mNone\u001b[0m\u001b[1;33m,\u001b[0m \u001b[0mreverse\u001b[0m\u001b[1;33m=\u001b[0m\u001b[1;32mFalse\u001b[0m\u001b[1;33m)\u001b[0m\u001b[1;33m\u001b[0m\u001b[1;33m\u001b[0m\u001b[0m\n",
       "\u001b[1;31mDocstring:\u001b[0m\n",
       "Sort the list in ascending order and return None.\n",
       "\n",
       "The sort is in-place (i.e. the list itself is modified) and stable (i.e. the\n",
       "order of two equal elements is maintained).\n",
       "\n",
       "If a key function is given, apply it once to each list item and sort them,\n",
       "ascending or descending, according to their function values.\n",
       "\n",
       "The reverse flag can be set to sort in descending order.\n",
       "\u001b[1;31mType:\u001b[0m      method_descriptor"
      ]
     },
     "metadata": {},
     "output_type": "display_data"
    }
   ],
   "source": [
    "list.sort?"
   ]
  },
  {
   "cell_type": "code",
   "execution_count": 159,
   "id": "7b1a855e-6b10-4b69-9993-3177677bdc25",
   "metadata": {},
   "outputs": [
    {
     "data": {
      "text/plain": [
       "<function list.sort(*, key=None, reverse=False)>"
      ]
     },
     "execution_count": 159,
     "metadata": {},
     "output_type": "execute_result"
    }
   ],
   "source": [
    "C.sort #Ascending order"
   ]
  },
  {
   "cell_type": "code",
   "execution_count": 160,
   "id": "5bf50436-6f57-4465-a0b4-1f2b05c1363d",
   "metadata": {},
   "outputs": [
    {
     "data": {
      "text/plain": [
       "[1, 1, 2, 2, 2, 2, 3, 3, 5, 8]"
      ]
     },
     "execution_count": 160,
     "metadata": {},
     "output_type": "execute_result"
    }
   ],
   "source": [
    "C "
   ]
  },
  {
   "cell_type": "markdown",
   "id": "30364de5-ce4a-4a35-b051-e37d6b2ef879",
   "metadata": {},
   "source": [
    "# 4. Set operations"
   ]
  },
  {
   "cell_type": "code",
   "execution_count": 161,
   "id": "4aec1942-25ac-444b-bdfd-1293ec3965ad",
   "metadata": {},
   "outputs": [
    {
     "data": {
      "text/plain": [
       "\u001b[1;31mDocstring:\u001b[0m\n",
       "Add an element to a set.\n",
       "\n",
       "This has no effect if the element is already present.\n",
       "\u001b[1;31mType:\u001b[0m      method_descriptor"
      ]
     },
     "metadata": {},
     "output_type": "display_data"
    }
   ],
   "source": [
    "set.add"
   ]
  },
  {
   "cell_type": "code",
   "execution_count": 168,
   "id": "4dbf1f24-f792-4b78-a3ed-c523e0808996",
   "metadata": {},
   "outputs": [
    {
     "name": "stdout",
     "output_type": "stream",
     "text": [
      "{1, 2, 3, 4}\n"
     ]
    }
   ],
   "source": [
    "my_set = {1, 2, 3}\n",
    "my_set.add(4)  \n",
    "print(my_set)  "
   ]
  },
  {
   "cell_type": "code",
   "execution_count": 174,
   "id": "8e8c26fb-4f0f-48a0-86dd-e85b6a9ae225",
   "metadata": {},
   "outputs": [
    {
     "data": {
      "text/plain": [
       "\u001b[1;31mDocstring:\u001b[0m\n",
       "Return the intersection of two sets as a new set.\n",
       "\n",
       "(i.e. all elements that are in both sets.)\n",
       "\u001b[1;31mType:\u001b[0m      method_descriptor"
      ]
     },
     "metadata": {},
     "output_type": "display_data"
    }
   ],
   "source": [
    "set.intersection?"
   ]
  },
  {
   "cell_type": "code",
   "execution_count": 171,
   "id": "393ccc3c-3723-4fa9-a7a6-2137ca27bcb5",
   "metadata": {},
   "outputs": [],
   "source": [
    "L = {1,2,3,4}\n",
    "M = {3,4,5,6}"
   ]
  },
  {
   "cell_type": "code",
   "execution_count": 172,
   "id": "6e7fb9b4-d560-4a46-aeb6-0b3b35921331",
   "metadata": {},
   "outputs": [
    {
     "data": {
      "text/plain": [
       "{3, 4}"
      ]
     },
     "execution_count": 172,
     "metadata": {},
     "output_type": "execute_result"
    }
   ],
   "source": [
    " L.intersection(M)\n"
   ]
  },
  {
   "cell_type": "code",
   "execution_count": 175,
   "id": "70f2e01b-79a4-4bc0-83e6-7cb85395f898",
   "metadata": {},
   "outputs": [
    {
     "data": {
      "text/plain": [
       "\u001b[1;31mDocstring:\u001b[0m\n",
       "Return the union of sets as a new set.\n",
       "\n",
       "(i.e. all elements that are in either set.)\n",
       "\u001b[1;31mType:\u001b[0m      method_descriptor"
      ]
     },
     "metadata": {},
     "output_type": "display_data"
    }
   ],
   "source": [
    "set.union?"
   ]
  },
  {
   "cell_type": "code",
   "execution_count": 176,
   "id": "d7b1744f-a61a-4478-9953-90ca990a1960",
   "metadata": {},
   "outputs": [
    {
     "data": {
      "text/plain": [
       "{1, 2, 3, 4, 5, 6}"
      ]
     },
     "execution_count": 176,
     "metadata": {},
     "output_type": "execute_result"
    }
   ],
   "source": [
    "L.union(M)"
   ]
  },
  {
   "cell_type": "code",
   "execution_count": 177,
   "id": "33c6e8ee-00f8-4015-9e2a-f794f4f24e30",
   "metadata": {},
   "outputs": [
    {
     "data": {
      "text/plain": [
       "\u001b[1;31mDocstring:\u001b[0m\n",
       "Return the difference of two or more sets as a new set.\n",
       "\n",
       "(i.e. all elements that are in this set but not the others.)\n",
       "\u001b[1;31mType:\u001b[0m      method_descriptor"
      ]
     },
     "metadata": {},
     "output_type": "display_data"
    }
   ],
   "source": [
    "set.difference?"
   ]
  },
  {
   "cell_type": "code",
   "execution_count": 178,
   "id": "4e2596fa-4c8d-4d30-b0c1-e75f6efc7320",
   "metadata": {},
   "outputs": [
    {
     "data": {
      "text/plain": [
       "{1, 2}"
      ]
     },
     "execution_count": 178,
     "metadata": {},
     "output_type": "execute_result"
    }
   ],
   "source": [
    "L.difference(M)"
   ]
  },
  {
   "cell_type": "code",
   "execution_count": 179,
   "id": "6fed62a7-2fe6-4707-840d-6a7566961d67",
   "metadata": {},
   "outputs": [
    {
     "data": {
      "text/plain": [
       "\u001b[1;31mDocstring:\u001b[0m Remove all elements from this set.\n",
       "\u001b[1;31mType:\u001b[0m      method_descriptor"
      ]
     },
     "metadata": {},
     "output_type": "display_data"
    }
   ],
   "source": [
    "set.clear?"
   ]
  },
  {
   "cell_type": "code",
   "execution_count": 180,
   "id": "a8f5712e-c570-4cb0-9a11-3c1509b68e80",
   "metadata": {},
   "outputs": [
    {
     "data": {
      "text/plain": [
       "\u001b[1;31mDocstring:\u001b[0m Return a shallow copy of a set.\n",
       "\u001b[1;31mType:\u001b[0m      method_descriptor"
      ]
     },
     "metadata": {},
     "output_type": "display_data"
    }
   ],
   "source": [
    "set.copy?"
   ]
  },
  {
   "cell_type": "code",
   "execution_count": 181,
   "id": "d05d675f-c042-40ef-b8e6-871fd27e78dd",
   "metadata": {},
   "outputs": [
    {
     "data": {
      "text/plain": [
       "\u001b[1;31mDocstring:\u001b[0m\n",
       "Remove an element from a set if it is a member.\n",
       "\n",
       "Unlike set.remove(), the discard() method does not raise\n",
       "an exception when an element is missing from the set.\n",
       "\u001b[1;31mType:\u001b[0m      method_descriptor"
      ]
     },
     "metadata": {},
     "output_type": "display_data"
    }
   ],
   "source": [
    "set.discard?"
   ]
  },
  {
   "cell_type": "code",
   "execution_count": 182,
   "id": "b5a8231d-a173-402c-be13-a7c0f254d11b",
   "metadata": {},
   "outputs": [],
   "source": [
    "L.discard(1)"
   ]
  },
  {
   "cell_type": "code",
   "execution_count": 183,
   "id": "3a4baaa5-c26d-4510-824d-951e771dc983",
   "metadata": {},
   "outputs": [
    {
     "data": {
      "text/plain": [
       "{2, 3, 4}"
      ]
     },
     "execution_count": 183,
     "metadata": {},
     "output_type": "execute_result"
    }
   ],
   "source": [
    "L\n"
   ]
  },
  {
   "cell_type": "code",
   "execution_count": 184,
   "id": "c3749869-8bfa-4082-a2f5-8ec08046b616",
   "metadata": {},
   "outputs": [
    {
     "data": {
      "text/plain": [
       "\u001b[1;31mDocstring:\u001b[0m Return True if two sets have a null intersection.\n",
       "\u001b[1;31mType:\u001b[0m      method_descriptor"
      ]
     },
     "metadata": {},
     "output_type": "display_data"
    }
   ],
   "source": [
    "set.isdisjoint?"
   ]
  },
  {
   "cell_type": "code",
   "execution_count": 185,
   "id": "3022bf9b-2392-4734-87cb-15cca20cd619",
   "metadata": {},
   "outputs": [
    {
     "data": {
      "text/plain": [
       "False"
      ]
     },
     "execution_count": 185,
     "metadata": {},
     "output_type": "execute_result"
    }
   ],
   "source": [
    "L.isdisjoint(M)"
   ]
  },
  {
   "cell_type": "code",
   "execution_count": 186,
   "id": "38bd8107-6114-42b9-a7c6-f48fe536a024",
   "metadata": {},
   "outputs": [
    {
     "data": {
      "text/plain": [
       "\u001b[1;31mSignature:\u001b[0m \u001b[0mset\u001b[0m\u001b[1;33m.\u001b[0m\u001b[0missubset\u001b[0m\u001b[1;33m(\u001b[0m\u001b[0mself\u001b[0m\u001b[1;33m,\u001b[0m \u001b[0mother\u001b[0m\u001b[1;33m,\u001b[0m \u001b[1;33m/\u001b[0m\u001b[1;33m)\u001b[0m\u001b[1;33m\u001b[0m\u001b[1;33m\u001b[0m\u001b[0m\n",
       "\u001b[1;31mDocstring:\u001b[0m Test whether every element in the set is in other.\n",
       "\u001b[1;31mType:\u001b[0m      method_descriptor"
      ]
     },
     "metadata": {},
     "output_type": "display_data"
    }
   ],
   "source": [
    "set.issubset?"
   ]
  },
  {
   "cell_type": "code",
   "execution_count": 187,
   "id": "f3fde73f-9dee-4c9d-ae77-7dd2c15fce5d",
   "metadata": {},
   "outputs": [
    {
     "data": {
      "text/plain": [
       "False"
      ]
     },
     "execution_count": 187,
     "metadata": {},
     "output_type": "execute_result"
    }
   ],
   "source": [
    "L.issubset(M)"
   ]
  },
  {
   "cell_type": "code",
   "execution_count": 188,
   "id": "2b834ffb-4d37-4ca6-abdf-fcddb2ce7029",
   "metadata": {},
   "outputs": [
    {
     "data": {
      "text/plain": [
       "\u001b[1;31mSignature:\u001b[0m \u001b[0mset\u001b[0m\u001b[1;33m.\u001b[0m\u001b[0missuperset\u001b[0m\u001b[1;33m(\u001b[0m\u001b[0mself\u001b[0m\u001b[1;33m,\u001b[0m \u001b[0mother\u001b[0m\u001b[1;33m,\u001b[0m \u001b[1;33m/\u001b[0m\u001b[1;33m)\u001b[0m\u001b[1;33m\u001b[0m\u001b[1;33m\u001b[0m\u001b[0m\n",
       "\u001b[1;31mDocstring:\u001b[0m Test whether every element in other is in the set.\n",
       "\u001b[1;31mType:\u001b[0m      method_descriptor"
      ]
     },
     "metadata": {},
     "output_type": "display_data"
    }
   ],
   "source": [
    "set.issuperset?"
   ]
  },
  {
   "cell_type": "code",
   "execution_count": 189,
   "id": "0e492be7-6f57-4e3c-97f1-9164b85c1eff",
   "metadata": {},
   "outputs": [
    {
     "data": {
      "text/plain": [
       "False"
      ]
     },
     "execution_count": 189,
     "metadata": {},
     "output_type": "execute_result"
    }
   ],
   "source": [
    "L.issuperset(M)"
   ]
  },
  {
   "cell_type": "code",
   "execution_count": 190,
   "id": "c1d4d06a-9abd-4daf-89bb-312dcea9326b",
   "metadata": {},
   "outputs": [
    {
     "data": {
      "text/plain": [
       "\u001b[1;31mDocstring:\u001b[0m\n",
       "Remove an element from a set; it must be a member.\n",
       "\n",
       "If the element is not a member, raise a KeyError.\n",
       "\u001b[1;31mType:\u001b[0m      method_descriptor"
      ]
     },
     "metadata": {},
     "output_type": "display_data"
    }
   ],
   "source": [
    "set.remove?"
   ]
  },
  {
   "cell_type": "code",
   "execution_count": 191,
   "id": "05c1ec2f-541d-4ac4-abca-d3fd2be3358c",
   "metadata": {},
   "outputs": [],
   "source": [
    "M.remove(6) #the number must be present unlike discard"
   ]
  },
  {
   "cell_type": "code",
   "execution_count": 192,
   "id": "7a760ed3-fd65-4765-bb89-77e1149b418c",
   "metadata": {},
   "outputs": [
    {
     "data": {
      "text/plain": [
       "{3, 4, 5}"
      ]
     },
     "execution_count": 192,
     "metadata": {},
     "output_type": "execute_result"
    }
   ],
   "source": [
    "M"
   ]
  },
  {
   "cell_type": "code",
   "execution_count": 195,
   "id": "e70eea5e-5cfc-4b1c-af30-f29ff37e162d",
   "metadata": {},
   "outputs": [
    {
     "data": {
      "text/plain": [
       "\u001b[1;31mDocstring:\u001b[0m\n",
       "Remove and return an arbitrary set element.\n",
       "Raises KeyError if the set is empty.\n",
       "\u001b[1;31mType:\u001b[0m      method_descriptor"
      ]
     },
     "metadata": {},
     "output_type": "display_data"
    }
   ],
   "source": [
    "set.pop?"
   ]
  },
  {
   "cell_type": "code",
   "execution_count": 199,
   "id": "af8e1b53-af6d-4954-9d29-75ff483829a8",
   "metadata": {},
   "outputs": [
    {
     "data": {
      "text/plain": [
       "3"
      ]
     },
     "execution_count": 199,
     "metadata": {},
     "output_type": "execute_result"
    }
   ],
   "source": [
    "M.pop()"
   ]
  },
  {
   "cell_type": "code",
   "execution_count": 200,
   "id": "abb9d4aa-f55a-472a-8c3b-2a9a58c06c94",
   "metadata": {},
   "outputs": [
    {
     "data": {
      "text/plain": [
       "{4, 5}"
      ]
     },
     "execution_count": 200,
     "metadata": {},
     "output_type": "execute_result"
    }
   ],
   "source": [
    "M"
   ]
  },
  {
   "cell_type": "code",
   "execution_count": 203,
   "id": "89434ae6-8969-41db-b0d0-dff1af0b731a",
   "metadata": {},
   "outputs": [
    {
     "data": {
      "text/plain": [
       "\u001b[1;31mDocstring:\u001b[0m\n",
       "Return the symmetric difference of two sets as a new set.\n",
       "\n",
       "(i.e. all elements that are in exactly one of the sets.)\n",
       "\u001b[1;31mType:\u001b[0m      method_descriptor"
      ]
     },
     "metadata": {},
     "output_type": "display_data"
    }
   ],
   "source": [
    "set.symmetric_difference?"
   ]
  },
  {
   "cell_type": "code",
   "execution_count": 205,
   "id": "95adfc2f-71be-470f-ab69-abac77ff87b2",
   "metadata": {},
   "outputs": [
    {
     "data": {
      "text/plain": [
       "{2, 3, 5}"
      ]
     },
     "execution_count": 205,
     "metadata": {},
     "output_type": "execute_result"
    }
   ],
   "source": [
    "L.symmetric_difference(M)"
   ]
  },
  {
   "cell_type": "code",
   "execution_count": 206,
   "id": "5ff33ccd-0484-465a-b1cb-f7dd01e277b7",
   "metadata": {},
   "outputs": [
    {
     "data": {
      "text/plain": [
       "\u001b[1;31mDocstring:\u001b[0m Update a set with the union of itself and others.\n",
       "\u001b[1;31mType:\u001b[0m      method_descriptor"
      ]
     },
     "metadata": {},
     "output_type": "display_data"
    }
   ],
   "source": [
    "set.update?"
   ]
  },
  {
   "cell_type": "code",
   "execution_count": 207,
   "id": "08787e05-d1c3-4866-bb5a-25820182e782",
   "metadata": {},
   "outputs": [],
   "source": [
    "L.update(M)"
   ]
  },
  {
   "cell_type": "code",
   "execution_count": 208,
   "id": "dec82d27-423c-47c5-8e6d-d4aa6cd4f331",
   "metadata": {},
   "outputs": [
    {
     "data": {
      "text/plain": [
       "{2, 3, 4, 5}"
      ]
     },
     "execution_count": 208,
     "metadata": {},
     "output_type": "execute_result"
    }
   ],
   "source": [
    "L"
   ]
  },
  {
   "cell_type": "markdown",
   "id": "ff2ae781-884f-4688-9f97-320b9f5e46e5",
   "metadata": {},
   "source": [
    "# 5. Dictionary"
   ]
  },
  {
   "cell_type": "code",
   "execution_count": 237,
   "id": "3153bbf3-58af-4a78-9761-7bc94729190c",
   "metadata": {},
   "outputs": [],
   "source": [
    "d={}"
   ]
  },
  {
   "cell_type": "code",
   "execution_count": 238,
   "id": "42605b1e-778b-4fee-9906-d3435c764008",
   "metadata": {},
   "outputs": [
    {
     "data": {
      "text/plain": [
       "dict"
      ]
     },
     "execution_count": 238,
     "metadata": {},
     "output_type": "execute_result"
    }
   ],
   "source": [
    "type (d)"
   ]
  },
  {
   "cell_type": "code",
   "execution_count": 239,
   "id": "86e6ba37-38c7-4bf8-9ca8-f3dd569bff6c",
   "metadata": {},
   "outputs": [],
   "source": [
    "d['Name'] = 'physics'\n"
   ]
  },
  {
   "cell_type": "code",
   "execution_count": 240,
   "id": "da2809ea-c768-4d72-af08-561636a17bc7",
   "metadata": {},
   "outputs": [],
   "source": [
    "d['year'] = '2004'"
   ]
  },
  {
   "cell_type": "code",
   "execution_count": 241,
   "id": "50083c53-0918-4231-a57a-a73b6a91fe84",
   "metadata": {},
   "outputs": [
    {
     "data": {
      "text/plain": [
       "{'Name': 'physics', 'year': '2004'}"
      ]
     },
     "execution_count": 241,
     "metadata": {},
     "output_type": "execute_result"
    }
   ],
   "source": [
    "d"
   ]
  },
  {
   "cell_type": "code",
   "execution_count": 242,
   "id": "f77491ac-6b1f-4267-8139-6eb8a0250832",
   "metadata": {},
   "outputs": [],
   "source": [
    "d= {'Name': 'physics', 'year': '2004','author':'Zollinger',\n",
    "    'Name': 'chemistry', 'year': '2006','author':'david'\n",
    "   }"
   ]
  },
  {
   "cell_type": "code",
   "execution_count": 243,
   "id": "de6f0a2f-425c-41ad-b114-8822cb80e3be",
   "metadata": {},
   "outputs": [
    {
     "data": {
      "text/plain": [
       "dict_keys(['Name', 'year', 'author'])"
      ]
     },
     "execution_count": 243,
     "metadata": {},
     "output_type": "execute_result"
    }
   ],
   "source": [
    "d.keys()"
   ]
  },
  {
   "cell_type": "code",
   "execution_count": 244,
   "id": "5cdd73ff-fea0-4bef-abd0-cb31deb766c9",
   "metadata": {},
   "outputs": [
    {
     "data": {
      "text/plain": [
       "dict_values(['chemistry', '2006', 'david'])"
      ]
     },
     "execution_count": 244,
     "metadata": {},
     "output_type": "execute_result"
    }
   ],
   "source": [
    "d.values()"
   ]
  },
  {
   "cell_type": "code",
   "execution_count": 11,
   "id": "da157b78-869c-4162-a60b-9e4881e93aa2",
   "metadata": {},
   "outputs": [],
   "source": [
    "library = {\n",
    "    \"physics\": {\n",
    "        \"magnetism\": (\"abc\", 1925, \"Available\"),\n",
    "        \"electricity\": (\"def\", 1949, \"Checked Out\"),\n",
    "        \"kinematics\": (\"ghi\", 1960, \"Available\")\n",
    "    },\n",
    "    \"chemistry\": {\n",
    "        \"kinetics\": (\"jkl\", 2011, \"Available\"),\n",
    "        \"inorganic\": (\"mno\", 2018, \"Checked Out\"),\n",
    "        \"interfacial\": (\"pqr\", 2010, \"Available\")\n",
    "    },\n",
    "    \"maths\": {\n",
    "        \"statistics\": (\"stu\", 1965, \"Available\"),\n",
    "        \"integration\": (\"vwx\", 1984, \"Checked Out\"),\n",
    "        \"set theory\": (\"yz\", 1969, \"Available\")\n",
    "    }\n",
    "}"
   ]
  },
  {
   "cell_type": "code",
   "execution_count": 12,
   "id": "35279339-7181-4860-99d4-42eb0ce9a3f6",
   "metadata": {},
   "outputs": [
    {
     "data": {
      "text/plain": [
       "dict"
      ]
     },
     "execution_count": 12,
     "metadata": {},
     "output_type": "execute_result"
    }
   ],
   "source": [
    "type(library)"
   ]
  },
  {
   "cell_type": "code",
   "execution_count": 13,
   "id": "a0c1dcfa-8a4a-4c46-8c4d-64893573ec64",
   "metadata": {},
   "outputs": [
    {
     "data": {
      "text/plain": [
       "dict_keys(['physics', 'chemistry', 'maths'])"
      ]
     },
     "execution_count": 13,
     "metadata": {},
     "output_type": "execute_result"
    }
   ],
   "source": [
    "library.keys()"
   ]
  },
  {
   "cell_type": "code",
   "execution_count": 14,
   "id": "ca8a7c14-7cc5-48b0-bceb-606f43805184",
   "metadata": {},
   "outputs": [
    {
     "data": {
      "text/plain": [
       "dict_values([{'magnetism': ('abc', 1925, 'Available'), 'electricity': ('def', 1949, 'Checked Out'), 'kinematics': ('ghi', 1960, 'Available')}, {'kinetics': ('jkl', 2011, 'Available'), 'inorganic': ('mno', 2018, 'Checked Out'), 'interfacial': ('pqr', 2010, 'Available')}, {'statistics': ('stu', 1965, 'Available'), 'integration': ('vwx', 1984, 'Checked Out'), 'set theory': ('yz', 1969, 'Available')}])"
      ]
     },
     "execution_count": 14,
     "metadata": {},
     "output_type": "execute_result"
    }
   ],
   "source": [
    "library.values()"
   ]
  },
  {
   "cell_type": "code",
   "execution_count": 15,
   "id": "4967ed5a-1749-4880-be92-d999d98052d9",
   "metadata": {},
   "outputs": [
    {
     "data": {
      "text/plain": [
       "{'physics': {'magnetism': ('abc', 1925, 'Available'),\n",
       "  'electricity': ('def', 1949, 'Checked Out'),\n",
       "  'kinematics': ('ghi', 1960, 'Available')},\n",
       " 'chemistry': {'kinetics': ('jkl', 2011, 'Available'),\n",
       "  'inorganic': ('mno', 2018, 'Checked Out'),\n",
       "  'interfacial': ('pqr', 2010, 'Available')},\n",
       " 'maths': {'statistics': ('stu', 1965, 'Available'),\n",
       "  'integration': ('vwx', 1984, 'Checked Out'),\n",
       "  'set theory': ('yz', 1969, 'Available')}}"
      ]
     },
     "execution_count": 15,
     "metadata": {},
     "output_type": "execute_result"
    }
   ],
   "source": [
    "library"
   ]
  },
  {
   "cell_type": "code",
   "execution_count": 16,
   "id": "475fd671-4848-4c21-8974-9877d5f34baa",
   "metadata": {},
   "outputs": [
    {
     "data": {
      "text/plain": [
       "dict_items([('physics', {'magnetism': ('abc', 1925, 'Available'), 'electricity': ('def', 1949, 'Checked Out'), 'kinematics': ('ghi', 1960, 'Available')}), ('chemistry', {'kinetics': ('jkl', 2011, 'Available'), 'inorganic': ('mno', 2018, 'Checked Out'), 'interfacial': ('pqr', 2010, 'Available')}), ('maths', {'statistics': ('stu', 1965, 'Available'), 'integration': ('vwx', 1984, 'Checked Out'), 'set theory': ('yz', 1969, 'Available')})])"
      ]
     },
     "execution_count": 16,
     "metadata": {},
     "output_type": "execute_result"
    }
   ],
   "source": [
    "library.items()"
   ]
  },
  {
   "cell_type": "code",
   "execution_count": 26,
   "id": "a79262af-bff4-4731-9f85-557a0f8e39b7",
   "metadata": {},
   "outputs": [
    {
     "data": {
      "text/plain": [
       "\u001b[1;31mSignature:\u001b[0m \u001b[0mlibrary\u001b[0m\u001b[1;33m.\u001b[0m\u001b[0mget\u001b[0m\u001b[1;33m(\u001b[0m\u001b[0mkey\u001b[0m\u001b[1;33m,\u001b[0m \u001b[0mdefault\u001b[0m\u001b[1;33m=\u001b[0m\u001b[1;32mNone\u001b[0m\u001b[1;33m,\u001b[0m \u001b[1;33m/\u001b[0m\u001b[1;33m)\u001b[0m\u001b[1;33m\u001b[0m\u001b[1;33m\u001b[0m\u001b[0m\n",
       "\u001b[1;31mDocstring:\u001b[0m Return the value for key if key is in the dictionary, else default.\n",
       "\u001b[1;31mType:\u001b[0m      builtin_function_or_method"
      ]
     },
     "metadata": {},
     "output_type": "display_data"
    }
   ],
   "source": [
    "library.get?"
   ]
  },
  {
   "cell_type": "code",
   "execution_count": 35,
   "id": "d4544fce-0564-4180-8e83-158dac71d2ec",
   "metadata": {},
   "outputs": [
    {
     "data": {
      "text/plain": [
       "{'kinetics': ('jkl', 2011, 'Available'),\n",
       " 'inorganic': ('mno', 2018, 'Checked Out'),\n",
       " 'interfacial': ('pqr', 2010, 'Available')}"
      ]
     },
     "execution_count": 35,
     "metadata": {},
     "output_type": "execute_result"
    }
   ],
   "source": [
    "library.get('chemistry')"
   ]
  },
  {
   "cell_type": "code",
   "execution_count": 36,
   "id": "725e7d78-8a9d-4e31-963d-7bf9d9695a77",
   "metadata": {},
   "outputs": [
    {
     "data": {
      "text/plain": [
       "\u001b[1;31mDocstring:\u001b[0m D.values() -> an object providing a view on D's values\n",
       "\u001b[1;31mType:\u001b[0m      builtin_function_or_method"
      ]
     },
     "metadata": {},
     "output_type": "display_data"
    }
   ],
   "source": [
    "library.values?"
   ]
  },
  {
   "cell_type": "raw",
   "id": "7a4fb42f-fc66-477a-9c13-2a97fa0b4a25",
   "metadata": {},
   "source": []
  },
  {
   "cell_type": "code",
   "execution_count": 44,
   "id": "3e3ba08e-8a48-4877-93d6-1cf7bb7d4717",
   "metadata": {},
   "outputs": [],
   "source": [
    "library= {'Name': 'physics', 'year': '2004','author':'zollinger','price':{'hardcover':80,'ebook':60},\n",
    "    'Name': 'chemistry', 'year': '2006','author':'david','price':{'hardcover':90,'ebook':70},\n",
    "    'Name': 'maths', 'year': '2008','author':'tom','price':{'hardcover':40,'ebook':30},\n",
    "    'Name': 'statistics', 'year': '2010','author':'jerry','price':{'hardcover':60,'ebook':40},\n",
    "    'Name': 'history', 'year': '2006','author':'thomas','price':{'hardcover':80,'ebook':750},\n",
    "    'Name': 'geography', 'year': '2009','author':'max','price':{'hardcover':70,'ebook':60},\n",
    "    'Name': 'politics', 'year': '1998','author':'henry','price':{'hardcover':30,'ebook':20},\n",
    "    'Name': 'drawing', 'year': '2007','author':'keith','price':{'hardcover':15,'ebook':10},\n",
    "    'Name': 'sculpting', 'year': '2014','author':'julia','price':{'hardcover':100,'ebook':60},\n",
    "    'Name': 'aerodynamics', 'year': '1999','author':'java','price':{'hardcover':20,'ebook':15}\n",
    "     }"
   ]
  },
  {
   "cell_type": "code",
   "execution_count": 45,
   "id": "cc9f658f-7253-491e-95e0-f0ef63707527",
   "metadata": {},
   "outputs": [
    {
     "data": {
      "text/plain": [
       "dict_keys(['Name', 'year', 'author', 'price'])"
      ]
     },
     "execution_count": 45,
     "metadata": {},
     "output_type": "execute_result"
    }
   ],
   "source": [
    " library.keys()\n"
   ]
  },
  {
   "cell_type": "code",
   "execution_count": null,
   "id": "238d9bb4-4cf3-4218-b865-471fc0da35b3",
   "metadata": {},
   "outputs": [],
   "source": []
  }
 ],
 "metadata": {
  "kernelspec": {
   "display_name": "Python 3 (ipykernel)",
   "language": "python",
   "name": "python3"
  },
  "language_info": {
   "codemirror_mode": {
    "name": "ipython",
    "version": 3
   },
   "file_extension": ".py",
   "mimetype": "text/x-python",
   "name": "python",
   "nbconvert_exporter": "python",
   "pygments_lexer": "ipython3",
   "version": "3.12.7"
  }
 },
 "nbformat": 4,
 "nbformat_minor": 5
}
