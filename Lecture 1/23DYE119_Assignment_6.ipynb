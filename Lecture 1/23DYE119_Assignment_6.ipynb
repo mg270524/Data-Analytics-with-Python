{
 "cells": [
  {
   "cell_type": "markdown",
   "id": "54b4d469-599b-4aba-a468-cf2936e6a1ca",
   "metadata": {},
   "source": [
    "## Defining a polynomial class"
   ]
  },
  {
   "cell_type": "code",
   "execution_count": 1,
   "id": "35e3f376-0ae9-4eb6-9e58-885fd8b18648",
   "metadata": {},
   "outputs": [],
   "source": [
    "import numpy as np\n",
    "import cmath\n",
    "\n",
    "class Polynomial:\n",
    "    def __init__(self, coefficients):\n",
    "        self.coefficients = np.array(coefficients, dtype=float)\n",
    "    \n",
    "    def degree(self):\n",
    "        return len(self.coefficients) - 1\n",
    "    \n",
    "    def __call__(self, x):\n",
    "        return np.polyval(self.coefficients, x)\n",
    "    \n",
    "    def __add__(self, other):\n",
    "        max_len = max(len(self.coefficients), len(other.coefficients))\n",
    "        coef1 = np.pad(self.coefficients, (max_len - len(self.coefficients), 0))\n",
    "        coef2 = np.pad(other.coefficients, (max_len - len(other.coefficients), 0))\n",
    "        return Polynomial(coef1 + coef2)\n",
    "    \n",
    "    def __sub__(self, other):\n",
    "        max_len = max(len(self.coefficients), len(other.coefficients))\n",
    "        coef1 = np.pad(self.coefficients, (max_len - len(self.coefficients), 0))\n",
    "        coef2 = np.pad(other.coefficients, (max_len - len(other.coefficients), 0))\n",
    "        return Polynomial(coef1 - coef2)\n",
    "    \n",
    "    def __mul__(self, other):\n",
    "        new_coeffs = np.polymul(self.coefficients, other.coefficients)\n",
    "        return Polynomial(new_coeffs)\n",
    "    def __truediv__(self, other):\n",
    "        quotient, remainder = np.polydiv(self.coefficients, other.coefficients)\n",
    "        return Polynomial(quotient), Polynomial(remainder)\n",
    "    \n",
    "    def derivative(self):\n",
    "        return Polynomial(np.polyder(self.coefficients))\n",
    "    \n",
    "    def integral(self):\n",
    "        integral_coeffs = np.polyint(self.coefficients)\n",
    "        return Polynomial(integral_coeffs)\n",
    "    \n",
    "    def roots(self):\n",
    "        return np.roots(self.coefficients)\n",
    "\n",
    "\n",
    "    \n",
    "    def __str__(self):\n",
    "        terms = []\n",
    "        degree = self.degree()\n",
    "        for i, coef in enumerate(self.coefficients):\n",
    "            if coef != 0:\n",
    "                exp = degree - i\n",
    "                if exp == 0:\n",
    "                    terms.append(f\"{coef:.2f}\")\n",
    "                elif exp == 1:\n",
    "                    terms.append(f\"{coef:.2f}x\")\n",
    "                else:\n",
    "                    terms.append(f\"{coef:.2f}x^{exp}\")\n",
    "        return \" + \".join(terms).replace(\"+ -\", \"- \")\n",
    "\n",
    "\n"
   ]
  },
  {
   "cell_type": "code",
   "execution_count": 2,
   "id": "ac4ad98d-4615-454f-af4f-d94ba6fb0b6c",
   "metadata": {},
   "outputs": [
    {
     "name": "stdout",
     "output_type": "stream",
     "text": [
      "p1: 3.00x^2 + 2.00x - 1.00\n",
      "p2: 1.00x - 1.00\n",
      "Sum: 3.00x^2 + 3.00x - 2.00\n",
      "Product: 3.00x^3 - 1.00x^2 - 3.00x + 1.00\n",
      "Quotient: 3.00x + 5.00\n",
      "Remainder: 4.00\n",
      "Derivative of p1: 6.00x + 2.00\n",
      "Integral of p1: 1.00x^3 + 1.00x^2 - 1.00x\n",
      "Roots of p1: [-1.          0.33333333]\n"
     ]
    }
   ],
   "source": [
    "\n",
    "p1 = Polynomial([3, 2, -1])  \n",
    "p2 = Polynomial([1, -1]) \n",
    "\n",
    "print(\"p1:\", p1)\n",
    "print(\"p2:\", p2)\n",
    "print(\"Sum:\", p1 + p2)\n",
    "print(\"Product:\", p1 * p2)\n",
    "quotient, remainder = p1 / p2\n",
    "print(\"Quotient:\", quotient)\n",
    "print(\"Remainder:\", remainder)\n",
    "print(\"Derivative of p1:\", p1.derivative())\n",
    "print(\"Integral of p1:\", p1.integral())\n",
    "print(\"Roots of p1:\", p1.roots())"
   ]
  },
  {
   "cell_type": "code",
   "execution_count": 3,
   "id": "cb3e3d11-11ed-48a5-96d0-d77ff0d5d90b",
   "metadata": {},
   "outputs": [
    {
     "data": {
      "text/plain": [
       "2"
      ]
     },
     "execution_count": 3,
     "metadata": {},
     "output_type": "execute_result"
    }
   ],
   "source": [
    "Polynomial.degree(p1)"
   ]
  },
  {
   "cell_type": "code",
   "execution_count": 4,
   "id": "ea166b1d-0fc9-46b6-9b6c-c33cfaca20cf",
   "metadata": {},
   "outputs": [],
   "source": [
    "class Tax: ## Isn't applicable anymore\n",
    "    def __init__(self, salary, deduction=0):\n",
    "        self.salary = salary\n",
    "        self.deduction = deduction\n",
    "    \n",
    "    def taxincome(self):\n",
    "        return max(0, self.salary - self.deduction)\n",
    "    \n",
    "    def calculate_tax(self):\n",
    "        taxincome = self.taxincome()\n",
    "        tax = 0\n",
    "        \n",
    "        if taxincome <= 250000:\n",
    "            return tax\n",
    "        elif taxincome <= 500000:\n",
    "            tax += (taxincome - 250000) * 0.05\n",
    "        elif taxincome <= 1000000:\n",
    "            tax += (500000 - 250000) * 0.05 \n",
    "            tax += (taxincome - 500000) * 0.20\n",
    "        else:\n",
    "            tax += (500000 - 250000) * 0.05  \n",
    "            tax += (1000000 - 500000) * 0.20  \n",
    "            tax += (taxincome - 1000000) * 0.30  \n",
    "        \n",
    "        return tax\n",
    "    \n",
    "    def __str__(self):\n",
    "        return (f\"Salary: Rs {self.salary}, Deduction: Rs {self.deduction}, \"\n",
    "                f\"Taxable Income: Rs {self.taxincome()}, Tax: Rs {self.calculate_tax()}\")\n",
    "\n"
   ]
  },
  {
   "cell_type": "code",
   "execution_count": 5,
   "id": "6c3908b2-ae27-4d15-9fbf-aa6cd9d4c9b3",
   "metadata": {},
   "outputs": [
    {
     "name": "stdout",
     "output_type": "stream",
     "text": [
      "Salary: Rs 1200000, Deduction: Rs 50000, Taxable Income: Rs 1150000, Tax: Rs 157500.0\n"
     ]
    }
   ],
   "source": [
    "s= 1200000\n",
    "d= 50000 \n",
    "a = Tax(s,d)\n",
    "print(a)\n"
   ]
  },
  {
   "cell_type": "code",
   "execution_count": 6,
   "id": "e2745ee3-40a6-4d75-be6c-3d24404307a8",
   "metadata": {},
   "outputs": [],
   "source": [
    "class rectangle:\n",
    "    def __init__(self,length,breadth):\n",
    "        self.length = length\n",
    "        self.breadth = breadth\n",
    "\n",
    "    def area(length,breadth):\n",
    "        area= (length*breadth)\n",
    "        return area\n",
    "\n",
    "    def perimeter(length,breadth):\n",
    "        perimeter= (2*(length)+2*(breadth))\n",
    "        return perimeter"
   ]
  },
  {
   "cell_type": "code",
   "execution_count": 7,
   "id": "80a68cca-770b-4297-9d7b-88dae4f5de14",
   "metadata": {},
   "outputs": [
    {
     "name": "stdout",
     "output_type": "stream",
     "text": [
      "50\n"
     ]
    }
   ],
   "source": [
    "l=10\n",
    "b=5\n",
    "A= rectangle.area(l,b)\n",
    "print (A)"
   ]
  },
  {
   "cell_type": "code",
   "execution_count": 8,
   "id": "b0bfa22a-b202-4055-85f5-e6d9a27f25c1",
   "metadata": {},
   "outputs": [
    {
     "name": "stdout",
     "output_type": "stream",
     "text": [
      "30\n"
     ]
    }
   ],
   "source": [
    "P= rectangle.perimeter(l,b)\n",
    "print(P)"
   ]
  },
  {
   "cell_type": "code",
   "execution_count": null,
   "id": "a9b142ed-f599-4955-9531-8eeecc2836c1",
   "metadata": {},
   "outputs": [],
   "source": []
  },
  {
   "cell_type": "code",
   "execution_count": 2,
   "id": "3d933999-c6c7-4536-9d48-a9b2b7e04f14",
   "metadata": {},
   "outputs": [
    {
     "name": "stdout",
     "output_type": "stream",
     "text": [
      "Average Physics Marks: 58.40\n",
      "Average Chemistry Marks: 58.70\n",
      "Average Mathematics Marks: 61.60\n",
      "\n",
      "om: GPA = 9.33\n",
      "kushal: GPA = 9.67\n",
      "sharthak: GPA = 9.67\n",
      "tanmay: GPA = 6.00\n",
      "amogh: GPA = 5.00\n",
      "anjali: GPA = 8.67\n",
      "amaan: GPA = 9.33\n",
      "ankit: GPA = 5.17\n",
      "divyank: GPA = 5.50\n",
      "prashad: GPA = 5.00\n"
     ]
    }
   ],
   "source": [
    "class Student:\n",
    "    def __init__(self, name, phy, chem, math):\n",
    "        self.name = name\n",
    "        self.phy = phy\n",
    "        self.chem = chem\n",
    "        self.math = math\n",
    "        self.avg_marks = self.average()\n",
    "\n",
    "    def average(self):\n",
    "        return (self.phy + self.chem + self.math) / 3\n",
    "\n",
    "def calculate_subject_averages(students):\n",
    "    num_students = len(students)\n",
    "    avg_phy = sum(s.phy for s in students) / num_students\n",
    "    avg_chem = sum(s.chem for s in students) / num_students\n",
    "    avg_math = sum(s.math for s in students) / num_students\n",
    "    return avg_phy, avg_chem, avg_math\n",
    "\n",
    "def assign_grades(marks):\n",
    "    if marks >= 90:\n",
    "        return \"AA\"\n",
    "    elif marks >= 80:\n",
    "        return \"AB\"\n",
    "    elif marks >= 70:\n",
    "        return \"BB\"\n",
    "    elif marks >= 60:\n",
    "        return \"BC\"\n",
    "    elif marks >= 50:\n",
    "        return \"CC\"\n",
    "    elif marks >= 45:\n",
    "        return \"CD\"\n",
    "    elif marks >= 40:\n",
    "        return \"DD\"\n",
    "    else:\n",
    "        return \"EE\"\n",
    "\n",
    "grade_to_gpa = {\n",
    "    \"AA\": 10, \"AB\": 9, \"BB\": 8, \"BC\": 7,\n",
    "    \"CC\": 6.5, \"CD\": 6, \"DD\": 5.5, \"EE\": 5\n",
    "}\n",
    "\n",
    "def calculate_gpa(student):\n",
    "    grades = [assign_grades(student.phy), assign_grades(student.chem), assign_grades(student.math)]\n",
    "    gpa_values = [grade_to_gpa[grade] for grade in grades]\n",
    "    return sum(gpa_values) / len(gpa_values)\n",
    "    \n",
    "students = [\n",
    "    Student(\"om\", 85, 90, 80),\n",
    "    Student(\"kushal\", 90, 85, 90),\n",
    "    Student(\"sharthak\", 92, 88, 95),\n",
    "    Student(\"tanmay\", 40, 45, 50),\n",
    "    Student(\"amogh\", 30, 35, 38) ,\n",
    "    Student(\"anjali\", 85, 70, 80),\n",
    "    Student(\"amaan\", 90, 85, 80),\n",
    "    Student(\"ankit\", 42, 19, 15),\n",
    "    Student(\"divyank\", 00, 35, 50),\n",
    "    Student(\"prashad\", 30, 35, 38)  \n",
    "]\n",
    " \n",
    "avg_phy, avg_chem, avg_math = calculate_subject_averages(students)\n",
    "print(f\"Average Physics Marks: {avg_phy:.2f}\")\n",
    "print(f\"Average Chemistry Marks: {avg_chem:.2f}\")\n",
    "print(f\"Average Mathematics Marks: {avg_math:.2f}\\n\")\n",
    "\n",
    "for student in students:\n",
    "    gpa = calculate_gpa(student)\n",
    "    print(f\"{student.name}: GPA = {gpa:.2f}\")\n"
   ]
  },
  {
   "cell_type": "code",
   "execution_count": null,
   "id": "7d0d6e99-918b-45b4-b81e-488820943160",
   "metadata": {},
   "outputs": [],
   "source": []
  }
 ],
 "metadata": {
  "kernelspec": {
   "display_name": "Python 3 (ipykernel)",
   "language": "python",
   "name": "python3"
  },
  "language_info": {
   "codemirror_mode": {
    "name": "ipython",
    "version": 3
   },
   "file_extension": ".py",
   "mimetype": "text/x-python",
   "name": "python",
   "nbconvert_exporter": "python",
   "pygments_lexer": "ipython3",
   "version": "3.12.7"
  }
 },
 "nbformat": 4,
 "nbformat_minor": 5
}
