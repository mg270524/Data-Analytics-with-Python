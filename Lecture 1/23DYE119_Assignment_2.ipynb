{
 "cells": [
  {
   "cell_type": "markdown",
   "id": "10525abb-1ad5-4f86-86a9-404d687b0aa8",
   "metadata": {},
   "source": [
    "### Write a python programme (UDF) to input three real numbers 𝑎, 𝑏 and 𝑐 and check if it forms a triangle. If so find the nature of the triangle and hence print its area using the Heron’s formula.\n"
   ]
  },
  {
   "cell_type": "code",
   "execution_count": 134,
   "id": "a91d38bd-a180-4154-bbad-2154f3df45df",
   "metadata": {},
   "outputs": [],
   "source": [
    "import cmath\n",
    "def triangle(a,b,c):\n",
    "    if(a+b<=c or b+c<=a or c+a<=b):\n",
    "        return (f'The given {a},{b},{c} do not form a triangle')\n",
    "    else:\n",
    "        s=(a+b+c)/2\n",
    "        A=(math.sqrt(s * (s - a) * (s - b) * (s - c)))\n",
    "        if (a==b==c):\n",
    "            return (f'The triangle with sides {a},{b},{c} froms an equilateral triangle, with an area of {A:.2f} sq.units')\n",
    "        else:\n",
    "            if (a==b or b==c or c==a):\n",
    "                return (f'The triangle with sides {a},{b},{c} froms an isosceles triangle, with an area of {A:.2f} sq.units')\n",
    "            else:\n",
    "                return(f'The triangle with sides {a},{b},{c} froms a scalene triangle, with an area of {A:.2f} sq.units')\n",
    "    \n",
    "        \n",
    "    \n",
    "    \n",
    "        \n",
    "       "
   ]
  },
  {
   "cell_type": "code",
   "execution_count": 135,
   "id": "d4fd13ab-1655-4ae6-a2e8-9ac9fc367d08",
   "metadata": {},
   "outputs": [
    {
     "data": {
      "text/plain": [
       "'The given 1,2,3 do not form a triangle'"
      ]
     },
     "execution_count": 135,
     "metadata": {},
     "output_type": "execute_result"
    }
   ],
   "source": [
    "triangle(1,2,3)"
   ]
  },
  {
   "cell_type": "code",
   "execution_count": 141,
   "id": "7759cba2-69d5-498e-9a3e-ebce2d6fa9c9",
   "metadata": {},
   "outputs": [
    {
     "data": {
      "text/plain": [
       "'The triangle with sides 14,10,14 froms an isosceles triangle, with an area of 65.38 sq.units'"
      ]
     },
     "execution_count": 141,
     "metadata": {},
     "output_type": "execute_result"
    }
   ],
   "source": [
    "triangle(14,10,14)"
   ]
  },
  {
   "cell_type": "markdown",
   "id": "f9c9b049-4ef8-488e-93b0-7d4fb9f9e875",
   "metadata": {},
   "source": [
    "## Illustrate with examples how to iterate over a dictionary data."
   ]
  },
  {
   "cell_type": "code",
   "execution_count": 160,
   "id": "d3150166-4bef-48ab-878c-1b7787539802",
   "metadata": {},
   "outputs": [],
   "source": [
    "library = {\n",
    "    'physics': {'year': '2004', 'author': 'zollinger', 'price': {'hardcover': 80, 'ebook': 60}},\n",
    "    'chemistry': {'year': '2006', 'author': 'david', 'price': {'hardcover': 90, 'ebook': 70}},\n",
    "    'maths': {'year': '2008', 'author': 'tom', 'price': {'hardcover': 40, 'ebook': 30}},\n",
    "    'statistics': {'year': '2010', 'author': 'jerry', 'price': {'hardcover': 60, 'ebook': 40}},\n",
    "    'history': {'year': '2006', 'author': 'thomas', 'price': {'hardcover': 80, 'ebook': 750}},\n",
    "    'geography': {'year': '2009', 'author': 'tom', 'price': {'hardcover': 70, 'ebook': 60}},\n",
    "    'politics': {'year': '1998', 'author': 'henry', 'price': {'hardcover': 30, 'ebook': 20}},\n",
    "    'drawing': {'year': '2007', 'author': 'keith', 'price': {'hardcover': 15, 'ebook': 10}},\n",
    "    'sculpting': {'year': '2014', 'author': 'julia', 'price': {'hardcover': 100, 'ebook': 60}},\n",
    "    'aerodynamics': {'year': '1999', 'author': 'java', 'price': {'hardcover': 20, 'ebook': 15}},\n",
    "}\n"
   ]
  },
  {
   "cell_type": "code",
   "execution_count": 161,
   "id": "ff1fac0a-ac88-42a6-8706-a66d4fd15bdc",
   "metadata": {},
   "outputs": [
    {
     "name": "stdout",
     "output_type": "stream",
     "text": [
      "Name: physics\n",
      "Year: 2004\n",
      "Author: zollinger\n",
      "Prices: Hardcover - $80, Ebook - $60\n",
      "\n",
      "Name: chemistry\n",
      "Year: 2006\n",
      "Author: david\n",
      "Prices: Hardcover - $90, Ebook - $70\n",
      "\n",
      "Name: maths\n",
      "Year: 2008\n",
      "Author: tom\n",
      "Prices: Hardcover - $40, Ebook - $30\n",
      "\n",
      "Name: statistics\n",
      "Year: 2010\n",
      "Author: jerry\n",
      "Prices: Hardcover - $60, Ebook - $40\n",
      "\n",
      "Name: history\n",
      "Year: 2006\n",
      "Author: thomas\n",
      "Prices: Hardcover - $80, Ebook - $750\n",
      "\n",
      "Name: geography\n",
      "Year: 2009\n",
      "Author: tom\n",
      "Prices: Hardcover - $70, Ebook - $60\n",
      "\n",
      "Name: politics\n",
      "Year: 1998\n",
      "Author: henry\n",
      "Prices: Hardcover - $30, Ebook - $20\n",
      "\n",
      "Name: drawing\n",
      "Year: 2007\n",
      "Author: keith\n",
      "Prices: Hardcover - $15, Ebook - $10\n",
      "\n",
      "Name: sculpting\n",
      "Year: 2014\n",
      "Author: julia\n",
      "Prices: Hardcover - $100, Ebook - $60\n",
      "\n",
      "Name: aerodynamics\n",
      "Year: 1999\n",
      "Author: java\n",
      "Prices: Hardcover - $20, Ebook - $15\n",
      "\n"
     ]
    }
   ],
   "source": [
    "for book, details in library.items():\n",
    "    print(f\"Name: {book}\")\n",
    "    print(f\"Year: {details['year']}\")\n",
    "    print(f\"Author: {details['author']}\")\n",
    "    print(f\"Prices: Hardcover - ${details['price']['hardcover']}, Ebook - ${details['price']['ebook']}\")\n",
    "    print()"
   ]
  },
  {
   "cell_type": "code",
   "execution_count": 162,
   "id": "d42cd80a-9f30-4707-af00-86431859ccc0",
   "metadata": {},
   "outputs": [
    {
     "data": {
      "text/plain": [
       "dict_keys(['physics', 'chemistry', 'maths', 'statistics', 'history', 'geography', 'politics', 'drawing', 'sculpting', 'aerodynamics'])"
      ]
     },
     "execution_count": 162,
     "metadata": {},
     "output_type": "execute_result"
    }
   ],
   "source": [
    "library.keys()"
   ]
  },
  {
   "cell_type": "code",
   "execution_count": 163,
   "id": "7b354e96-3f22-4bcb-8ace-de2eae3a79bd",
   "metadata": {},
   "outputs": [
    {
     "name": "stdout",
     "output_type": "stream",
     "text": [
      "Books by each author:\n",
      "  zollinger: 1\n",
      "  david: 1\n",
      "  tom: 2\n",
      "  jerry: 1\n",
      "  thomas: 1\n",
      "  henry: 1\n",
      "  keith: 1\n",
      "  julia: 1\n",
      "  java: 1\n"
     ]
    }
   ],
   "source": [
    "author_count = {}\n",
    "for book, details in library.items():\n",
    "    author = details['author']\n",
    "    author_count[author] = author_count.get(author, 0) + 1\n",
    "\n",
    "print(\"Books by each author:\")\n",
    "for author, count in author_count.items():\n",
    "    print(f\"  {author}: {count}\")\n"
   ]
  },
  {
   "cell_type": "code",
   "execution_count": 164,
   "id": "75448c3a-b98a-4d8c-b3c9-559bedaebb98",
   "metadata": {},
   "outputs": [
    {
     "name": "stdout",
     "output_type": "stream",
     "text": [
      "Prices for physics:\n",
      "  Hardcover: $80\n",
      "  Ebook: $60\n",
      "\n",
      "Prices for chemistry:\n",
      "  Hardcover: $90\n",
      "  Ebook: $70\n",
      "\n",
      "Prices for maths:\n",
      "  Hardcover: $40\n",
      "  Ebook: $30\n",
      "\n",
      "Prices for statistics:\n",
      "  Hardcover: $60\n",
      "  Ebook: $40\n",
      "\n",
      "Prices for history:\n",
      "  Hardcover: $80\n",
      "  Ebook: $750\n",
      "\n",
      "Prices for geography:\n",
      "  Hardcover: $70\n",
      "  Ebook: $60\n",
      "\n",
      "Prices for politics:\n",
      "  Hardcover: $30\n",
      "  Ebook: $20\n",
      "\n",
      "Prices for drawing:\n",
      "  Hardcover: $15\n",
      "  Ebook: $10\n",
      "\n",
      "Prices for sculpting:\n",
      "  Hardcover: $100\n",
      "  Ebook: $60\n",
      "\n",
      "Prices for aerodynamics:\n",
      "  Hardcover: $20\n",
      "  Ebook: $15\n",
      "\n"
     ]
    }
   ],
   "source": [
    "for book, details in library.items():\n",
    "    print(f\"Prices for {book}:\")\n",
    "    for format_type, price in details['price'].items():\n",
    "        print(f\"  {format_type.capitalize()}: ${price}\")\n",
    "    print()\n",
    "\n"
   ]
  },
  {
   "cell_type": "code",
   "execution_count": 165,
   "id": "b985036f-273d-4921-9930-f4f1712ce6b2",
   "metadata": {},
   "outputs": [
    {
     "name": "stdout",
     "output_type": "stream",
     "text": [
      "The most expensive hardcover is 'sculpting' costing $100.\n"
     ]
    }
   ],
   "source": [
    "most_expensive = max(library.items(), key=lambda x: x[1]['price']['hardcover'])\n",
    "print(f\"The most expensive hardcover is '{most_expensive[0]}' costing ${most_expensive[1]['price']['hardcover']}.\")\n"
   ]
  },
  {
   "cell_type": "markdown",
   "id": "12e003b7-9e5a-4a29-82ef-ab3bceffd92a",
   "metadata": {},
   "source": [
    "## Try and exept Examples"
   ]
  },
  {
   "cell_type": "code",
   "execution_count": 1,
   "id": "cc22bfc1-d9c9-470f-b430-312e026d3a1f",
   "metadata": {},
   "outputs": [
    {
     "name": "stdin",
     "output_type": "stream",
     "text": [
      "Enter a number:  4\n"
     ]
    },
    {
     "name": "stdout",
     "output_type": "stream",
     "text": [
      "Result: 2.5\n"
     ]
    }
   ],
   "source": [
    "try:\n",
    "    num = int(input(\"Enter a number: \"))\n",
    "    result = 10 / num\n",
    "    print(f\"Result: {result}\")\n",
    "except ZeroDivisionError:\n",
    "    print(\"Error: Division by zero is not allowed.\")"
   ]
  },
  {
   "cell_type": "code",
   "execution_count": 3,
   "id": "cb3f7444-89a8-4d08-8e62-0dd9f3e586d4",
   "metadata": {},
   "outputs": [
    {
     "name": "stdin",
     "output_type": "stream",
     "text": [
      "Enter a number:  8\n"
     ]
    },
    {
     "name": "stdout",
     "output_type": "stream",
     "text": [
      "Result: 1.25\n"
     ]
    }
   ],
   "source": [
    "\n",
    "try:\n",
    "    num = int(input(\"Enter a number: \"))\n",
    "    result = 10 / num\n",
    "    print(f\"Result: {result}\")\n",
    "except ZeroDivisionError:\n",
    "    print(\"Error: Division by zero is not allowed.\")\n",
    "except ValueError:\n",
    "    print(\"Error: Please enter a valid integer.\")"
   ]
  },
  {
   "cell_type": "markdown",
   "id": "6d12dfd5-d0eb-4395-be7e-3fdb71068939",
   "metadata": {},
   "source": [
    "try:\n",
    "    num = int(input(\"Enter a number: \"))\n",
    "    result = 10 / num\n",
    "    print(f\"Result: {result}\")\n",
    "except Exception as e:\n",
    "    print(f\"An error occurred: {e}\")\n"
   ]
  },
  {
   "cell_type": "code",
   "execution_count": 5,
   "id": "f41c35d6-1038-40ee-baed-3407d2829c6d",
   "metadata": {},
   "outputs": [
    {
     "name": "stdin",
     "output_type": "stream",
     "text": [
      "Enter a number:  8\n"
     ]
    },
    {
     "name": "stdout",
     "output_type": "stream",
     "text": [
      "Result: 1.25\n"
     ]
    }
   ],
   "source": [
    "try:\n",
    "    num = int(input(\"Enter a number: \"))\n",
    "    result = 10 / num\n",
    "    print(f\"Result: {result}\")\n",
    "except Exception as e:\n",
    "    print(f\"An error occurred: {e}\")\n"
   ]
  },
  {
   "cell_type": "markdown",
   "id": "13563143-1740-4f19-9043-f8e7bff8058e",
   "metadata": {},
   "source": [
    "## Bisection"
   ]
  },
  {
   "cell_type": "code",
   "execution_count": 17,
   "id": "db753286-248d-459b-b17a-af1723da8ec0",
   "metadata": {},
   "outputs": [
    {
     "name": "stdin",
     "output_type": "stream",
     "text": [
      "Enter the coefficient a:  3\n",
      "Enter the coefficient b:  4\n",
      "Enter the coefficient c:  2\n",
      "Enter the coefficient d:  2\n",
      "Enter the lower bound of the interval:  3\n",
      "Enter the upper bound of the interval:  -20\n"
     ]
    },
    {
     "name": "stdout",
     "output_type": "stream",
     "text": [
      "The root of the cubic equation in the interval [3.0, -20.0] is approximately: -8.5000\n"
     ]
    }
   ],
   "source": [
    "import math\n",
    "def bisection_method(func, a, b, tol=1e-6, max_itr=100):\n",
    "    if func(a) * func(b) >= 0:\n",
    "        raise ValueError(\"The function must have opposite signs at the endpoints a and b.\")\n",
    "    itr = 0\n",
    "    while (b - a) / 2 > tol and itr < max_itr:\n",
    "        c = (a + b) / 2\n",
    "        if func(c) == 0:  \n",
    "            return c\n",
    "        elif func(a) * func(c) < 0:\n",
    "            b = c \n",
    "        else:\n",
    "            a = c  \n",
    "        itr = itr + 1\n",
    "    return (a + b) / 2  \n",
    "def cubic_function(x, a, b, c, d):\n",
    "    return a * x**3 + b * x**2 + c * x + d\n",
    "def main():\n",
    "    a = float(input(\"Enter the coefficient a: \"))\n",
    "    b = float(input(\"Enter the coefficient b: \"))\n",
    "    c = float(input(\"Enter the coefficient c: \"))\n",
    "    d = float(input(\"Enter the coefficient d: \")) \n",
    "    lower_bound = float(input(\"Enter the lower bound of the interval: \"))\n",
    "    upper_bound = float(input(\"Enter the upper bound of the interval: \"))\n",
    "    func = lambda x: cubic_function(x, a, b, c, d)\n",
    "    try:\n",
    "        root = bisection_method(func, lower_bound, upper_bound)\n",
    "        print(f\"The root of the cubic equation in the interval [{lower_bound}, {upper_bound}] is approximately: {root:.4f}\")\n",
    "    except ValueError as e:\n",
    "        print(e)\n",
    "if __name__ == \"__main__\":\n",
    "    main()\n"
   ]
  },
  {
   "cell_type": "markdown",
   "id": "57361520-46c8-4d91-8158-56c82856f8b3",
   "metadata": {},
   "source": [
    "## Approximation of Pi"
   ]
  },
  {
   "cell_type": "code",
   "execution_count": 4,
   "id": "04815bfd-07dc-4861-be4a-fd14cd614cfa",
   "metadata": {},
   "outputs": [
    {
     "name": "stdin",
     "output_type": "stream",
     "text": [
      "Enter the number of points  1000000\n"
     ]
    },
    {
     "name": "stdout",
     "output_type": "stream",
     "text": [
      "Approximate value of π using 1000000 points: 3.14438\n"
     ]
    }
   ],
   "source": [
    "import random\n",
    "def pi(a):\n",
    "    inside = 0\n",
    "    for i in range(points):     \n",
    "        x = random.uniform(0, 1)\n",
    "        y = random.uniform(0, 1)\n",
    "        if x**2 + y**2 <= 1:\n",
    "            inside = inside + 1\n",
    "    pi = (inside / points) * 4\n",
    "    return pi\n",
    "points = int(input(\"Enter the number of points \"))\n",
    "approxpi = pi(points)\n",
    "print(f\"Approximate value of π using {points} points: {approxpi}\")"
   ]
  },
  {
   "cell_type": "markdown",
   "id": "2caa4927-24ec-467b-9c7d-ed1f5c4ca3c5",
   "metadata": {},
   "source": [
    "## Write a python programme to estimate the value of log(𝑎) for any positive real number 𝑎 using the Maclaurin series expansion\n"
   ]
  },
  {
   "cell_type": "code",
   "execution_count": 3,
   "id": "14b20392-5380-43e6-a2ae-32cba987646d",
   "metadata": {},
   "outputs": [],
   "source": [
    "def maclaurin(a, terms=100):\n",
    "    if a <= 0:\n",
    "        raise ValueError(\"Input positive number.\")\n",
    "    if a > 2:\n",
    "        k = int(a // 2) \n",
    "        a = a / (2**k)\n",
    "    x = a - 1 \n",
    "    if abs(x) >= 1:\n",
    "        raise ValueError(\"The series converges only for |x| < 1.\")\n",
    "    log_a = 0\n",
    "    for i in range(1, terms + 1):\n",
    "        log_a += ((-1)**(i-1)) * (x**i) / i\n",
    "    if a > 2:\n",
    "        log_a += k * 0.693147\n",
    "    return log_a\n"
   ]
  },
  {
   "cell_type": "code",
   "execution_count": 6,
   "id": "353ed439-abfa-4d15-824a-d49c171469d2",
   "metadata": {},
   "outputs": [
    {
     "data": {
      "text/plain": [
       "0.22314355131420976"
      ]
     },
     "execution_count": 6,
     "metadata": {},
     "output_type": "execute_result"
    }
   ],
   "source": [
    "maclaurin(5)"
   ]
  },
  {
   "cell_type": "markdown",
   "id": "b855492a-7627-451b-a2b8-9b9fab51d05d",
   "metadata": {},
   "source": [
    "## Write a Python programme to find roots of a depressed cubic 𝑥\n",
    "## 3 + 𝑝𝑥 + 𝑞 = 0. by considering all possible cases. "
   ]
  },
  {
   "cell_type": "code",
   "execution_count": 10,
   "id": "4a039997-620f-436d-9987-bbb25e88de39",
   "metadata": {},
   "outputs": [],
   "source": [
    "import math\n",
    "import cmath\n",
    "def cubic(p, q):\n",
    "    D = -(4 * (p ** 3)) / 27 + q ** 2\n",
    "    roots = []\n",
    "    if D > 0:  \n",
    "        u = ((-q + math.sqrt(D)) / 2) ** (1 / 3)\n",
    "        v = ((-q - math.sqrt(D)) / 2) ** (1 / 3)\n",
    "        real_root = u + v\n",
    "        complex_root_1 = -(real_root / 2) + cmath.sqrt(3) * (u - v) * 1j / 2\n",
    "        complex_root_2 = -(real_root / 2) - cmath.sqrt(3) * (u - v) * 1j / 2\n",
    "        roots = [real_root, complex_root_1, complex_root_2]\n",
    "    elif D == 0: \n",
    "        u = (-q / 2) ** (1 / 3)\n",
    "        if q == 0: \n",
    "            roots = [0, 0, 0]\n",
    "        else:\n",
    "            roots = [2 * u, -u, -u]\n",
    "    else: \n",
    "        r = math.sqrt(-(p ** 3) / 27)\n",
    "        phi = math.acos(-q / (2 * r))\n",
    "        root1 = 2 * r ** (1 / 3) * math.cos(phi / 3)\n",
    "        root2 = 2 * r ** (1 / 3) * math.cos((phi + 2 * math.pi) / 3)\n",
    "        root3 = 2 * r ** (1 / 3) * math.cos((phi + 4 * math.pi) / 3)\n",
    "        roots = [root1, root2, root3]\n",
    "    return roots"
   ]
  },
  {
   "cell_type": "code",
   "execution_count": 11,
   "id": "dd95e73c-5113-40fc-9f92-ec59b921d4d2",
   "metadata": {},
   "outputs": [
    {
     "data": {
      "text/plain": [
       "[(0.8981609516297212+1.5556604015970894j),\n",
       " (0.5829367061268507-1.373665598600911j),\n",
       " (-1.4810976577565718-0.18199480299617843j)]"
      ]
     },
     "execution_count": 11,
     "metadata": {},
     "output_type": "execute_result"
    }
   ],
   "source": [
    "cubic(1,4)"
   ]
  },
  {
   "cell_type": "markdown",
   "id": "4c14e5e7-9fa3-4720-98d7-bf974d612707",
   "metadata": {},
   "source": [
    "## Approximation of log"
   ]
  },
  {
   "cell_type": "code",
   "execution_count": 14,
   "id": "13fed37d-cae8-4c1a-abb7-9655e1d0577e",
   "metadata": {},
   "outputs": [
    {
     "name": "stdout",
     "output_type": "stream",
     "text": [
      "The approximate value of log(1.2) is 0.18232155679395462\n"
     ]
    }
   ],
   "source": [
    "n = 250\n",
    "a = 1.2\n",
    "x = a - 1  \n",
    "count = 0\n",
    "for i in range(1, n+1):\n",
    "    count += (-1)**(i-1) * (x**i) / i \n",
    "print(f\"The approximate value of log({a}) is {count}\")"
   ]
  },
  {
   "cell_type": "code",
   "execution_count": null,
   "id": "8a74f336-27c8-4a22-ac44-5737400a86f7",
   "metadata": {},
   "outputs": [],
   "source": []
  }
 ],
 "metadata": {
  "kernelspec": {
   "display_name": "Python 3 (ipykernel)",
   "language": "python",
   "name": "python3"
  },
  "language_info": {
   "codemirror_mode": {
    "name": "ipython",
    "version": 3
   },
   "file_extension": ".py",
   "mimetype": "text/x-python",
   "name": "python",
   "nbconvert_exporter": "python",
   "pygments_lexer": "ipython3",
   "version": "3.12.7"
  }
 },
 "nbformat": 4,
 "nbformat_minor": 5
}
