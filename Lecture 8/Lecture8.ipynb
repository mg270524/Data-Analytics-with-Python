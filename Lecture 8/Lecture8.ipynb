{
 "cells": [
  {
   "cell_type": "markdown",
   "id": "4860edaf-2eab-48b1-9f64-7d11f7d3a019",
   "metadata": {},
   "source": [
    "# Hypothesis Testing"
   ]
  },
  {
   "cell_type": "code",
   "execution_count": 22,
   "id": "2541fc40-1f89-47c9-808c-77c18c6ff837",
   "metadata": {},
   "outputs": [],
   "source": [
    "p = 0.3   # proportion of defective items\n",
    "n = 40\n",
    "x = 12      # number of defective items\n",
    "from scipy.stats import norm\n",
    "import numpy as np\n",
    "z = norm.ppf(1-0.05/2)\n",
    "import pandas as pd"
   ]
  },
  {
   "cell_type": "code",
   "execution_count": 2,
   "id": "74964280-20a5-47c3-9217-27b03bd73ec5",
   "metadata": {},
   "outputs": [
    {
     "data": {
      "text/plain": [
       "1.959963984540054"
      ]
     },
     "execution_count": 2,
     "metadata": {},
     "output_type": "execute_result"
    }
   ],
   "source": [
    "z"
   ]
  },
  {
   "cell_type": "code",
   "execution_count": 3,
   "id": "00aa9dcf-29a7-4e14-aa99-83a03bea10fa",
   "metadata": {},
   "outputs": [],
   "source": [
    "z1=norm.ppf(1-0.05)"
   ]
  },
  {
   "cell_type": "code",
   "execution_count": 4,
   "id": "a5a7086e-361c-424a-88fc-2056e72e317d",
   "metadata": {},
   "outputs": [
    {
     "data": {
      "text/plain": [
       "1.6448536269514722"
      ]
     },
     "execution_count": 4,
     "metadata": {},
     "output_type": "execute_result"
    }
   ],
   "source": [
    "z1"
   ]
  },
  {
   "cell_type": "code",
   "execution_count": 11,
   "id": "bc9ef0ae-9a87-4863-9c9f-ca7a0487a548",
   "metadata": {},
   "outputs": [],
   "source": [
    "s = np.sqrt(p*(1-p)/n)"
   ]
  },
  {
   "cell_type": "code",
   "execution_count": 12,
   "id": "268fa3d8-c16f-4e43-9f2b-e7e8801b52ee",
   "metadata": {},
   "outputs": [
    {
     "data": {
      "text/plain": [
       "0.1579871174553373"
      ]
     },
     "execution_count": 12,
     "metadata": {},
     "output_type": "execute_result"
    }
   ],
   "source": [
    "p-z*s"
   ]
  },
  {
   "cell_type": "code",
   "execution_count": 17,
   "id": "17f6a1a3-ced8-46ca-8d20-797284b355c2",
   "metadata": {},
   "outputs": [],
   "source": [
    "def testop(x,n,p0,alpha):\n",
    "    phat = x/n\n",
    "    se = np.sqrt(phat*(1-phat)/n)\n",
    "    zcrit = norm.ppf(1-(alpha/2))\n",
    "    zstar = (phat-p0)/se\n",
    "    cil = p0-(zcrit*se)\n",
    "    ciu = p0 + zcrit*se\n",
    "    pval = 1-norm.cdf(zstar)\n",
    "    print(f\"phat={phat}\\nse={se}\\nzcrit={zcrit}\\nzstar={zstar}\\ncil={cil}\\nciu={ciu}\\npval={pval}\")"
   ]
  },
  {
   "cell_type": "code",
   "execution_count": 19,
   "id": "f0b9439e-0f6b-482d-9bef-8eff1a5a5373",
   "metadata": {},
   "outputs": [
    {
     "name": "stdout",
     "output_type": "stream",
     "text": [
      "phat=0.3\n",
      "se=0.07245688373094719\n",
      "zcrit=1.6448536269514722\n",
      "zstar=0.0\n",
      "cil=0.1808190319975504\n",
      "ciu=0.4191809680024496\n",
      "pval=0.5\n"
     ]
    }
   ],
   "source": [
    "testop(x=12, n=40, p0=0.3, alpha=0.1)"
   ]
  },
  {
   "cell_type": "code",
   "execution_count": 18,
   "id": "8e8128eb-6083-4bbf-8c8e-4f210b74ab5a",
   "metadata": {},
   "outputs": [
    {
     "name": "stdout",
     "output_type": "stream",
     "text": [
      "phat=0.3\n",
      "se=0.07245688373094719\n",
      "zcrit=1.959963984540054\n",
      "zstar=0.0\n",
      "cil=0.1579871174553373\n",
      "ciu=0.44201288254466264\n",
      "pval=0.5\n"
     ]
    }
   ],
   "source": [
    "testop(x=12, n=40, p0=0.3, alpha=0.05)"
   ]
  },
  {
   "cell_type": "code",
   "execution_count": 20,
   "id": "17205d42-325a-4d62-ae4a-4497e368a89a",
   "metadata": {},
   "outputs": [
    {
     "name": "stdout",
     "output_type": "stream",
     "text": [
      "phat=0.3\n",
      "se=0.07245688373094719\n",
      "zcrit=1.8807936081512509\n",
      "zstar=0.0\n",
      "cil=0.16372355621227616\n",
      "ciu=0.4362764437877238\n",
      "pval=0.5\n"
     ]
    }
   ],
   "source": [
    "testop(x=12, n=40, p0=0.3, alpha=0.06)"
   ]
  },
  {
   "cell_type": "code",
   "execution_count": 32,
   "id": "f2461e30-4c8c-461e-a701-5b305d82a741",
   "metadata": {},
   "outputs": [],
   "source": [
    "data = {\"Alpha\": [0.1, 0.05, 0.09], \"Confidence level\":[0.9, 0.95, 0.99], \"Zstar\": [0,0,0], \"Zcrit\": [1.644, 1.959, 1.88], \"SE\": [0.072,0.072,0.072], \"CIL\": [0.18,0.15,0.16], \"CIU\": [0.419, 0.442, 0.436]}"
   ]
  },
  {
   "cell_type": "code",
   "execution_count": 33,
   "id": "f9294080-0093-4603-ad12-73c1934a3781",
   "metadata": {},
   "outputs": [
    {
     "data": {
      "text/html": [
       "<div>\n",
       "<style scoped>\n",
       "    .dataframe tbody tr th:only-of-type {\n",
       "        vertical-align: middle;\n",
       "    }\n",
       "\n",
       "    .dataframe tbody tr th {\n",
       "        vertical-align: top;\n",
       "    }\n",
       "\n",
       "    .dataframe thead th {\n",
       "        text-align: right;\n",
       "    }\n",
       "</style>\n",
       "<table border=\"1\" class=\"dataframe\">\n",
       "  <thead>\n",
       "    <tr style=\"text-align: right;\">\n",
       "      <th></th>\n",
       "      <th>Alpha</th>\n",
       "      <th>Confidence level</th>\n",
       "      <th>Zstar</th>\n",
       "      <th>Zcrit</th>\n",
       "      <th>SE</th>\n",
       "      <th>CIL</th>\n",
       "      <th>CIU</th>\n",
       "    </tr>\n",
       "  </thead>\n",
       "  <tbody>\n",
       "    <tr>\n",
       "      <th>0</th>\n",
       "      <td>0.10</td>\n",
       "      <td>0.90</td>\n",
       "      <td>0</td>\n",
       "      <td>1.644</td>\n",
       "      <td>0.072</td>\n",
       "      <td>0.18</td>\n",
       "      <td>0.419</td>\n",
       "    </tr>\n",
       "    <tr>\n",
       "      <th>1</th>\n",
       "      <td>0.05</td>\n",
       "      <td>0.95</td>\n",
       "      <td>0</td>\n",
       "      <td>1.959</td>\n",
       "      <td>0.072</td>\n",
       "      <td>0.15</td>\n",
       "      <td>0.442</td>\n",
       "    </tr>\n",
       "    <tr>\n",
       "      <th>2</th>\n",
       "      <td>0.09</td>\n",
       "      <td>0.99</td>\n",
       "      <td>0</td>\n",
       "      <td>1.880</td>\n",
       "      <td>0.072</td>\n",
       "      <td>0.16</td>\n",
       "      <td>0.436</td>\n",
       "    </tr>\n",
       "  </tbody>\n",
       "</table>\n",
       "</div>"
      ],
      "text/plain": [
       "   Alpha  Confidence level  Zstar  Zcrit     SE   CIL    CIU\n",
       "0   0.10              0.90      0  1.644  0.072  0.18  0.419\n",
       "1   0.05              0.95      0  1.959  0.072  0.15  0.442\n",
       "2   0.09              0.99      0  1.880  0.072  0.16  0.436"
      ]
     },
     "execution_count": 33,
     "metadata": {},
     "output_type": "execute_result"
    }
   ],
   "source": [
    "df = pd.DataFrame(data)\n",
    "df"
   ]
  },
  {
   "cell_type": "code",
   "execution_count": null,
   "id": "ddeccaf2-5537-4091-8371-caf35743fc7b",
   "metadata": {},
   "outputs": [],
   "source": [
    "def testop2(x1,x2,n1,n2,p0):\n",
    "    p1hat = x1/n1\n",
    "    p2hat = x2/n2\n",
    "    phat = (x1+x2)/(n1+n2)\n",
    "    se = np.sqrt(phat*(1-phat)*((1/n1)+(1/n2)))\n",
    "    zstar = (p1hat-p2hat)/se"
   ]
  }
 ],
 "metadata": {
  "kernelspec": {
   "display_name": "Python 3 (ipykernel)",
   "language": "python",
   "name": "python3"
  },
  "language_info": {
   "codemirror_mode": {
    "name": "ipython",
    "version": 3
   },
   "file_extension": ".py",
   "mimetype": "text/x-python",
   "name": "python",
   "nbconvert_exporter": "python",
   "pygments_lexer": "ipython3",
   "version": "3.12.2"
  }
 },
 "nbformat": 4,
 "nbformat_minor": 5
}
